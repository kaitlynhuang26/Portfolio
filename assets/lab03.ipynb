{
 "cells": [
  {
   "cell_type": "code",
   "execution_count": 3,
   "metadata": {
    "deletable": false,
    "editable": false
   },
   "outputs": [],
   "source": [
    "# Initialize Otter\n",
    "import otter\n",
    "grader = otter.Notebook(\"lab03.ipynb\")"
   ]
  },
  {
   "cell_type": "code",
   "execution_count": 4,
   "metadata": {
    "cell_id": "f57fbd08ba444da1be726932e7c56cd0",
    "deepnote_cell_type": "code",
    "deepnote_to_be_reexecuted": false,
    "execution_millis": 1859,
    "execution_start": 1665542186037,
    "source_hash": "1526b418",
    "tags": []
   },
   "outputs": [],
   "source": [
    "import pandas as pd\n",
    "import numpy as np\n",
    "import plotly.express as px\n",
    "import plotly.graph_objects as go\n",
    "import statsmodels.api as sm\n",
    "from statsmodels.api import OLS\n",
    "import matplotlib.pyplot as plt\n",
    "import seaborn as sns\n",
    "%matplotlib inline"
   ]
  },
  {
   "cell_type": "markdown",
   "metadata": {
    "cell_id": "d81b0734e5a449159737bfd62ad5eba5",
    "deepnote_cell_type": "text-cell-h1",
    "formattedRanges": [],
    "is_collapsed": false,
    "tags": []
   },
   "source": [
    "# Lab 3: Wrangling Survey Data"
   ]
  },
  {
   "cell_type": "markdown",
   "metadata": {
    "cell_id": "37fa7e485e2a4111b76441d847cd4ef5",
    "collapsed": true,
    "deepnote_cell_type": "markdown",
    "jupyter": {
     "outputs_hidden": true
    }
   },
   "source": [
    "This lab uses a real-world dataset from the Rurals Water Project Spring Protection Study, collected by Innovations for Poverty Action in 2008. Professor Van Dusen was working as a Research Manager on the project at the time, and this is some of the follow-up work done after the main study.\n",
    "\n",
    "Part of this study was included in a Journal Article called [_Being Surveyed Can Change Later Behaviour and Related Parameter Estimates_](https://www.pnas.org/doi/epdf/10.1073/pnas.1000776108), published in the Proceedings of the National Academy of Science (PNAS). A summary of the work related to this notebook is contained in this [unpublished draft](https://berkeley.box.com/s/epj41ofw9bph99dim92dsa69gj17puul). \n",
    "\n",
    "In this project, there are two datasets from repeated visits to the same households. One of the datasets is at the household-level, and the other one is at the child-level (where there can be multiple children within a given household). Before embarking on the lab, make sure you understand the overall structure of the [survey](https://berkeley.app.box.com/s/2thnb8dan58o7w44mu9tpk1zy8l4c0no); it will be very helpful."
   ]
  },
  {
   "cell_type": "markdown",
   "metadata": {},
   "source": [
    "### Learning Objectives:\n",
    "- Perform an EDA of the Main Rural Project Spring Protection Study, a real-world developmental economics research project\n",
    "- Understand a complex survey\n",
    "- Understand the Hawthorne effect and finds empirical evidence\n",
    "- Analyzes survey data using Pandas tools we have learned so far"
   ]
  },
  {
   "cell_type": "markdown",
   "metadata": {
    "cell_id": "1de2459aa74e4df8bb7be8416cf03c83",
    "deepnote_cell_type": "text-cell-h2",
    "formattedRanges": [],
    "is_collapsed": false,
    "tags": []
   },
   "source": [
    "---\n",
    "## Phase 1: Explorative Data Analysis (EDA)"
   ]
  },
  {
   "cell_type": "markdown",
   "metadata": {
    "cell_id": "c915d7761d6f41a2a4d1a31dc14eedc3",
    "deepnote_cell_type": "text-cell-p",
    "formattedRanges": [],
    "is_collapsed": false,
    "tags": []
   },
   "source": [
    "Let's start off with loading in the dataset. Similar to many academic datasets, our dataset is stored in a Stata .dta file."
   ]
  },
  {
   "cell_type": "markdown",
   "metadata": {
    "cell_id": "d149b7caacf646f4acbc553a297c867c",
    "deepnote_cell_type": "markdown",
    "deletable": false,
    "editable": false,
    "tags": []
   },
   "source": [
    "**Question 1.1:** Load in the stata dataset `BWM_child_EVDvars.dta` and read it into a Pandas dataframe. Name it `wg_df`.\n",
    "\n",
    "Hint: Check out this [Pandas documentation](https://pandas.pydata.org/docs/user_guide/io.html) to see how to read in different types of files. "
   ]
  },
  {
   "cell_type": "code",
   "execution_count": 5,
   "metadata": {
    "cell_id": "82e0c5d23ea94bb9a63433140f844aea",
    "deepnote_cell_type": "code",
    "deepnote_table_loading": false,
    "deepnote_table_state": {
     "filters": [],
     "pageIndex": 0,
     "pageSize": 50,
     "sortBy": []
    },
    "deepnote_to_be_reexecuted": false,
    "execution_millis": 626,
    "execution_start": 1665542191398,
    "source_hash": "4524528f",
    "tags": []
   },
   "outputs": [
    {
     "data": {
      "text/html": [
       "<div>\n",
       "<style scoped>\n",
       "    .dataframe tbody tr th:only-of-type {\n",
       "        vertical-align: middle;\n",
       "    }\n",
       "\n",
       "    .dataframe tbody tr th {\n",
       "        vertical-align: top;\n",
       "    }\n",
       "\n",
       "    .dataframe thead th {\n",
       "        text-align: right;\n",
       "    }\n",
       "</style>\n",
       "<table border=\"1\" class=\"dataframe\">\n",
       "  <thead>\n",
       "    <tr style=\"text-align: right;\">\n",
       "      <th></th>\n",
       "      <th>a1_hh_id</th>\n",
       "      <th>a2_spring_id</th>\n",
       "      <th>bwm_round</th>\n",
       "      <th>quiz_id</th>\n",
       "      <th>child_id</th>\n",
       "      <th>child_observed</th>\n",
       "      <th>order_c</th>\n",
       "      <th>c3_1_child_id</th>\n",
       "      <th>c3_2a_name1</th>\n",
       "      <th>c3_2b_name2</th>\n",
       "      <th>...</th>\n",
       "      <th>assWG8</th>\n",
       "      <th>assWG9</th>\n",
       "      <th>assWG10</th>\n",
       "      <th>assWG11</th>\n",
       "      <th>assWG12</th>\n",
       "      <th>assWG13</th>\n",
       "      <th>assWG14</th>\n",
       "      <th>assWG15</th>\n",
       "      <th>MainBWM</th>\n",
       "      <th>round9</th>\n",
       "    </tr>\n",
       "  </thead>\n",
       "  <tbody>\n",
       "    <tr>\n",
       "      <th>0</th>\n",
       "      <td>11006</td>\n",
       "      <td>11</td>\n",
       "      <td>1</td>\n",
       "      <td>1105</td>\n",
       "      <td>04</td>\n",
       "      <td>1</td>\n",
       "      <td>NaN</td>\n",
       "      <td>NaN</td>\n",
       "      <td></td>\n",
       "      <td></td>\n",
       "      <td>...</td>\n",
       "      <td>0.0</td>\n",
       "      <td>0.0</td>\n",
       "      <td>0.0</td>\n",
       "      <td>0.0</td>\n",
       "      <td>0.0</td>\n",
       "      <td>0.0</td>\n",
       "      <td>0.0</td>\n",
       "      <td>0.0</td>\n",
       "      <td>1.0</td>\n",
       "      <td>NaN</td>\n",
       "    </tr>\n",
       "    <tr>\n",
       "      <th>1</th>\n",
       "      <td>11006</td>\n",
       "      <td>11</td>\n",
       "      <td>2</td>\n",
       "      <td>2135</td>\n",
       "      <td>04</td>\n",
       "      <td>1</td>\n",
       "      <td>NaN</td>\n",
       "      <td>NaN</td>\n",
       "      <td></td>\n",
       "      <td></td>\n",
       "      <td>...</td>\n",
       "      <td>0.0</td>\n",
       "      <td>0.0</td>\n",
       "      <td>0.0</td>\n",
       "      <td>0.0</td>\n",
       "      <td>0.0</td>\n",
       "      <td>0.0</td>\n",
       "      <td>0.0</td>\n",
       "      <td>0.0</td>\n",
       "      <td>1.0</td>\n",
       "      <td>NaN</td>\n",
       "    </tr>\n",
       "    <tr>\n",
       "      <th>2</th>\n",
       "      <td>11006</td>\n",
       "      <td>11</td>\n",
       "      <td>3</td>\n",
       "      <td>3141</td>\n",
       "      <td>04</td>\n",
       "      <td>1</td>\n",
       "      <td>NaN</td>\n",
       "      <td>NaN</td>\n",
       "      <td></td>\n",
       "      <td></td>\n",
       "      <td>...</td>\n",
       "      <td>0.0</td>\n",
       "      <td>0.0</td>\n",
       "      <td>0.0</td>\n",
       "      <td>0.0</td>\n",
       "      <td>0.0</td>\n",
       "      <td>0.0</td>\n",
       "      <td>0.0</td>\n",
       "      <td>0.0</td>\n",
       "      <td>1.0</td>\n",
       "      <td>NaN</td>\n",
       "    </tr>\n",
       "    <tr>\n",
       "      <th>3</th>\n",
       "      <td>11006</td>\n",
       "      <td>11</td>\n",
       "      <td>4</td>\n",
       "      <td>4099</td>\n",
       "      <td>04</td>\n",
       "      <td>1</td>\n",
       "      <td>NaN</td>\n",
       "      <td>NaN</td>\n",
       "      <td></td>\n",
       "      <td></td>\n",
       "      <td>...</td>\n",
       "      <td>0.0</td>\n",
       "      <td>0.0</td>\n",
       "      <td>0.0</td>\n",
       "      <td>0.0</td>\n",
       "      <td>0.0</td>\n",
       "      <td>0.0</td>\n",
       "      <td>0.0</td>\n",
       "      <td>0.0</td>\n",
       "      <td>1.0</td>\n",
       "      <td>NaN</td>\n",
       "    </tr>\n",
       "    <tr>\n",
       "      <th>4</th>\n",
       "      <td>11006</td>\n",
       "      <td>11</td>\n",
       "      <td>5</td>\n",
       "      <td>5107</td>\n",
       "      <td>04</td>\n",
       "      <td>1</td>\n",
       "      <td>NaN</td>\n",
       "      <td>NaN</td>\n",
       "      <td></td>\n",
       "      <td></td>\n",
       "      <td>...</td>\n",
       "      <td>0.0</td>\n",
       "      <td>0.0</td>\n",
       "      <td>0.0</td>\n",
       "      <td>0.0</td>\n",
       "      <td>0.0</td>\n",
       "      <td>0.0</td>\n",
       "      <td>0.0</td>\n",
       "      <td>0.0</td>\n",
       "      <td>1.0</td>\n",
       "      <td>NaN</td>\n",
       "    </tr>\n",
       "  </tbody>\n",
       "</table>\n",
       "<p>5 rows × 224 columns</p>\n",
       "</div>"
      ],
      "text/plain": [
       "   a1_hh_id  a2_spring_id  bwm_round  quiz_id child_id  child_observed  \\\n",
       "0     11006            11          1     1105       04               1   \n",
       "1     11006            11          2     2135       04               1   \n",
       "2     11006            11          3     3141       04               1   \n",
       "3     11006            11          4     4099       04               1   \n",
       "4     11006            11          5     5107       04               1   \n",
       "\n",
       "   order_c  c3_1_child_id c3_2a_name1 c3_2b_name2  ...  assWG8  assWG9  \\\n",
       "0      NaN            NaN                          ...     0.0     0.0   \n",
       "1      NaN            NaN                          ...     0.0     0.0   \n",
       "2      NaN            NaN                          ...     0.0     0.0   \n",
       "3      NaN            NaN                          ...     0.0     0.0   \n",
       "4      NaN            NaN                          ...     0.0     0.0   \n",
       "\n",
       "   assWG10  assWG11  assWG12  assWG13  assWG14  assWG15  MainBWM  round9  \n",
       "0      0.0      0.0      0.0      0.0      0.0      0.0      1.0     NaN  \n",
       "1      0.0      0.0      0.0      0.0      0.0      0.0      1.0     NaN  \n",
       "2      0.0      0.0      0.0      0.0      0.0      0.0      1.0     NaN  \n",
       "3      0.0      0.0      0.0      0.0      0.0      0.0      1.0     NaN  \n",
       "4      0.0      0.0      0.0      0.0      0.0      0.0      1.0     NaN  \n",
       "\n",
       "[5 rows x 224 columns]"
      ]
     },
     "execution_count": 5,
     "metadata": {},
     "output_type": "execute_result"
    }
   ],
   "source": [
    "wg_df = pd.read_stata('BWM_child_EVDvars.dta')\n",
    "wg_df.head()"
   ]
  },
  {
   "cell_type": "code",
   "execution_count": 6,
   "metadata": {
    "deletable": false,
    "editable": false
   },
   "outputs": [
    {
     "data": {
      "text/html": [
       "<p><strong><pre style='display: inline;'>q1_1</pre></strong> passed! 🌟</p>"
      ],
      "text/plain": [
       "q1_1 results: All test cases passed!"
      ]
     },
     "execution_count": 6,
     "metadata": {},
     "output_type": "execute_result"
    }
   ],
   "source": [
    "grader.check(\"q1_1\")"
   ]
  },
  {
   "cell_type": "markdown",
   "metadata": {
    "cell_id": "b3c05b6c7e9f492bb2d5ae4a5663609a",
    "deepnote_cell_type": "markdown",
    "deletable": false,
    "editable": false,
    "tags": []
   },
   "source": [
    "**Question 1.2:** Using the `shape` attribute, find the structure of the `wg_df` dataframe. How many rows and columns are there in the dataframe? Assign the values to the corresponding variables `N_rows` and `N_cols`. "
   ]
  },
  {
   "cell_type": "code",
   "execution_count": 7,
   "metadata": {
    "cell_id": "56beb7c8b0f34ddb97310633d89e0733",
    "deepnote_cell_type": "code",
    "deepnote_to_be_reexecuted": false,
    "execution_millis": 0,
    "execution_start": 1665438429011,
    "source_hash": "88185275",
    "tags": []
   },
   "outputs": [
    {
     "data": {
      "text/plain": [
       "(7782, 224)"
      ]
     },
     "execution_count": 7,
     "metadata": {},
     "output_type": "execute_result"
    }
   ],
   "source": [
    "N_rows = wg_df.shape[0]\n",
    "N_cols =  wg_df.shape[1]\n",
    "N_rows, N_cols"
   ]
  },
  {
   "cell_type": "code",
   "execution_count": 8,
   "metadata": {
    "deletable": false,
    "editable": false
   },
   "outputs": [
    {
     "data": {
      "text/html": [
       "<p><strong><pre style='display: inline;'>q1_2</pre></strong> passed! 🚀</p>"
      ],
      "text/plain": [
       "q1_2 results: All test cases passed!"
      ]
     },
     "execution_count": 8,
     "metadata": {},
     "output_type": "execute_result"
    }
   ],
   "source": [
    "grader.check(\"q1_2\")"
   ]
  },
  {
   "cell_type": "markdown",
   "metadata": {
    "cell_id": "b5137be6e5454c25b9da1c9af9fdca87",
    "deepnote_cell_type": "markdown",
    "tags": []
   },
   "source": [
    "**Granularity**: Now, let's focus on the granularity of the dataset. We define this as the level of aggregation in our data. \n",
    "\n",
    "- For geospatial data, think of data summarized over city, block, street, building, address, room number etc. as increasing level of granularity. \n",
    "\n",
    "- For time series data, granularity could for instance be weekly, daily, hourly averages of a variable. \n",
    "\n",
    "Survey data might be a bit trickier to entangle, but we're certain you got this!"
   ]
  },
  {
   "cell_type": "markdown",
   "metadata": {
    "cell_id": "bb68b9add254475895826bdc093af25c",
    "deepnote_cell_type": "markdown",
    "deletable": false,
    "editable": false,
    "tags": []
   },
   "source": [
    "<!-- BEGIN QUESTION -->\n",
    "\n",
    "**Question 1.3:** What is the granularity of our dataset? Think about what each row represents. Choose 3 arbitrary columns you find interesting and explain how they help you understand the dataset's granularity. One of them should identify the *primary key* of this dataset. (Note that the primary key can be a combination of 2 or more columns.)\n",
    "\n",
    "Hint: You can use [`pandas.Series.value_counts`](https://pandas.pydata.org/docs/reference/api/pandas.Series.value_counts.html) and/or [`pandas.Series.unique`](https://pandas.pydata.org/docs/reference/api/pandas.Series.unique.html)."
   ]
  },
  {
   "cell_type": "code",
   "execution_count": 9,
   "metadata": {},
   "outputs": [
    {
     "data": {
      "text/plain": [
       "Index(['a1_hh_id', 'a2_spring_id', 'bwm_round', 'quiz_id', 'child_id',\n",
       "       'child_observed', 'order_c', 'c3_1_child_id', 'c3_2a_name1',\n",
       "       'c3_2b_name2',\n",
       "       ...\n",
       "       'assWG8', 'assWG9', 'assWG10', 'assWG11', 'assWG12', 'assWG13',\n",
       "       'assWG14', 'assWG15', 'MainBWM', 'round9'],\n",
       "      dtype='object', length=224)"
      ]
     },
     "execution_count": 9,
     "metadata": {},
     "output_type": "execute_result"
    }
   ],
   "source": [
    "wg_df.columns"
   ]
  },
  {
   "cell_type": "markdown",
   "metadata": {},
   "source": [
    "Each row represents a unique child's health at each point in time recorded by the survey. \n",
    "\n",
    "The primary key is child_id (identifier for each child) and bwm_round(the survey round). \n",
    "\n",
    "Columns that help explain the dataset \n",
    "1. child_id to identify the child across the survey\n",
    "2. bwm_round to identify the survey round \n",
    "3. d6a1_7dd_n binary to indicate if a child had diarrhea in the past 7 days (1 for Yes, 0 for No)\n",
    "\n",
    "\n"
   ]
  },
  {
   "cell_type": "markdown",
   "metadata": {
    "cell_id": "a212bf0004c644039f757fad64cbc4f1",
    "deepnote_cell_type": "markdown",
    "deletable": false,
    "editable": false,
    "tags": []
   },
   "source": [
    "<!-- END QUESTION -->\n",
    "\n",
    "**Question 1.4** How many unique households and springs are there in this dataset? How many rounds of interviews were held? Assign the values to the corresponding variables. \n",
    "\n",
    "*Hint:* `a1_hh_id` is the household ID. `a2_spring_id` is the spring ID. `bwm_round` specifies the round of interview. "
   ]
  },
  {
   "cell_type": "code",
   "execution_count": 10,
   "metadata": {
    "cell_id": "d6752dbf90e541f68996160aae6acbc0",
    "deepnote_cell_type": "code",
    "deepnote_to_be_reexecuted": false,
    "execution_millis": 0,
    "execution_start": 1665438457347,
    "source_hash": "88185275",
    "tags": []
   },
   "outputs": [
    {
     "name": "stdout",
     "output_type": "stream",
     "text": [
      "Households:  320\n",
      "Springs:  72\n",
      "Interview Rounds:  20\n"
     ]
    }
   ],
   "source": [
    "num_households = wg_df['a1_hh_id'].nunique()\n",
    "num_springs = wg_df['a2_spring_id'].nunique()\n",
    "num_interview_rounds = wg_df['bwm_round'].nunique()\n",
    "\n",
    "print('Households: ', num_households)\n",
    "print('Springs: ', num_springs)\n",
    "print('Interview Rounds: ', num_interview_rounds)"
   ]
  },
  {
   "cell_type": "code",
   "execution_count": 11,
   "metadata": {
    "deletable": false,
    "editable": false
   },
   "outputs": [
    {
     "data": {
      "text/html": [
       "<p><strong><pre style='display: inline;'>q1_4</pre></strong> passed! 🙌</p>"
      ],
      "text/plain": [
       "q1_4 results: All test cases passed!"
      ]
     },
     "execution_count": 11,
     "metadata": {},
     "output_type": "execute_result"
    }
   ],
   "source": [
    "grader.check(\"q1_4\")"
   ]
  },
  {
   "cell_type": "markdown",
   "metadata": {
    "cell_id": "b7752fad123a4d05832932de2b7d1612",
    "deepnote_cell_type": "text-cell-h2",
    "formattedRanges": [],
    "is_collapsed": false,
    "tags": []
   },
   "source": [
    "---\n",
    "## Phase 2: Understanding the Survey"
   ]
  },
  {
   "cell_type": "markdown",
   "metadata": {
    "cell_id": "0c459e739b0e4118884087d8a51f24d0",
    "deepnote_cell_type": "text-cell-p",
    "formattedRanges": [],
    "is_collapsed": false,
    "tags": []
   },
   "source": [
    "Our EDA in Phase 1 helped us understand the general structure of the data. Now, turn to the [survey PDF](https://berkeley.app.box.com/s/2thnb8dan58o7w44mu9tpk1zy8l4c0no). Glance over it and try to put yourself in the shoes of the interviewer and answer the questions below. Throughout this lab, you might find it helpful to refer to [Appendix 1](#appendix_1) which connect the relevant survey sections with columns in our dataset."
   ]
  },
  {
   "cell_type": "markdown",
   "metadata": {
    "cell_id": "07d02eac590e42408e429f0e4929b677",
    "deepnote_cell_type": "text-cell-p",
    "deletable": false,
    "editable": false,
    "formattedRanges": [
     {
      "fromCodePoint": 0,
      "marks": {
       "bold": true
      },
      "toCodePoint": 13,
      "type": "marks"
     }
    ],
    "is_collapsed": false,
    "tags": []
   },
   "source": [
    "<!-- BEGIN QUESTION -->\n",
    "\n",
    "**Question 2.1:** What are the main parts of the survey? In this question, list out only the sections A, D, E, and G denoted by a letter and explain in 1 sentence what you believe to be its significance. We'll start you off with two:\n",
    "\n",
    "- Section A: Introduction with general respondent and interview round information and consent.\n",
    "- "
   ]
  },
  {
   "cell_type": "markdown",
   "metadata": {},
   "source": [
    "- Section D : Monitor the child's illness like diarheaa, and their symtoms, duration as well as potential causes\n",
    "- Section E: details of the examination done ex temperature if the child had diarheaa that day\n",
    "- Section G: details of the water consumed in the household to figure out the potential causes of the child's illness"
   ]
  },
  {
   "cell_type": "markdown",
   "metadata": {
    "cell_id": "5f3b55d34ddb445d93693f3552816ead",
    "deepnote_cell_type": "text-cell-p",
    "deletable": false,
    "editable": false,
    "formattedRanges": [
     {
      "fromCodePoint": 0,
      "marks": {
       "bold": true
      },
      "toCodePoint": 14,
      "type": "marks"
     }
    ],
    "is_collapsed": false,
    "tags": []
   },
   "source": [
    "<!-- END QUESTION -->\n",
    "\n",
    "<!-- BEGIN QUESTION -->\n",
    "\n",
    "**Question 2.2:** Outside of the paper's \"sphere of research interest\", what would be interesting datapoints to analyse further? This is an open-ended question, and we suggest you form a short research question and how you would use the data from the survey."
   ]
  },
  {
   "cell_type": "markdown",
   "metadata": {},
   "source": [
    "My research question: Does household size affect the spread of illness among children? I will use data from household ID (a1_hh_id) to count the number of children in the household, and illness rates (d6a1_7dd_n)."
   ]
  },
  {
   "cell_type": "markdown",
   "metadata": {
    "cell_id": "78528126e233421aa3b567fd74af3d06",
    "deepnote_cell_type": "text-cell-h2",
    "deletable": false,
    "editable": false,
    "formattedRanges": [],
    "is_collapsed": false,
    "tags": []
   },
   "source": [
    "<!-- END QUESTION -->\n",
    "\n",
    "---\n",
    "## Phase 3: Analyzing Disease Prevalence Across Survey Rounds"
   ]
  },
  {
   "cell_type": "markdown",
   "metadata": {
    "cell_id": "ddd9f2c9d019460d93ef0cd9ae813fb6",
    "deepnote_cell_type": "text-cell-p",
    "formattedRanges": [],
    "is_collapsed": false,
    "tags": []
   },
   "source": [
    "As we've learned from our EDA and analyzing the survey itself, we understand that our dataset is the result of a series of survey rounds (20 in total). A series of households were interviewed, asked primarily about the general health condition of children in the household over the past week. If a child was ill on the survey day, it was examined further for the symptoms of diarrhea. We now direct our focus to the result of **section D: The Health History tables** (starting Page 7 in the [survey](https://berkeley.app.box.com/s/2thnb8dan58o7w44mu9tpk1zy8l4c0no)) - one filled out for each child in the household per survey round. During the following questions, we suggest you **keep a close eye on the survey.**"
   ]
  },
  {
   "cell_type": "markdown",
   "metadata": {
    "cell_id": "8329f75799594c009476bc3bd9e379f3",
    "deepnote_cell_type": "text-cell-p",
    "deletable": false,
    "editable": false,
    "formattedRanges": [
     {
      "fromCodePoint": 0,
      "marks": {
       "bold": true
      },
      "toCodePoint": 14,
      "type": "marks"
     },
     {
      "fromCodePoint": 123,
      "ranges": [],
      "toCodePoint": 132,
      "type": "link",
      "url": "https://plotly.com/python/bar-charts/"
     }
    ],
    "is_collapsed": false,
    "tags": []
   },
   "source": [
    "**Question 3.1:** How many households were surveyed each round? Assign the result to a dataframe `grouped_by_round` with only two columns `bwm_round` and `count`. For now, exclude the survey rounds denoted 99 and 161."
   ]
  },
  {
   "cell_type": "code",
   "execution_count": 12,
   "metadata": {
    "cell_id": "42426e3ef70f4d57b4bb9c2ee2ad059b",
    "deepnote_cell_type": "code",
    "deepnote_table_loading": false,
    "deepnote_table_state": {
     "filters": [],
     "pageIndex": 0,
     "pageSize": 25,
     "sortBy": []
    },
    "deepnote_to_be_reexecuted": false,
    "execution_millis": 2439,
    "execution_start": 1665542206422,
    "scrolled": true,
    "source_hash": "56c0a989",
    "tags": []
   },
   "outputs": [
    {
     "data": {
      "text/html": [
       "<div>\n",
       "<style scoped>\n",
       "    .dataframe tbody tr th:only-of-type {\n",
       "        vertical-align: middle;\n",
       "    }\n",
       "\n",
       "    .dataframe tbody tr th {\n",
       "        vertical-align: top;\n",
       "    }\n",
       "\n",
       "    .dataframe thead th {\n",
       "        text-align: right;\n",
       "    }\n",
       "</style>\n",
       "<table border=\"1\" class=\"dataframe\">\n",
       "  <thead>\n",
       "    <tr style=\"text-align: right;\">\n",
       "      <th></th>\n",
       "      <th>bwm_round</th>\n",
       "      <th>count</th>\n",
       "    </tr>\n",
       "  </thead>\n",
       "  <tbody>\n",
       "    <tr>\n",
       "      <th>0</th>\n",
       "      <td>1</td>\n",
       "      <td>377</td>\n",
       "    </tr>\n",
       "    <tr>\n",
       "      <th>1</th>\n",
       "      <td>2</td>\n",
       "      <td>373</td>\n",
       "    </tr>\n",
       "    <tr>\n",
       "      <th>2</th>\n",
       "      <td>3</td>\n",
       "      <td>375</td>\n",
       "    </tr>\n",
       "    <tr>\n",
       "      <th>3</th>\n",
       "      <td>4</td>\n",
       "      <td>382</td>\n",
       "    </tr>\n",
       "    <tr>\n",
       "      <th>4</th>\n",
       "      <td>5</td>\n",
       "      <td>418</td>\n",
       "    </tr>\n",
       "  </tbody>\n",
       "</table>\n",
       "</div>"
      ],
      "text/plain": [
       "   bwm_round  count\n",
       "0          1    377\n",
       "1          2    373\n",
       "2          3    375\n",
       "3          4    382\n",
       "4          5    418"
      ]
     },
     "execution_count": 12,
     "metadata": {},
     "output_type": "execute_result"
    }
   ],
   "source": [
    "relevant_rounds=wg_df[(wg_df['bwm_round'] !=99) & (wg_df['bwm_round'] !=161) ]\n",
    "grouped_by_round= relevant_rounds.groupby('bwm_round').size().reset_index()\n",
    "grouped_by_round.columns = ['bwm_round', 'count']\n",
    "grouped_by_round.head()"
   ]
  },
  {
   "cell_type": "code",
   "execution_count": 13,
   "metadata": {
    "deletable": false,
    "editable": false
   },
   "outputs": [
    {
     "data": {
      "text/html": [
       "<p><strong><pre style='display: inline;'>q3_1</pre></strong> passed! ✨</p>"
      ],
      "text/plain": [
       "q3_1 results: All test cases passed!"
      ]
     },
     "execution_count": 13,
     "metadata": {},
     "output_type": "execute_result"
    }
   ],
   "source": [
    "grader.check(\"q3_1\")"
   ]
  },
  {
   "cell_type": "markdown",
   "metadata": {},
   "source": [
    "We can plot the data using a bar chart, as done below."
   ]
  },
  {
   "cell_type": "code",
   "execution_count": 14,
   "metadata": {},
   "outputs": [
    {
     "data": {
      "image/png": "[encoded data removed]",
      "text/plain": [
       "<Figure size 640x480 with 1 Axes>"
      ]
     },
     "metadata": {},
     "output_type": "display_data"
    }
   ],
   "source": [
    "plt.bar(grouped_by_round.index,grouped_by_round['count']);\n",
    "plt.xlabel(\"Round Index\")\n",
    "plt.ylabel(\"# Households Surveyed\");"
   ]
  },
  {
   "cell_type": "markdown",
   "metadata": {
    "cell_id": "65097737f9a0404ca98708150f08fd96",
    "deepnote_cell_type": "text-cell-p",
    "deletable": false,
    "editable": false,
    "formattedRanges": [
     {
      "fromCodePoint": 0,
      "marks": {
       "bold": true
      },
      "toCodePoint": 14,
      "type": "marks"
     }
    ],
    "is_collapsed": false,
    "tags": []
   },
   "source": [
    "<!-- BEGIN QUESTION -->\n",
    "\n",
    "**Question 3.2**: Discuss the plot and describe one potential cause for the variation in the number of participating households across rounds. "
   ]
  },
  {
   "cell_type": "markdown",
   "metadata": {},
   "source": [
    "Some households may be unwilling to participate in the survey due to its many rounds"
   ]
  },
  {
   "cell_type": "markdown",
   "metadata": {
    "cell_id": "df395a4f2d1f4fe08fed332b964bae7a",
    "deepnote_cell_type": "text-cell-p",
    "deletable": false,
    "editable": false,
    "formattedRanges": [
     {
      "fromCodePoint": 0,
      "marks": {
       "bold": true
      },
      "toCodePoint": 47,
      "type": "marks"
     },
     {
      "fromCodePoint": 369,
      "ranges": [],
      "toCodePoint": 389,
      "type": "link",
      "url": "https://en.wikipedia.org/wiki/Hawthorne_effect"
     }
    ],
    "is_collapsed": false,
    "tags": []
   },
   "source": [
    "<!-- END QUESTION -->\n",
    "\n",
    "#### Rounds 99 and 161\n",
    "\n",
    "During the survey, a decision was made to survey an additional set of households that were not being surveyed as frequently. Round 99 happened at the same time as round 9 as a new control group of households, and round 161 happened at the same time as round 16.\n",
    "\n",
    "In other words, the researchers added a control group that was \"less frequently surveyed\". These households reported much higher diarrhea prevalence. We later use these extra-rounds to quantify the [Hawthorne effect](https://en.wikipedia.org/wiki/Hawthorne_effect) discussed in lecture."
   ]
  },
  {
   "cell_type": "markdown",
   "metadata": {
    "cell_id": "22f274cc0a594814bc84773ce4234398",
    "deepnote_cell_type": "text-cell-p",
    "deletable": false,
    "editable": false,
    "formattedRanges": [
     {
      "fromCodePoint": 0,
      "marks": {
       "bold": true
      },
      "toCodePoint": 14,
      "type": "marks"
     }
    ],
    "is_collapsed": false,
    "tags": []
   },
   "source": [
    "**Question 3.3**: We now turn our attention to the variable of interest: The 7-day recall variable for diarrhea in the past week, denoted `d6a1_7dd_n` in the dataset. It is a binary categorical variable: 1 if a surveyed child in a given household had diarrhea the past 7 days, 0 if not. In the code cell below, generate a **Series** with the number of households that did/didn't have children with diarrhea in the past 7 days.\n",
    "\n",
    "Hint: One way to generate a series is to use `.groupby` and attach a relevant function. "
   ]
  },
  {
   "cell_type": "code",
   "execution_count": 15,
   "metadata": {
    "cell_id": "70e32d90c99745c3a8e67017297780af",
    "deepnote_cell_type": "code",
    "deepnote_to_be_reexecuted": false,
    "execution_millis": 42,
    "execution_start": 1665543337387,
    "source_hash": "193aa973",
    "tags": []
   },
   "outputs": [
    {
     "data": {
      "text/plain": [
       "d6a1_7dd_n\n",
       "0.0    6525\n",
       "1.0     526\n",
       "Name: count, dtype: int64"
      ]
     },
     "execution_count": 15,
     "metadata": {},
     "output_type": "execute_result"
    }
   ],
   "source": [
    "diarrhea_groups = relevant_rounds['d6a1_7dd_n'].value_counts()\n",
    "diarrhea_groups"
   ]
  },
  {
   "cell_type": "code",
   "execution_count": 16,
   "metadata": {
    "deletable": false,
    "editable": false
   },
   "outputs": [
    {
     "data": {
      "text/html": [
       "<p><strong><pre style='display: inline;'>q3_3</pre></strong> passed! 🚀</p>"
      ],
      "text/plain": [
       "q3_3 results: All test cases passed!"
      ]
     },
     "execution_count": 16,
     "metadata": {},
     "output_type": "execute_result"
    }
   ],
   "source": [
    "grader.check(\"q3_3\")"
   ]
  },
  {
   "cell_type": "markdown",
   "metadata": {},
   "source": [
    "We plot the data using a bar chart once again."
   ]
  },
  {
   "cell_type": "code",
   "execution_count": 17,
   "metadata": {},
   "outputs": [
    {
     "data": {
      "image/png": "[encoded data removed]",
      "text/plain": [
       "<Figure size 640x480 with 1 Axes>"
      ]
     },
     "metadata": {},
     "output_type": "display_data"
    }
   ],
   "source": [
    "ax = sns.barplot(x=diarrhea_groups.index, y=diarrhea_groups.values);\n",
    "ax.set(xlabel='Child had diarrhea in the past 7 days (Binary)', ylabel='Number of households', \n",
    "       title='Prevalence of diarrhea across children in past 7 days');"
   ]
  },
  {
   "cell_type": "code",
   "execution_count": 18,
   "metadata": {},
   "outputs": [
    {
     "data": {
      "text/html": [
       "<div>\n",
       "<style scoped>\n",
       "    .dataframe tbody tr th:only-of-type {\n",
       "        vertical-align: middle;\n",
       "    }\n",
       "\n",
       "    .dataframe tbody tr th {\n",
       "        vertical-align: top;\n",
       "    }\n",
       "\n",
       "    .dataframe thead th {\n",
       "        text-align: right;\n",
       "    }\n",
       "</style>\n",
       "<table border=\"1\" class=\"dataframe\">\n",
       "  <thead>\n",
       "    <tr style=\"text-align: right;\">\n",
       "      <th></th>\n",
       "      <th>bwm_round</th>\n",
       "      <th>d6a1_7dd_n</th>\n",
       "      <th>count</th>\n",
       "    </tr>\n",
       "  </thead>\n",
       "  <tbody>\n",
       "    <tr>\n",
       "      <th>0</th>\n",
       "      <td>1</td>\n",
       "      <td>0.0</td>\n",
       "      <td>292</td>\n",
       "    </tr>\n",
       "    <tr>\n",
       "      <th>1</th>\n",
       "      <td>1</td>\n",
       "      <td>1.0</td>\n",
       "      <td>85</td>\n",
       "    </tr>\n",
       "    <tr>\n",
       "      <th>2</th>\n",
       "      <td>2</td>\n",
       "      <td>0.0</td>\n",
       "      <td>332</td>\n",
       "    </tr>\n",
       "    <tr>\n",
       "      <th>3</th>\n",
       "      <td>2</td>\n",
       "      <td>1.0</td>\n",
       "      <td>41</td>\n",
       "    </tr>\n",
       "    <tr>\n",
       "      <th>4</th>\n",
       "      <td>3</td>\n",
       "      <td>0.0</td>\n",
       "      <td>329</td>\n",
       "    </tr>\n",
       "    <tr>\n",
       "      <th>5</th>\n",
       "      <td>3</td>\n",
       "      <td>1.0</td>\n",
       "      <td>46</td>\n",
       "    </tr>\n",
       "  </tbody>\n",
       "</table>\n",
       "</div>"
      ],
      "text/plain": [
       "   bwm_round  d6a1_7dd_n  count\n",
       "0          1         0.0    292\n",
       "1          1         1.0     85\n",
       "2          2         0.0    332\n",
       "3          2         1.0     41\n",
       "4          3         0.0    329\n",
       "5          3         1.0     46"
      ]
     },
     "execution_count": 18,
     "metadata": {},
     "output_type": "execute_result"
    }
   ],
   "source": [
    "data = {\n",
    "    'bwm_round': [1, 1, 2, 2, 3, 3],\n",
    "    'd6a1_7dd_n': [0.0, 1.0, 0.0, 1.0, 0.0, 1.0],\n",
    "    'count': [292, 85, 332, 41, 329, 46]\n",
    "}\n",
    "samp_df = pd.DataFrame(data)\n",
    "samp_df"
   ]
  },
  {
   "cell_type": "markdown",
   "metadata": {
    "cell_id": "b935c4eb6cbe409ebcce730f0484cbe1",
    "deepnote_cell_type": "text-cell-p",
    "deletable": false,
    "editable": false,
    "formattedRanges": [
     {
      "fromCodePoint": 0,
      "marks": {
       "bold": true
      },
      "toCodePoint": 14,
      "type": "marks"
     }
    ],
    "is_collapsed": false,
    "tags": []
   },
   "source": [
    "**Question 3.4**: How does our variable of interest,`d6a1_7dd_n`, change across survey rounds? In the code cell below, make a data frame that has the number of reported cases of diarrhea and number of cases of no diarrhea across each round. The first few rows of the output have been given below to serve as an example, please DO NOT hard code in your dataframe."
   ]
  },
  {
   "cell_type": "code",
   "execution_count": 19,
   "metadata": {
    "cell_id": "33ce67826a224154b321bed17ee1511e",
    "deepnote_cell_type": "code",
    "deepnote_to_be_reexecuted": false,
    "execution_millis": 1027,
    "execution_start": 1665543430084,
    "source_hash": "874f80b0",
    "tags": []
   },
   "outputs": [
    {
     "data": {
      "text/html": [
       "<div>\n",
       "<style scoped>\n",
       "    .dataframe tbody tr th:only-of-type {\n",
       "        vertical-align: middle;\n",
       "    }\n",
       "\n",
       "    .dataframe tbody tr th {\n",
       "        vertical-align: top;\n",
       "    }\n",
       "\n",
       "    .dataframe thead th {\n",
       "        text-align: right;\n",
       "    }\n",
       "</style>\n",
       "<table border=\"1\" class=\"dataframe\">\n",
       "  <thead>\n",
       "    <tr style=\"text-align: right;\">\n",
       "      <th></th>\n",
       "      <th>bwm_round</th>\n",
       "      <th>d6a1_7dd_n</th>\n",
       "      <th>count</th>\n",
       "    </tr>\n",
       "  </thead>\n",
       "  <tbody>\n",
       "    <tr>\n",
       "      <th>0</th>\n",
       "      <td>1</td>\n",
       "      <td>0.0</td>\n",
       "      <td>292</td>\n",
       "    </tr>\n",
       "    <tr>\n",
       "      <th>1</th>\n",
       "      <td>1</td>\n",
       "      <td>1.0</td>\n",
       "      <td>85</td>\n",
       "    </tr>\n",
       "    <tr>\n",
       "      <th>2</th>\n",
       "      <td>2</td>\n",
       "      <td>0.0</td>\n",
       "      <td>332</td>\n",
       "    </tr>\n",
       "    <tr>\n",
       "      <th>3</th>\n",
       "      <td>2</td>\n",
       "      <td>1.0</td>\n",
       "      <td>41</td>\n",
       "    </tr>\n",
       "    <tr>\n",
       "      <th>4</th>\n",
       "      <td>3</td>\n",
       "      <td>0.0</td>\n",
       "      <td>329</td>\n",
       "    </tr>\n",
       "    <tr>\n",
       "      <th>5</th>\n",
       "      <td>3</td>\n",
       "      <td>1.0</td>\n",
       "      <td>46</td>\n",
       "    </tr>\n",
       "  </tbody>\n",
       "</table>\n",
       "</div>"
      ],
      "text/plain": [
       "   bwm_round  d6a1_7dd_n  count\n",
       "0          1         0.0    292\n",
       "1          1         1.0     85\n",
       "2          2         0.0    332\n",
       "3          2         1.0     41\n",
       "4          3         0.0    329\n",
       "5          3         1.0     46"
      ]
     },
     "execution_count": 19,
     "metadata": {},
     "output_type": "execute_result"
    }
   ],
   "source": [
    "wg_plot_df= relevant_rounds.groupby(['bwm_round', 'd6a1_7dd_n']).size().reset_index()\n",
    "wg_plot_df.columns = ['bwm_round', 'd6a1_7dd_n','count']\n",
    "wg_plot_df.head(6)"
   ]
  },
  {
   "cell_type": "code",
   "execution_count": 20,
   "metadata": {
    "deletable": false,
    "editable": false
   },
   "outputs": [
    {
     "data": {
      "text/html": [
       "<p><strong><pre style='display: inline;'>q3_4</pre></strong> passed! ✨</p>"
      ],
      "text/plain": [
       "q3_4 results: All test cases passed!"
      ]
     },
     "execution_count": 20,
     "metadata": {},
     "output_type": "execute_result"
    }
   ],
   "source": [
    "grader.check(\"q3_4\")"
   ]
  },
  {
   "cell_type": "markdown",
   "metadata": {},
   "source": [
    "Now, as we're visualizing change over time, we plot the data using a line plot."
   ]
  },
  {
   "cell_type": "code",
   "execution_count": 21,
   "metadata": {},
   "outputs": [
    {
     "data": {
      "image/png": "[encoded data removed]",
      "text/plain": [
       "<Figure size 640x480 with 1 Axes>"
      ]
     },
     "metadata": {},
     "output_type": "display_data"
    }
   ],
   "source": [
    "ax = sns.lineplot(data=wg_plot_df,x='bwm_round', y='count', hue='d6a1_7dd_n');\n",
    "plt.legend(title='Diarrhea Reported')\n",
    "ax.set(xlabel='Round Number', ylabel='# of Households', \n",
    "       title='Households Reporting Child Diarrhea in Last 7 days across All Survey Rounds');"
   ]
  },
  {
   "cell_type": "markdown",
   "metadata": {
    "cell_id": "f2b89fc0-f01a-4e95-947b-7d3a405709e1",
    "deepnote_cell_type": "text-cell-p",
    "deletable": false,
    "editable": false,
    "formattedRanges": [
     {
      "fromCodePoint": 0,
      "marks": {
       "bold": true
      },
      "toCodePoint": 14,
      "type": "marks"
     }
    ],
    "is_collapsed": false,
    "tags": []
   },
   "source": [
    "<!-- BEGIN QUESTION -->\n",
    "\n",
    "**Question 3.5**: Do you observe any particular trends in the reported past 7-day prevalence of child diarrhea across the survey rounds? Think of how its prevalence changes relative to previous survey rounds. Furthermore, discuss potential reasons for the trends you are observing."
   ]
  },
  {
   "cell_type": "markdown",
   "metadata": {},
   "source": [
    "For the diarrhea reported, as more survey rounds are collected, the more the number of households with diarheea reported decreases as seen starting from round number 5, a stable decrease in number of households with diarheea around under 50. While for no diarrhea reaported in past 7 days, we can see "
   ]
  },
  {
   "cell_type": "markdown",
   "metadata": {
    "cell_id": "50f0a76751bd4870a352289d69e8ad02",
    "deepnote_cell_type": "text-cell-p",
    "deletable": false,
    "editable": false,
    "formattedRanges": [
     {
      "fromCodePoint": 0,
      "marks": {
       "bold": true
      },
      "toCodePoint": 14,
      "type": "marks"
     }
    ],
    "is_collapsed": false,
    "tags": []
   },
   "source": [
    "<!-- END QUESTION -->\n",
    "\n",
    "**Question 3.6**: Let's dive deeper into the trends we're observing here. Obtain the *proportion* of households reporting child diarrhea across the survey rounds and store it in `wg_plot_df_mean`. The resulting dataframe should have the `bwm_round` as the index and only 1 column `proportion`, representing the proportion of households reporting child diarrhea in that survey round.\n"
   ]
  },
  {
   "cell_type": "code",
   "execution_count": 22,
   "metadata": {},
   "outputs": [
    {
     "data": {
      "text/html": [
       "<div>\n",
       "<style scoped>\n",
       "    .dataframe tbody tr th:only-of-type {\n",
       "        vertical-align: middle;\n",
       "    }\n",
       "\n",
       "    .dataframe tbody tr th {\n",
       "        vertical-align: top;\n",
       "    }\n",
       "\n",
       "    .dataframe thead th {\n",
       "        text-align: right;\n",
       "    }\n",
       "</style>\n",
       "<table border=\"1\" class=\"dataframe\">\n",
       "  <thead>\n",
       "    <tr style=\"text-align: right;\">\n",
       "      <th></th>\n",
       "      <th>proportion</th>\n",
       "    </tr>\n",
       "    <tr>\n",
       "      <th>bwm_round</th>\n",
       "      <th></th>\n",
       "    </tr>\n",
       "  </thead>\n",
       "  <tbody>\n",
       "    <tr>\n",
       "      <th>1</th>\n",
       "      <td>0.225464</td>\n",
       "    </tr>\n",
       "    <tr>\n",
       "      <th>2</th>\n",
       "      <td>0.109920</td>\n",
       "    </tr>\n",
       "    <tr>\n",
       "      <th>3</th>\n",
       "      <td>0.122667</td>\n",
       "    </tr>\n",
       "    <tr>\n",
       "      <th>4</th>\n",
       "      <td>0.057592</td>\n",
       "    </tr>\n",
       "    <tr>\n",
       "      <th>5</th>\n",
       "      <td>0.114833</td>\n",
       "    </tr>\n",
       "    <tr>\n",
       "      <th>6</th>\n",
       "      <td>0.067164</td>\n",
       "    </tr>\n",
       "    <tr>\n",
       "      <th>7</th>\n",
       "      <td>0.060241</td>\n",
       "    </tr>\n",
       "    <tr>\n",
       "      <th>8</th>\n",
       "      <td>0.043257</td>\n",
       "    </tr>\n",
       "    <tr>\n",
       "      <th>9</th>\n",
       "      <td>0.052632</td>\n",
       "    </tr>\n",
       "    <tr>\n",
       "      <th>10</th>\n",
       "      <td>0.049020</td>\n",
       "    </tr>\n",
       "    <tr>\n",
       "      <th>11</th>\n",
       "      <td>0.052506</td>\n",
       "    </tr>\n",
       "    <tr>\n",
       "      <th>12</th>\n",
       "      <td>0.048780</td>\n",
       "    </tr>\n",
       "    <tr>\n",
       "      <th>13</th>\n",
       "      <td>0.039683</td>\n",
       "    </tr>\n",
       "    <tr>\n",
       "      <th>14</th>\n",
       "      <td>0.054496</td>\n",
       "    </tr>\n",
       "    <tr>\n",
       "      <th>15</th>\n",
       "      <td>0.048593</td>\n",
       "    </tr>\n",
       "    <tr>\n",
       "      <th>16</th>\n",
       "      <td>0.059553</td>\n",
       "    </tr>\n",
       "    <tr>\n",
       "      <th>17</th>\n",
       "      <td>0.064972</td>\n",
       "    </tr>\n",
       "    <tr>\n",
       "      <th>18</th>\n",
       "      <td>0.078818</td>\n",
       "    </tr>\n",
       "  </tbody>\n",
       "</table>\n",
       "</div>"
      ],
      "text/plain": [
       "           proportion\n",
       "bwm_round            \n",
       "1            0.225464\n",
       "2            0.109920\n",
       "3            0.122667\n",
       "4            0.057592\n",
       "5            0.114833\n",
       "6            0.067164\n",
       "7            0.060241\n",
       "8            0.043257\n",
       "9            0.052632\n",
       "10           0.049020\n",
       "11           0.052506\n",
       "12           0.048780\n",
       "13           0.039683\n",
       "14           0.054496\n",
       "15           0.048593\n",
       "16           0.059553\n",
       "17           0.064972\n",
       "18           0.078818"
      ]
     },
     "execution_count": 22,
     "metadata": {},
     "output_type": "execute_result"
    }
   ],
   "source": [
    "wg_plot_df_mean= relevant_rounds.groupby('bwm_round',as_index=True).agg(proportion=('d6a1_7dd_n', 'mean'))\n",
    "wg_plot_df_mean                              "
   ]
  },
  {
   "cell_type": "code",
   "execution_count": 23,
   "metadata": {
    "deletable": false,
    "editable": false
   },
   "outputs": [
    {
     "data": {
      "text/html": [
       "<p><strong><pre style='display: inline;'>q3_6</pre></strong> passed! 🌈</p>"
      ],
      "text/plain": [
       "q3_6 results: All test cases passed!"
      ]
     },
     "execution_count": 23,
     "metadata": {},
     "output_type": "execute_result"
    }
   ],
   "source": [
    "grader.check(\"q3_6\")"
   ]
  },
  {
   "cell_type": "markdown",
   "metadata": {},
   "source": [
    "The following code blocks are provided for visualization of the tables that you just computed. "
   ]
  },
  {
   "cell_type": "code",
   "execution_count": 24,
   "metadata": {},
   "outputs": [
    {
     "data": {
      "image/png": "[encoded data removed]",
      "text/plain": [
       "<Figure size 640x480 with 1 Axes>"
      ]
     },
     "metadata": {},
     "output_type": "display_data"
    }
   ],
   "source": [
    "ax = sns.lineplot(x=wg_plot_df_mean.index, y=wg_plot_df_mean['proportion']);\n",
    "ax.set(xlabel='Round Number', ylabel='Prevalence among Households', \n",
    "       title='Proportion of Households Reporting Child Diarrhea across All Survey Rounds');"
   ]
  },
  {
   "cell_type": "markdown",
   "metadata": {
    "cell_id": "177a44cfc12742ad96396a902584e627",
    "deepnote_cell_type": "text-cell-p",
    "formattedRanges": [
     {
      "fromCodePoint": 0,
      "marks": {
       "bold": true
      },
      "toCodePoint": 14,
      "type": "marks"
     },
     {
      "fromCodePoint": 113,
      "ranges": [],
      "toCodePoint": 124,
      "type": "link",
      "url": "https://realpython.com/iterate-through-dictionary-python/"
     }
    ],
    "is_collapsed": false,
    "tags": []
   },
   "source": [
    "Now, we will apply the function on a dictionary of diseases already prepared for you. This will generate 5 line plots that describe the average proportion of households reporting a certain disease over the survey rounds."
   ]
  },
  {
   "cell_type": "code",
   "execution_count": 25,
   "metadata": {
    "cell_id": "807fcbc80bf543cd9b639cda1c571409",
    "deepnote_cell_type": "code",
    "deepnote_to_be_reexecuted": false,
    "execution_millis": 119,
    "execution_start": 1665543599136,
    "source_hash": "601b801f",
    "tags": []
   },
   "outputs": [
    {
     "data": {
      "image/png": "[encoded data removed]",
      "text/plain": [
       "<Figure size 640x480 with 1 Axes>"
      ]
     },
     "metadata": {},
     "output_type": "display_data"
    }
   ],
   "source": [
    "\"\"\"\n",
    "Takes in the condition column and actual name. Outputs plots of average prevalence of \n",
    "condition across survey rounds. \n",
    "\"\"\"\n",
    "def prevalence_plotter(df, condition_column, condition_name):\n",
    "\n",
    "    plot_df_mean = df.groupby('bwm_round')[[condition_column]].mean() # SOLUTION\n",
    "    \n",
    "    title_string = f\"Average proportion of households reporting {condition_name} in survey round\"\n",
    "    ax = sns.lineplot(x=plot_df_mean.index, y=plot_df_mean[condition_column]);\n",
    "    ax.set(title=title_string);\n",
    "\n",
    "prevalence_plotter(relevant_rounds, 'd6a1_7dd_n', 'Diarrhea')\n",
    "\n",
    "conditions = {\n",
    "'d6d1_7dc_n' : 'Cough',\n",
    "'d7d2_7dcn_n' : 'Chest Noise',\n",
    "'d6b_7day_fever_n' : 'Fever',\n",
    "'d6c_7day_vomiting_n':'Vomiting'}\n",
    "\n",
    "for condition_column, condition_name in conditions.items():\n",
    "    prevalence_plotter(relevant_rounds, condition_column, condition_name)\n"
   ]
  },
  {
   "cell_type": "markdown",
   "metadata": {
    "cell_id": "51ce5a7c28164f669479d75a4503b7c5",
    "deepnote_cell_type": "text-cell-p",
    "deletable": false,
    "editable": false,
    "formattedRanges": [
     {
      "fromCodePoint": 0,
      "marks": {
       "bold": true
      },
      "toCodePoint": 15,
      "type": "marks"
     }
    ],
    "is_collapsed": false,
    "tags": []
   },
   "source": [
    "<!-- BEGIN QUESTION -->\n",
    "\n",
    "**Question 3.7**: Choose one of the plots above and thoroughly reflect on a set of observations in a few sentences. Can you think of why disease prevalence is steadily declining as the number of survey rounds increase? And, what could have caused the sudden uptick in the last rounds? (Hint: Revisit the lecture slides)."
   ]
  },
  {
   "cell_type": "markdown",
   "metadata": {},
   "source": [
    "As the number of survey rounds increases, households may feel tired of answering the survey. Another reason may be due to the Hawthorne Effect causing behavioral changes Due to repeated surveys, causing households may be more educated about the contaminated water sources and unhealthy habits, hence diseases to be reduced. \n",
    "\n",
    "The sudden uptick in the final rounds could be due to an unexpected rise in disease among children, which may have encouraged households to engage with the survey again."
   ]
  },
  {
   "cell_type": "markdown",
   "metadata": {
    "cell_id": "626ab94be7a143aeb6e4445186cb09d2",
    "deepnote_cell_type": "text-cell-h2",
    "deletable": false,
    "editable": false,
    "formattedRanges": [],
    "is_collapsed": false,
    "tags": []
   },
   "source": [
    "<!-- END QUESTION -->\n",
    "\n",
    "---\n",
    "## Phase 4: Analyzing the Hawthorne Effect"
   ]
  },
  {
   "cell_type": "markdown",
   "metadata": {
    "cell_id": "a95633c28f6748559cc06a94dadc9373",
    "deepnote_cell_type": "text-cell-p",
    "formattedRanges": [
     {
      "fromCodePoint": 65,
      "ranges": [],
      "toCodePoint": 81,
      "type": "link",
      "url": "https://en.wikipedia.org/wiki/Hawthorne_effect"
     },
     {
      "fromCodePoint": 298,
      "ranges": [],
      "toCodePoint": 316,
      "type": "link",
      "url": "https://www.collinsdictionary.com/us/dictionary/english/hawthorne-effect"
     }
    ],
    "is_collapsed": false,
    "tags": []
   },
   "source": [
    "In this phase of the project we seek to analyze and quantify the [Hawthorne effect](https://en.wikipedia.org/wiki/Hawthorne_effect) mentioned in lecture. In general terms, it is a positive change in the performance of a group of persons taking part in an experiment or study due to their perception of being singled out for special consideration (Collins Dictionary). In our context, we define it as the decrease in disease prevalence attributed to the mere fact that households are *aware of themselves being surveyed.* Let's see if we can put a number to it!"
   ]
  },
  {
   "cell_type": "markdown",
   "metadata": {
    "cell_id": "f61caae95ccb41598b1a392f29f6c9eb",
    "deepnote_cell_type": "text-cell-p",
    "deletable": false,
    "editable": false,
    "formattedRanges": [
     {
      "fromCodePoint": 0,
      "marks": {
       "bold": true
      },
      "toCodePoint": 14,
      "type": "marks"
     }
    ],
    "is_collapsed": false,
    "tags": []
   },
   "source": [
    "**Question 4.1**: Obtain the proportion of households with reported diarrhea from rounds \"99\" and \"161\", similar to the output of question 3.6. Store the results in the dataframe `special_proportions`."
   ]
  },
  {
   "cell_type": "code",
   "execution_count": 26,
   "metadata": {
    "cell_id": "51e8cabe2dba436cb9131fbe2b71e0c2",
    "deepnote_cell_type": "code",
    "deepnote_to_be_reexecuted": false,
    "execution_millis": 17,
    "execution_start": 1665547681930,
    "source_hash": "cdf60d4c",
    "tags": []
   },
   "outputs": [
    {
     "data": {
      "text/html": [
       "<div>\n",
       "<style scoped>\n",
       "    .dataframe tbody tr th:only-of-type {\n",
       "        vertical-align: middle;\n",
       "    }\n",
       "\n",
       "    .dataframe tbody tr th {\n",
       "        vertical-align: top;\n",
       "    }\n",
       "\n",
       "    .dataframe thead th {\n",
       "        text-align: right;\n",
       "    }\n",
       "</style>\n",
       "<table border=\"1\" class=\"dataframe\">\n",
       "  <thead>\n",
       "    <tr style=\"text-align: right;\">\n",
       "      <th></th>\n",
       "      <th>proportion</th>\n",
       "    </tr>\n",
       "    <tr>\n",
       "      <th>bwm_round</th>\n",
       "      <th></th>\n",
       "    </tr>\n",
       "  </thead>\n",
       "  <tbody>\n",
       "    <tr>\n",
       "      <th>99</th>\n",
       "      <td>0.109195</td>\n",
       "    </tr>\n",
       "    <tr>\n",
       "      <th>161</th>\n",
       "      <td>0.125326</td>\n",
       "    </tr>\n",
       "  </tbody>\n",
       "</table>\n",
       "</div>"
      ],
      "text/plain": [
       "           proportion\n",
       "bwm_round            \n",
       "99           0.109195\n",
       "161          0.125326"
      ]
     },
     "execution_count": 26,
     "metadata": {},
     "output_type": "execute_result"
    }
   ],
   "source": [
    "tbl=wg_df[(wg_df['bwm_round'] ==99) | (wg_df['bwm_round'] ==161)]\n",
    "special_proportions = tbl.groupby('bwm_round',as_index=True).agg(proportion=('d6a1_7dd_n', 'mean'))\n",
    "special_proportions.head()"
   ]
  },
  {
   "cell_type": "code",
   "execution_count": 27,
   "metadata": {
    "deletable": false,
    "editable": false
   },
   "outputs": [
    {
     "data": {
      "text/html": [
       "<p><strong><pre style='display: inline;'>q4_1</pre></strong> passed! 🍀</p>"
      ],
      "text/plain": [
       "q4_1 results: All test cases passed!"
      ]
     },
     "execution_count": 27,
     "metadata": {},
     "output_type": "execute_result"
    }
   ],
   "source": [
    "grader.check(\"q4_1\")"
   ]
  },
  {
   "cell_type": "markdown",
   "metadata": {},
   "source": [
    "Let's plot the results you got on the line plot from question 3.7."
   ]
  },
  {
   "cell_type": "code",
   "execution_count": 28,
   "metadata": {},
   "outputs": [
    {
     "data": {
      "image/png": "[encoded data removed]",
      "text/plain": [
       "<Figure size 640x480 with 1 Axes>"
      ]
     },
     "metadata": {},
     "output_type": "display_data"
    }
   ],
   "source": [
    "special_proportions_plot = special_proportions.copy()\n",
    "special_proportions_plot[\"bwm_round\"] = np.array([9, 16])\n",
    "\n",
    "fig, ax = plt.subplots()\n",
    "sns.lineplot(x=wg_plot_df_mean.index, y=wg_plot_df_mean['proportion'], ax=ax)\n",
    "sns.scatterplot(data=special_proportions_plot, x='bwm_round', y='proportion', ax=ax,color='red');\n",
    "ax.set(title='Average Proportion of Households Reporting Child Diarrhea Last 7 days across All Survey Rounds',\n",
    "      xlabel='Round Number', ylabel='Proportion of Households');"
   ]
  },
  {
   "cell_type": "markdown",
   "metadata": {
    "cell_id": "87098a45c6a1457697a0bd707cbcb9e4",
    "deepnote_cell_type": "text-cell-p",
    "deletable": false,
    "editable": false,
    "formattedRanges": [
     {
      "fromCodePoint": 0,
      "marks": {
       "bold": true
      },
      "toCodePoint": 14,
      "type": "marks"
     }
    ],
    "is_collapsed": false,
    "tags": []
   },
   "source": [
    "<!-- BEGIN QUESTION -->\n",
    "\n",
    "**Question 4.2**: Look at the graph above. The red points are the corresponding control groups 99 and 161. How different are these from the normal group quantitatively? (Feel free to just eyeball it or write some code) Are you surprised by your findings? "
   ]
  },
  {
   "cell_type": "markdown",
   "metadata": {},
   "source": [
    "The red points represent the control groups 99 and 161 which are households surveyed less frequently and have higher diarrhea prevalence as shown on the graph compared to households that are surveyed more frequently. I am not that surprised because these findings align with the hawthrone effect which says surveyed households may have changed their behavior, making them more cautious about hygiene, hence the decrease in diarrhea prevalence"
   ]
  },
  {
   "cell_type": "markdown",
   "metadata": {
    "deletable": false,
    "editable": false
   },
   "source": [
    "<!-- END QUESTION -->\n",
    "\n",
    "---\n",
    "## Phase 5: Analyzing WaterGuard Usage"
   ]
  },
  {
   "cell_type": "markdown",
   "metadata": {},
   "source": [
    "Now, let's turn our attention to the effect of [WaterGuard](https://www.engineeringforchange.org/solutions/product/waterguard/) usage on disease prevalence across households."
   ]
  },
  {
   "cell_type": "markdown",
   "metadata": {
    "deletable": false,
    "editable": false
   },
   "source": [
    "**Question 5.1**: Read in the `BWM_HH_EVDvars.dta` dataset and convert it into a dataframe. "
   ]
  },
  {
   "cell_type": "code",
   "execution_count": 29,
   "metadata": {
    "tags": []
   },
   "outputs": [
    {
     "data": {
      "text/html": [
       "<div>\n",
       "<style scoped>\n",
       "    .dataframe tbody tr th:only-of-type {\n",
       "        vertical-align: middle;\n",
       "    }\n",
       "\n",
       "    .dataframe tbody tr th {\n",
       "        vertical-align: top;\n",
       "    }\n",
       "\n",
       "    .dataframe thead th {\n",
       "        text-align: right;\n",
       "    }\n",
       "</style>\n",
       "<table border=\"1\" class=\"dataframe\">\n",
       "  <thead>\n",
       "    <tr style=\"text-align: right;\">\n",
       "      <th></th>\n",
       "      <th>quiz_id</th>\n",
       "      <th>bwm_round</th>\n",
       "      <th>a1_hh_id</th>\n",
       "      <th>a2_spring_id</th>\n",
       "      <th>interview_date</th>\n",
       "      <th>a5_date_interview_day</th>\n",
       "      <th>a5_date_interview_month</th>\n",
       "      <th>a5_date_interview_year</th>\n",
       "      <th>a8_data_entry_id</th>\n",
       "      <th>a9_data_entry_comments</th>\n",
       "      <th>...</th>\n",
       "      <th>child_observed20</th>\n",
       "      <th>child_observed21</th>\n",
       "      <th>child_observed22</th>\n",
       "      <th>spring_id</th>\n",
       "      <th>wave</th>\n",
       "      <th>_merge</th>\n",
       "      <th>h5clcolor</th>\n",
       "      <th>g5WG</th>\n",
       "      <th>G5XH5</th>\n",
       "      <th>date_round</th>\n",
       "    </tr>\n",
       "  </thead>\n",
       "  <tbody>\n",
       "    <tr>\n",
       "      <th>0</th>\n",
       "      <td>1001</td>\n",
       "      <td>1</td>\n",
       "      <td>872002</td>\n",
       "      <td>872</td>\n",
       "      <td>2007-05-09</td>\n",
       "      <td>9</td>\n",
       "      <td>5</td>\n",
       "      <td>2007</td>\n",
       "      <td>NaN</td>\n",
       "      <td></td>\n",
       "      <td>...</td>\n",
       "      <td>0</td>\n",
       "      <td>0</td>\n",
       "      <td>0</td>\n",
       "      <td>872</td>\n",
       "      <td>2.0</td>\n",
       "      <td>3</td>\n",
       "      <td>1.0</td>\n",
       "      <td>1.0</td>\n",
       "      <td>1.0</td>\n",
       "      <td>2007-05-09</td>\n",
       "    </tr>\n",
       "    <tr>\n",
       "      <th>1</th>\n",
       "      <td>1002</td>\n",
       "      <td>1</td>\n",
       "      <td>859009</td>\n",
       "      <td>859</td>\n",
       "      <td>2007-05-09</td>\n",
       "      <td>9</td>\n",
       "      <td>5</td>\n",
       "      <td>2007</td>\n",
       "      <td>NaN</td>\n",
       "      <td></td>\n",
       "      <td>...</td>\n",
       "      <td>0</td>\n",
       "      <td>0</td>\n",
       "      <td>0</td>\n",
       "      <td>859</td>\n",
       "      <td>1.0</td>\n",
       "      <td>3</td>\n",
       "      <td>1.0</td>\n",
       "      <td>1.0</td>\n",
       "      <td>1.0</td>\n",
       "      <td>2007-05-09</td>\n",
       "    </tr>\n",
       "    <tr>\n",
       "      <th>2</th>\n",
       "      <td>1003</td>\n",
       "      <td>1</td>\n",
       "      <td>872007</td>\n",
       "      <td>872</td>\n",
       "      <td>2007-05-09</td>\n",
       "      <td>9</td>\n",
       "      <td>5</td>\n",
       "      <td>2007</td>\n",
       "      <td>NaN</td>\n",
       "      <td></td>\n",
       "      <td>...</td>\n",
       "      <td>0</td>\n",
       "      <td>0</td>\n",
       "      <td>0</td>\n",
       "      <td>872</td>\n",
       "      <td>2.0</td>\n",
       "      <td>3</td>\n",
       "      <td>0.0</td>\n",
       "      <td>0.0</td>\n",
       "      <td>0.0</td>\n",
       "      <td>2007-05-09</td>\n",
       "    </tr>\n",
       "    <tr>\n",
       "      <th>3</th>\n",
       "      <td>1004</td>\n",
       "      <td>1</td>\n",
       "      <td>764029</td>\n",
       "      <td>764</td>\n",
       "      <td>2007-05-09</td>\n",
       "      <td>9</td>\n",
       "      <td>5</td>\n",
       "      <td>2007</td>\n",
       "      <td>NaN</td>\n",
       "      <td></td>\n",
       "      <td>...</td>\n",
       "      <td>0</td>\n",
       "      <td>0</td>\n",
       "      <td>0</td>\n",
       "      <td>764</td>\n",
       "      <td>3.0</td>\n",
       "      <td>3</td>\n",
       "      <td>0.0</td>\n",
       "      <td>0.0</td>\n",
       "      <td>0.0</td>\n",
       "      <td>2007-05-09</td>\n",
       "    </tr>\n",
       "    <tr>\n",
       "      <th>4</th>\n",
       "      <td>1005</td>\n",
       "      <td>1</td>\n",
       "      <td>764016</td>\n",
       "      <td>764</td>\n",
       "      <td>2007-05-09</td>\n",
       "      <td>9</td>\n",
       "      <td>5</td>\n",
       "      <td>2007</td>\n",
       "      <td>NaN</td>\n",
       "      <td></td>\n",
       "      <td>...</td>\n",
       "      <td>0</td>\n",
       "      <td>0</td>\n",
       "      <td>0</td>\n",
       "      <td>764</td>\n",
       "      <td>3.0</td>\n",
       "      <td>3</td>\n",
       "      <td>0.0</td>\n",
       "      <td>0.0</td>\n",
       "      <td>0.0</td>\n",
       "      <td>2007-05-09</td>\n",
       "    </tr>\n",
       "  </tbody>\n",
       "</table>\n",
       "<p>5 rows × 2205 columns</p>\n",
       "</div>"
      ],
      "text/plain": [
       "   quiz_id  bwm_round  a1_hh_id  a2_spring_id interview_date  \\\n",
       "0     1001          1    872002           872     2007-05-09   \n",
       "1     1002          1    859009           859     2007-05-09   \n",
       "2     1003          1    872007           872     2007-05-09   \n",
       "3     1004          1    764029           764     2007-05-09   \n",
       "4     1005          1    764016           764     2007-05-09   \n",
       "\n",
       "   a5_date_interview_day  a5_date_interview_month  a5_date_interview_year  \\\n",
       "0                      9                        5                    2007   \n",
       "1                      9                        5                    2007   \n",
       "2                      9                        5                    2007   \n",
       "3                      9                        5                    2007   \n",
       "4                      9                        5                    2007   \n",
       "\n",
       "   a8_data_entry_id a9_data_entry_comments  ...  child_observed20  \\\n",
       "0               NaN                         ...                 0   \n",
       "1               NaN                         ...                 0   \n",
       "2               NaN                         ...                 0   \n",
       "3               NaN                         ...                 0   \n",
       "4               NaN                         ...                 0   \n",
       "\n",
       "   child_observed21  child_observed22  spring_id  wave  _merge  h5clcolor  \\\n",
       "0                 0                 0        872   2.0       3        1.0   \n",
       "1                 0                 0        859   1.0       3        1.0   \n",
       "2                 0                 0        872   2.0       3        0.0   \n",
       "3                 0                 0        764   3.0       3        0.0   \n",
       "4                 0                 0        764   3.0       3        0.0   \n",
       "\n",
       "   g5WG  G5XH5  date_round  \n",
       "0   1.0    1.0  2007-05-09  \n",
       "1   1.0    1.0  2007-05-09  \n",
       "2   0.0    0.0  2007-05-09  \n",
       "3   0.0    0.0  2007-05-09  \n",
       "4   0.0    0.0  2007-05-09  \n",
       "\n",
       "[5 rows x 2205 columns]"
      ]
     },
     "execution_count": 29,
     "metadata": {},
     "output_type": "execute_result"
    }
   ],
   "source": [
    "hh_wg = pd.read_stata('BWM_HH_EVDvars.dta')\n",
    "hh_wg.head()"
   ]
  },
  {
   "cell_type": "code",
   "execution_count": 30,
   "metadata": {
    "deletable": false,
    "editable": false
   },
   "outputs": [
    {
     "data": {
      "text/html": [
       "<p><strong><pre style='display: inline;'>q5_1</pre></strong> passed! 🎉</p>"
      ],
      "text/plain": [
       "q5_1 results: All test cases passed!"
      ]
     },
     "execution_count": 30,
     "metadata": {},
     "output_type": "execute_result"
    }
   ],
   "source": [
    "grader.check(\"q5_1\")"
   ]
  },
  {
   "cell_type": "markdown",
   "metadata": {
    "deletable": false,
    "editable": false
   },
   "source": [
    "<!-- BEGIN QUESTION -->\n",
    "\n",
    "**Question 5.2**: What does each row of `hh_wg` contain? What does it say about the granularity (or the level of aggregation)? How does it compare to the dataframe used in phase 1-4?"
   ]
  },
  {
   "cell_type": "markdown",
   "metadata": {},
   "source": [
    " Each row of hh_wg represents household's health/ survey responses in a specific survey round. Compared to the dataframe in phase 1-4, which showed survey response of each child in a specific survey round (more detailed for each child instead of summarizing responses at household level), hh_wg has less granular data."
   ]
  },
  {
   "cell_type": "markdown",
   "metadata": {
    "deletable": false,
    "editable": false
   },
   "source": [
    "<!-- END QUESTION -->\n",
    "\n",
    "**Question 5.3:** How many households appear in each survey round? \n",
    "\n",
    "Hint: The resulting dataframe should have two columns `bwm_round` and `a1_hh_id`. "
   ]
  },
  {
   "cell_type": "code",
   "execution_count": 31,
   "metadata": {
    "cell_id": "cdd8ac235553451982b6f37c57e04406",
    "deepnote_cell_type": "code",
    "deepnote_to_be_reexecuted": true,
    "execution_millis": 2210,
    "execution_start": 1665125882290,
    "source_hash": "c69669a2",
    "tags": []
   },
   "outputs": [
    {
     "data": {
      "text/html": [
       "<div>\n",
       "<style scoped>\n",
       "    .dataframe tbody tr th:only-of-type {\n",
       "        vertical-align: middle;\n",
       "    }\n",
       "\n",
       "    .dataframe tbody tr th {\n",
       "        vertical-align: top;\n",
       "    }\n",
       "\n",
       "    .dataframe thead th {\n",
       "        text-align: right;\n",
       "    }\n",
       "</style>\n",
       "<table border=\"1\" class=\"dataframe\">\n",
       "  <thead>\n",
       "    <tr style=\"text-align: right;\">\n",
       "      <th></th>\n",
       "      <th>a1_hh_id</th>\n",
       "    </tr>\n",
       "    <tr>\n",
       "      <th>bwm_round</th>\n",
       "      <th></th>\n",
       "    </tr>\n",
       "  </thead>\n",
       "  <tbody>\n",
       "    <tr>\n",
       "      <th>1</th>\n",
       "      <td>156</td>\n",
       "    </tr>\n",
       "    <tr>\n",
       "      <th>2</th>\n",
       "      <td>153</td>\n",
       "    </tr>\n",
       "    <tr>\n",
       "      <th>3</th>\n",
       "      <td>151</td>\n",
       "    </tr>\n",
       "    <tr>\n",
       "      <th>4</th>\n",
       "      <td>153</td>\n",
       "    </tr>\n",
       "    <tr>\n",
       "      <th>5</th>\n",
       "      <td>162</td>\n",
       "    </tr>\n",
       "  </tbody>\n",
       "</table>\n",
       "</div>"
      ],
      "text/plain": [
       "           a1_hh_id\n",
       "bwm_round          \n",
       "1               156\n",
       "2               153\n",
       "3               151\n",
       "4               153\n",
       "5               162"
      ]
     },
     "execution_count": 31,
     "metadata": {},
     "output_type": "execute_result"
    }
   ],
   "source": [
    "hh_round =hh_wg.groupby('bwm_round')[['a1_hh_id']].nunique()\n",
    "hh_round.head()"
   ]
  },
  {
   "cell_type": "code",
   "execution_count": 32,
   "metadata": {
    "deletable": false,
    "editable": false
   },
   "outputs": [
    {
     "data": {
      "text/html": [
       "<p><strong><pre style='display: inline;'>q5_3</pre></strong> passed! 🌈</p>"
      ],
      "text/plain": [
       "q5_3 results: All test cases passed!"
      ]
     },
     "execution_count": 32,
     "metadata": {},
     "output_type": "execute_result"
    }
   ],
   "source": [
    "grader.check(\"q5_3\")"
   ]
  },
  {
   "cell_type": "markdown",
   "metadata": {
    "deletable": false,
    "editable": false
   },
   "source": [
    "**Question 5.4:** In each round, how many households have validated usage of WaterGuard? \n",
    "\n",
    "Hint: The column with the obscure name of `G5XH5` might be of interest to you - it's a dummy variable for validated WG usage! \n",
    "The resulting dataframe should have three columns: `bwm_round`, `Validated WaterGuard Usage` and `Count`."
   ]
  },
  {
   "cell_type": "code",
   "execution_count": 33,
   "metadata": {},
   "outputs": [
    {
     "data": {
      "text/html": [
       "<div>\n",
       "<style scoped>\n",
       "    .dataframe tbody tr th:only-of-type {\n",
       "        vertical-align: middle;\n",
       "    }\n",
       "\n",
       "    .dataframe tbody tr th {\n",
       "        vertical-align: top;\n",
       "    }\n",
       "\n",
       "    .dataframe thead th {\n",
       "        text-align: right;\n",
       "    }\n",
       "</style>\n",
       "<table border=\"1\" class=\"dataframe\">\n",
       "  <thead>\n",
       "    <tr style=\"text-align: right;\">\n",
       "      <th></th>\n",
       "      <th>bwm_round</th>\n",
       "      <th>Validated WaterGuard Usage</th>\n",
       "      <th>Count</th>\n",
       "    </tr>\n",
       "  </thead>\n",
       "  <tbody>\n",
       "    <tr>\n",
       "      <th>0</th>\n",
       "      <td>1</td>\n",
       "      <td>0.0</td>\n",
       "      <td>126</td>\n",
       "    </tr>\n",
       "    <tr>\n",
       "      <th>1</th>\n",
       "      <td>1</td>\n",
       "      <td>1.0</td>\n",
       "      <td>30</td>\n",
       "    </tr>\n",
       "    <tr>\n",
       "      <th>2</th>\n",
       "      <td>2</td>\n",
       "      <td>0.0</td>\n",
       "      <td>123</td>\n",
       "    </tr>\n",
       "    <tr>\n",
       "      <th>3</th>\n",
       "      <td>2</td>\n",
       "      <td>1.0</td>\n",
       "      <td>30</td>\n",
       "    </tr>\n",
       "    <tr>\n",
       "      <th>4</th>\n",
       "      <td>3</td>\n",
       "      <td>0.0</td>\n",
       "      <td>107</td>\n",
       "    </tr>\n",
       "  </tbody>\n",
       "</table>\n",
       "</div>"
      ],
      "text/plain": [
       "   bwm_round  Validated WaterGuard Usage  Count\n",
       "0          1                         0.0    126\n",
       "1          1                         1.0     30\n",
       "2          2                         0.0    123\n",
       "3          2                         1.0     30\n",
       "4          3                         0.0    107"
      ]
     },
     "execution_count": 33,
     "metadata": {},
     "output_type": "execute_result"
    }
   ],
   "source": [
    "hh_round_vld = hh_wg.groupby(['bwm_round', 'G5XH5'], as_index=False)['a1_hh_id'].nunique()\n",
    "hh_round_vld.rename(columns={'a1_hh_id': 'Count', 'G5XH5': 'Validated WaterGuard Usage'},inplace=True)\n",
    "hh_round_vld.head()"
   ]
  },
  {
   "cell_type": "code",
   "execution_count": 34,
   "metadata": {
    "deletable": false,
    "editable": false
   },
   "outputs": [
    {
     "data": {
      "text/html": [
       "<p><strong><pre style='display: inline;'>q5_4</pre></strong> passed! 🍀</p>"
      ],
      "text/plain": [
       "q5_4 results: All test cases passed!"
      ]
     },
     "execution_count": 34,
     "metadata": {},
     "output_type": "execute_result"
    }
   ],
   "source": [
    "grader.check(\"q5_4\")"
   ]
  },
  {
   "cell_type": "markdown",
   "metadata": {},
   "source": [
    "Now we turn to a truly interesting part of the survey: How does the promotion of WaterGuard affect the actual use of the product? You might have noticed the `assign_wg` column in both of our datasets: This denotes whether or not a given household has been promoted WG as a product. Promotion includes free samples, encouragement scripts, and follow-ups on water quality. The encoding is as follows: \n",
    "\n",
    "- `assign_wg` = 0 is a control household with no WG Promotion.\n",
    "- `assign_wg` = 1 is a household with WG Promotion."
   ]
  },
  {
   "cell_type": "markdown",
   "metadata": {},
   "source": [
    "Here's an example of how a household with WG promotion looks like across all survey rounds:  "
   ]
  },
  {
   "cell_type": "code",
   "execution_count": 35,
   "metadata": {},
   "outputs": [
    {
     "data": {
      "text/html": [
       "<div>\n",
       "<style scoped>\n",
       "    .dataframe tbody tr th:only-of-type {\n",
       "        vertical-align: middle;\n",
       "    }\n",
       "\n",
       "    .dataframe tbody tr th {\n",
       "        vertical-align: top;\n",
       "    }\n",
       "\n",
       "    .dataframe thead th {\n",
       "        text-align: right;\n",
       "    }\n",
       "</style>\n",
       "<table border=\"1\" class=\"dataframe\">\n",
       "  <thead>\n",
       "    <tr style=\"text-align: right;\">\n",
       "      <th></th>\n",
       "      <th>bwm_round</th>\n",
       "      <th>assign_wg</th>\n",
       "    </tr>\n",
       "  </thead>\n",
       "  <tbody>\n",
       "    <tr>\n",
       "      <th>0</th>\n",
       "      <td>1</td>\n",
       "      <td>1.0</td>\n",
       "    </tr>\n",
       "    <tr>\n",
       "      <th>219</th>\n",
       "      <td>2</td>\n",
       "      <td>1.0</td>\n",
       "    </tr>\n",
       "    <tr>\n",
       "      <th>376</th>\n",
       "      <td>3</td>\n",
       "      <td>1.0</td>\n",
       "    </tr>\n",
       "    <tr>\n",
       "      <th>518</th>\n",
       "      <td>4</td>\n",
       "      <td>1.0</td>\n",
       "    </tr>\n",
       "    <tr>\n",
       "      <th>674</th>\n",
       "      <td>5</td>\n",
       "      <td>1.0</td>\n",
       "    </tr>\n",
       "    <tr>\n",
       "      <th>834</th>\n",
       "      <td>6</td>\n",
       "      <td>1.0</td>\n",
       "    </tr>\n",
       "    <tr>\n",
       "      <th>969</th>\n",
       "      <td>7</td>\n",
       "      <td>1.0</td>\n",
       "    </tr>\n",
       "    <tr>\n",
       "      <th>1159</th>\n",
       "      <td>8</td>\n",
       "      <td>1.0</td>\n",
       "    </tr>\n",
       "    <tr>\n",
       "      <th>1271</th>\n",
       "      <td>9</td>\n",
       "      <td>1.0</td>\n",
       "    </tr>\n",
       "    <tr>\n",
       "      <th>1483</th>\n",
       "      <td>10</td>\n",
       "      <td>1.0</td>\n",
       "    </tr>\n",
       "    <tr>\n",
       "      <th>1634</th>\n",
       "      <td>11</td>\n",
       "      <td>1.0</td>\n",
       "    </tr>\n",
       "    <tr>\n",
       "      <th>1823</th>\n",
       "      <td>12</td>\n",
       "      <td>1.0</td>\n",
       "    </tr>\n",
       "    <tr>\n",
       "      <th>1951</th>\n",
       "      <td>13</td>\n",
       "      <td>1.0</td>\n",
       "    </tr>\n",
       "    <tr>\n",
       "      <th>2094</th>\n",
       "      <td>14</td>\n",
       "      <td>1.0</td>\n",
       "    </tr>\n",
       "    <tr>\n",
       "      <th>2231</th>\n",
       "      <td>15</td>\n",
       "      <td>1.0</td>\n",
       "    </tr>\n",
       "    <tr>\n",
       "      <th>2368</th>\n",
       "      <td>16</td>\n",
       "      <td>1.0</td>\n",
       "    </tr>\n",
       "    <tr>\n",
       "      <th>2680</th>\n",
       "      <td>17</td>\n",
       "      <td>1.0</td>\n",
       "    </tr>\n",
       "    <tr>\n",
       "      <th>2843</th>\n",
       "      <td>18</td>\n",
       "      <td>1.0</td>\n",
       "    </tr>\n",
       "  </tbody>\n",
       "</table>\n",
       "</div>"
      ],
      "text/plain": [
       "      bwm_round  assign_wg\n",
       "0             1        1.0\n",
       "219           2        1.0\n",
       "376           3        1.0\n",
       "518           4        1.0\n",
       "674           5        1.0\n",
       "834           6        1.0\n",
       "969           7        1.0\n",
       "1159          8        1.0\n",
       "1271          9        1.0\n",
       "1483         10        1.0\n",
       "1634         11        1.0\n",
       "1823         12        1.0\n",
       "1951         13        1.0\n",
       "2094         14        1.0\n",
       "2231         15        1.0\n",
       "2368         16        1.0\n",
       "2680         17        1.0\n",
       "2843         18        1.0"
      ]
     },
     "execution_count": 35,
     "metadata": {},
     "output_type": "execute_result"
    }
   ],
   "source": [
    "hh_wg[hh_wg['a1_hh_id']== 872002][['bwm_round', 'assign_wg']]"
   ]
  },
  {
   "cell_type": "markdown",
   "metadata": {
    "deletable": false,
    "editable": false
   },
   "source": [
    "**Question 5.5:** Select the `bwm_round`, `G5XH5`, `assign_wg` columns from our `hh_wg` dataset. Then rename `G5XH5` as `validated_wg` and `assign_wg` as `promoted_wg`, respectively. Only include the normal survey rounds (i.e. not including rounds 99 and 161). Assign your results to `df_55`."
   ]
  },
  {
   "cell_type": "code",
   "execution_count": 36,
   "metadata": {
    "tags": []
   },
   "outputs": [
    {
     "data": {
      "text/html": [
       "<div>\n",
       "<style scoped>\n",
       "    .dataframe tbody tr th:only-of-type {\n",
       "        vertical-align: middle;\n",
       "    }\n",
       "\n",
       "    .dataframe tbody tr th {\n",
       "        vertical-align: top;\n",
       "    }\n",
       "\n",
       "    .dataframe thead th {\n",
       "        text-align: right;\n",
       "    }\n",
       "</style>\n",
       "<table border=\"1\" class=\"dataframe\">\n",
       "  <thead>\n",
       "    <tr style=\"text-align: right;\">\n",
       "      <th></th>\n",
       "      <th>bwm_round</th>\n",
       "      <th>validated_wg</th>\n",
       "      <th>promoted_wg</th>\n",
       "    </tr>\n",
       "  </thead>\n",
       "  <tbody>\n",
       "    <tr>\n",
       "      <th>0</th>\n",
       "      <td>1</td>\n",
       "      <td>1.0</td>\n",
       "      <td>1.0</td>\n",
       "    </tr>\n",
       "    <tr>\n",
       "      <th>1</th>\n",
       "      <td>1</td>\n",
       "      <td>1.0</td>\n",
       "      <td>1.0</td>\n",
       "    </tr>\n",
       "    <tr>\n",
       "      <th>2</th>\n",
       "      <td>1</td>\n",
       "      <td>0.0</td>\n",
       "      <td>0.0</td>\n",
       "    </tr>\n",
       "    <tr>\n",
       "      <th>3</th>\n",
       "      <td>1</td>\n",
       "      <td>0.0</td>\n",
       "      <td>0.0</td>\n",
       "    </tr>\n",
       "    <tr>\n",
       "      <th>4</th>\n",
       "      <td>1</td>\n",
       "      <td>0.0</td>\n",
       "      <td>1.0</td>\n",
       "    </tr>\n",
       "    <tr>\n",
       "      <th>...</th>\n",
       "      <td>...</td>\n",
       "      <td>...</td>\n",
       "      <td>...</td>\n",
       "    </tr>\n",
       "    <tr>\n",
       "      <th>2948</th>\n",
       "      <td>18</td>\n",
       "      <td>0.0</td>\n",
       "      <td>1.0</td>\n",
       "    </tr>\n",
       "    <tr>\n",
       "      <th>2949</th>\n",
       "      <td>18</td>\n",
       "      <td>0.0</td>\n",
       "      <td>0.0</td>\n",
       "    </tr>\n",
       "    <tr>\n",
       "      <th>2950</th>\n",
       "      <td>18</td>\n",
       "      <td>0.0</td>\n",
       "      <td>1.0</td>\n",
       "    </tr>\n",
       "    <tr>\n",
       "      <th>2951</th>\n",
       "      <td>18</td>\n",
       "      <td>0.0</td>\n",
       "      <td>1.0</td>\n",
       "    </tr>\n",
       "    <tr>\n",
       "      <th>2952</th>\n",
       "      <td>18</td>\n",
       "      <td>1.0</td>\n",
       "      <td>1.0</td>\n",
       "    </tr>\n",
       "  </tbody>\n",
       "</table>\n",
       "<p>2801 rows × 3 columns</p>\n",
       "</div>"
      ],
      "text/plain": [
       "      bwm_round  validated_wg  promoted_wg\n",
       "0             1           1.0          1.0\n",
       "1             1           1.0          1.0\n",
       "2             1           0.0          0.0\n",
       "3             1           0.0          0.0\n",
       "4             1           0.0          1.0\n",
       "...         ...           ...          ...\n",
       "2948         18           0.0          1.0\n",
       "2949         18           0.0          0.0\n",
       "2950         18           0.0          1.0\n",
       "2951         18           0.0          1.0\n",
       "2952         18           1.0          1.0\n",
       "\n",
       "[2801 rows x 3 columns]"
      ]
     },
     "execution_count": 36,
     "metadata": {},
     "output_type": "execute_result"
    }
   ],
   "source": [
    "df_55 = hh_wg[ (hh_wg['bwm_round'] != 99) & (hh_wg['bwm_round'] != 161)][['bwm_round', 'G5XH5', 'assign_wg']]\n",
    "df_55 = df_55.rename({'G5XH5': 'validated_wg', 'assign_wg': 'promoted_wg'}, axis=1)\n",
    "df_55"
   ]
  },
  {
   "cell_type": "code",
   "execution_count": 37,
   "metadata": {
    "deletable": false,
    "editable": false
   },
   "outputs": [
    {
     "data": {
      "text/html": [
       "<p><strong><pre style='display: inline;'>q5_5</pre></strong> passed! ✨</p>"
      ],
      "text/plain": [
       "q5_5 results: All test cases passed!"
      ]
     },
     "execution_count": 37,
     "metadata": {},
     "output_type": "execute_result"
    }
   ],
   "source": [
    "grader.check(\"q5_5\")"
   ]
  },
  {
   "cell_type": "markdown",
   "metadata": {
    "deletable": false,
    "editable": false
   },
   "source": [
    "**Question 5.6:** How does validated Waterguard usage vary in our treatment and control groups across all survey rounds? Use `df_55` to find out the average proportion of households with validated WG usage per round for the treatment and control group respectively. Your resulting dataframe should have 3 columns: `bwm_round` (round number), `promoted_wg` (binary column indicating treatment or control group), and `proportion` (proportion of households using waterguard for the treatment/control group in that round). Assign your results to `df_56`."
   ]
  },
  {
   "cell_type": "code",
   "execution_count": 38,
   "metadata": {
    "tags": []
   },
   "outputs": [
    {
     "data": {
      "text/html": [
       "<div>\n",
       "<style scoped>\n",
       "    .dataframe tbody tr th:only-of-type {\n",
       "        vertical-align: middle;\n",
       "    }\n",
       "\n",
       "    .dataframe tbody tr th {\n",
       "        vertical-align: top;\n",
       "    }\n",
       "\n",
       "    .dataframe thead th {\n",
       "        text-align: right;\n",
       "    }\n",
       "</style>\n",
       "<table border=\"1\" class=\"dataframe\">\n",
       "  <thead>\n",
       "    <tr style=\"text-align: right;\">\n",
       "      <th></th>\n",
       "      <th>bwm_round</th>\n",
       "      <th>promoted_wg</th>\n",
       "      <th>proportion</th>\n",
       "    </tr>\n",
       "  </thead>\n",
       "  <tbody>\n",
       "    <tr>\n",
       "      <th>0</th>\n",
       "      <td>1</td>\n",
       "      <td>0.0</td>\n",
       "      <td>0.060976</td>\n",
       "    </tr>\n",
       "    <tr>\n",
       "      <th>1</th>\n",
       "      <td>1</td>\n",
       "      <td>1.0</td>\n",
       "      <td>0.337838</td>\n",
       "    </tr>\n",
       "    <tr>\n",
       "      <th>2</th>\n",
       "      <td>2</td>\n",
       "      <td>0.0</td>\n",
       "      <td>0.064103</td>\n",
       "    </tr>\n",
       "    <tr>\n",
       "      <th>3</th>\n",
       "      <td>2</td>\n",
       "      <td>1.0</td>\n",
       "      <td>0.333333</td>\n",
       "    </tr>\n",
       "    <tr>\n",
       "      <th>4</th>\n",
       "      <td>3</td>\n",
       "      <td>0.0</td>\n",
       "      <td>0.080000</td>\n",
       "    </tr>\n",
       "    <tr>\n",
       "      <th>5</th>\n",
       "      <td>3</td>\n",
       "      <td>1.0</td>\n",
       "      <td>0.500000</td>\n",
       "    </tr>\n",
       "    <tr>\n",
       "      <th>6</th>\n",
       "      <td>4</td>\n",
       "      <td>0.0</td>\n",
       "      <td>0.089744</td>\n",
       "    </tr>\n",
       "    <tr>\n",
       "      <th>7</th>\n",
       "      <td>4</td>\n",
       "      <td>1.0</td>\n",
       "      <td>0.480000</td>\n",
       "    </tr>\n",
       "    <tr>\n",
       "      <th>8</th>\n",
       "      <td>5</td>\n",
       "      <td>0.0</td>\n",
       "      <td>0.095238</td>\n",
       "    </tr>\n",
       "    <tr>\n",
       "      <th>9</th>\n",
       "      <td>5</td>\n",
       "      <td>1.0</td>\n",
       "      <td>0.448718</td>\n",
       "    </tr>\n",
       "    <tr>\n",
       "      <th>10</th>\n",
       "      <td>6</td>\n",
       "      <td>0.0</td>\n",
       "      <td>0.112500</td>\n",
       "    </tr>\n",
       "    <tr>\n",
       "      <th>11</th>\n",
       "      <td>6</td>\n",
       "      <td>1.0</td>\n",
       "      <td>0.526316</td>\n",
       "    </tr>\n",
       "    <tr>\n",
       "      <th>12</th>\n",
       "      <td>7</td>\n",
       "      <td>0.0</td>\n",
       "      <td>0.142857</td>\n",
       "    </tr>\n",
       "    <tr>\n",
       "      <th>13</th>\n",
       "      <td>7</td>\n",
       "      <td>1.0</td>\n",
       "      <td>0.405063</td>\n",
       "    </tr>\n",
       "    <tr>\n",
       "      <th>14</th>\n",
       "      <td>8</td>\n",
       "      <td>0.0</td>\n",
       "      <td>0.150000</td>\n",
       "    </tr>\n",
       "    <tr>\n",
       "      <th>15</th>\n",
       "      <td>8</td>\n",
       "      <td>1.0</td>\n",
       "      <td>0.432432</td>\n",
       "    </tr>\n",
       "    <tr>\n",
       "      <th>16</th>\n",
       "      <td>9</td>\n",
       "      <td>0.0</td>\n",
       "      <td>0.111111</td>\n",
       "    </tr>\n",
       "    <tr>\n",
       "      <th>17</th>\n",
       "      <td>9</td>\n",
       "      <td>1.0</td>\n",
       "      <td>0.493151</td>\n",
       "    </tr>\n",
       "    <tr>\n",
       "      <th>18</th>\n",
       "      <td>10</td>\n",
       "      <td>0.0</td>\n",
       "      <td>0.117647</td>\n",
       "    </tr>\n",
       "    <tr>\n",
       "      <th>19</th>\n",
       "      <td>10</td>\n",
       "      <td>1.0</td>\n",
       "      <td>0.402597</td>\n",
       "    </tr>\n",
       "    <tr>\n",
       "      <th>20</th>\n",
       "      <td>11</td>\n",
       "      <td>0.0</td>\n",
       "      <td>0.104651</td>\n",
       "    </tr>\n",
       "    <tr>\n",
       "      <th>21</th>\n",
       "      <td>11</td>\n",
       "      <td>1.0</td>\n",
       "      <td>0.423077</td>\n",
       "    </tr>\n",
       "    <tr>\n",
       "      <th>22</th>\n",
       "      <td>12</td>\n",
       "      <td>0.0</td>\n",
       "      <td>0.130952</td>\n",
       "    </tr>\n",
       "    <tr>\n",
       "      <th>23</th>\n",
       "      <td>12</td>\n",
       "      <td>1.0</td>\n",
       "      <td>0.441558</td>\n",
       "    </tr>\n",
       "    <tr>\n",
       "      <th>24</th>\n",
       "      <td>13</td>\n",
       "      <td>0.0</td>\n",
       "      <td>0.157895</td>\n",
       "    </tr>\n",
       "    <tr>\n",
       "      <th>25</th>\n",
       "      <td>13</td>\n",
       "      <td>1.0</td>\n",
       "      <td>0.438356</td>\n",
       "    </tr>\n",
       "    <tr>\n",
       "      <th>26</th>\n",
       "      <td>14</td>\n",
       "      <td>0.0</td>\n",
       "      <td>0.080000</td>\n",
       "    </tr>\n",
       "    <tr>\n",
       "      <th>27</th>\n",
       "      <td>14</td>\n",
       "      <td>1.0</td>\n",
       "      <td>0.449275</td>\n",
       "    </tr>\n",
       "    <tr>\n",
       "      <th>28</th>\n",
       "      <td>15</td>\n",
       "      <td>0.0</td>\n",
       "      <td>0.115385</td>\n",
       "    </tr>\n",
       "    <tr>\n",
       "      <th>29</th>\n",
       "      <td>15</td>\n",
       "      <td>1.0</td>\n",
       "      <td>0.415584</td>\n",
       "    </tr>\n",
       "    <tr>\n",
       "      <th>30</th>\n",
       "      <td>16</td>\n",
       "      <td>0.0</td>\n",
       "      <td>0.036585</td>\n",
       "    </tr>\n",
       "    <tr>\n",
       "      <th>31</th>\n",
       "      <td>16</td>\n",
       "      <td>1.0</td>\n",
       "      <td>0.141026</td>\n",
       "    </tr>\n",
       "    <tr>\n",
       "      <th>32</th>\n",
       "      <td>17</td>\n",
       "      <td>0.0</td>\n",
       "      <td>0.053333</td>\n",
       "    </tr>\n",
       "    <tr>\n",
       "      <th>33</th>\n",
       "      <td>17</td>\n",
       "      <td>1.0</td>\n",
       "      <td>0.246154</td>\n",
       "    </tr>\n",
       "    <tr>\n",
       "      <th>34</th>\n",
       "      <td>18</td>\n",
       "      <td>0.0</td>\n",
       "      <td>0.024096</td>\n",
       "    </tr>\n",
       "    <tr>\n",
       "      <th>35</th>\n",
       "      <td>18</td>\n",
       "      <td>1.0</td>\n",
       "      <td>0.246753</td>\n",
       "    </tr>\n",
       "  </tbody>\n",
       "</table>\n",
       "</div>"
      ],
      "text/plain": [
       "    bwm_round  promoted_wg  proportion\n",
       "0           1          0.0    0.060976\n",
       "1           1          1.0    0.337838\n",
       "2           2          0.0    0.064103\n",
       "3           2          1.0    0.333333\n",
       "4           3          0.0    0.080000\n",
       "5           3          1.0    0.500000\n",
       "6           4          0.0    0.089744\n",
       "7           4          1.0    0.480000\n",
       "8           5          0.0    0.095238\n",
       "9           5          1.0    0.448718\n",
       "10          6          0.0    0.112500\n",
       "11          6          1.0    0.526316\n",
       "12          7          0.0    0.142857\n",
       "13          7          1.0    0.405063\n",
       "14          8          0.0    0.150000\n",
       "15          8          1.0    0.432432\n",
       "16          9          0.0    0.111111\n",
       "17          9          1.0    0.493151\n",
       "18         10          0.0    0.117647\n",
       "19         10          1.0    0.402597\n",
       "20         11          0.0    0.104651\n",
       "21         11          1.0    0.423077\n",
       "22         12          0.0    0.130952\n",
       "23         12          1.0    0.441558\n",
       "24         13          0.0    0.157895\n",
       "25         13          1.0    0.438356\n",
       "26         14          0.0    0.080000\n",
       "27         14          1.0    0.449275\n",
       "28         15          0.0    0.115385\n",
       "29         15          1.0    0.415584\n",
       "30         16          0.0    0.036585\n",
       "31         16          1.0    0.141026\n",
       "32         17          0.0    0.053333\n",
       "33         17          1.0    0.246154\n",
       "34         18          0.0    0.024096\n",
       "35         18          1.0    0.246753"
      ]
     },
     "execution_count": 38,
     "metadata": {},
     "output_type": "execute_result"
    }
   ],
   "source": [
    "df_56= df_55.groupby(['bwm_round','promoted_wg'],as_index=False).agg(proportion=('validated_wg', 'mean'))\n",
    "df_56"
   ]
  },
  {
   "cell_type": "code",
   "execution_count": 39,
   "metadata": {
    "deletable": false,
    "editable": false
   },
   "outputs": [
    {
     "data": {
      "text/html": [
       "<p><strong><pre style='display: inline;'>q5_6</pre></strong> passed! 🎉</p>"
      ],
      "text/plain": [
       "q5_6 results: All test cases passed!"
      ]
     },
     "execution_count": 39,
     "metadata": {},
     "output_type": "execute_result"
    }
   ],
   "source": [
    "grader.check(\"q5_6\")"
   ]
  },
  {
   "cell_type": "markdown",
   "metadata": {},
   "source": [
    "We plot the data below."
   ]
  },
  {
   "cell_type": "code",
   "execution_count": 40,
   "metadata": {},
   "outputs": [
    {
     "data": {
      "image/png": "[encoded data removed]",
      "text/plain": [
       "<Figure size 640x480 with 1 Axes>"
      ]
     },
     "metadata": {},
     "output_type": "display_data"
    }
   ],
   "source": [
    "ax = sns.lineplot(data=df_56,x='bwm_round', y='proportion', hue='promoted_wg');\n",
    "plt.legend(title='Treatment Group')\n",
    "ax.set(xlabel='Round Number', ylabel='Proportion of WaterGuard Usage', \n",
    "       title='Validated WaterGuard Usage for Treatment vs Control Groups across different rounds');"
   ]
  },
  {
   "cell_type": "markdown",
   "metadata": {
    "deletable": false,
    "editable": false
   },
   "source": [
    "<!-- BEGIN QUESTION -->\n",
    "\n",
    "**Question 5.7:** Does the plot above surprise you? Did you expect the effect of WG promotion to be larger, smaller, or follow another trend curve than what we witness above? (2-3 sentences should suffice.)"
   ]
  },
  {
   "cell_type": "markdown",
   "metadata": {},
   "source": [
    "No, the plot did not surprise me. It shows households in the treatment group used WaterGuard more than those in the control group. However, the drop in WG usage around round 15 is surprising, which could be due lack of access of WG. The small rise of WG usage at the end suggests that some households may have started using WaterGuard again, possibly due to participating in the surveys, getting reminders or an increase in illness."
   ]
  },
  {
   "cell_type": "markdown",
   "metadata": {
    "deletable": false,
    "editable": false
   },
   "source": [
    "<!-- END QUESTION -->\n",
    "\n",
    "___\n",
    "## Congratulations!"
   ]
  },
  {
   "cell_type": "markdown",
   "metadata": {},
   "source": [
    "You just finished the longest lab in Econ 148. Give yourself a clap on the shoulder and sit back and appreciate your following accomplishments:\n",
    "\n",
    "- You performed a stellar EDA of the Main Rural Project Spring Protection Study, a real-world dev-econ project!\n",
    "- You delved deep into a truly complex survey, and put yourself into the situation of both the interviewer and the one being interviewed!\n",
    "- With your understanding of the survey, you analysed the prevalence of 5 serious diseases across 2000+ households, and even built a function to do so!\n",
    "- You understood and analysed the Hawthorne effect, and managed to quanitfy the extent to which it was present in our study data.\n",
    "- You set yourself up for a further analysis of diarrhea prevalence through examining the usage and promotion of WaterGuard.\n",
    "- And much more!\n",
    "What a lab!"
   ]
  },
  {
   "cell_type": "markdown",
   "metadata": {
    "cell_id": "fa6d783abc76450881dd94c37c9a4451",
    "deepnote_cell_type": "text-cell-h2",
    "formattedRanges": [],
    "is_collapsed": false,
    "tags": []
   },
   "source": [
    "<a id='appendix_1'></a>\n",
    "## Appendix 1: Relevant Column Sections"
   ]
  },
  {
   "cell_type": "markdown",
   "metadata": {
    "cell_id": "0a62755437b1452a8316af391e0d6544",
    "deepnote_cell_type": "text-cell-p",
    "formattedRanges": [
     {
      "fromCodePoint": 0,
      "marks": {
       "bold": true
      },
      "toCodePoint": 57,
      "type": "marks"
     }
    ],
    "is_collapsed": false,
    "tags": []
   },
   "source": [
    "Columns to register children born within the past 2 weeks"
   ]
  },
  {
   "cell_type": "markdown",
   "metadata": {
    "cell_id": "df7c3cc1cd46482f8bcfc69a2c6450e5",
    "deepnote_cell_type": "text-cell-bullet",
    "formattedRanges": [],
    "is_collapsed": false,
    "tags": []
   },
   "source": [
    "- 'c3_1_child_id',\n",
    " 'c3_2a_name1',\n",
    " 'c3_2b_name2',\n",
    " 'c3_3_gender',\n",
    " 'c3_4_doa_day',\n",
    " 'c3_4_doa_month',\n",
    " 'c3_4_doa_year',\n",
    " 'c3_5_dob_day',\n",
    " 'c3_5_dob_month',\n",
    " 'c3_5_dob_year',\n",
    " 'c3_6_age_months',\n",
    " 'c3_6_age_weeks',\n",
    " 'c3_6_age_years',\n",
    " 'c3_7_verified',\n",
    " 'c3_7_verified_other',"
   ]
  },
  {
   "cell_type": "markdown",
   "metadata": {
    "cell_id": "4756d49c85564fdb88b5ede882c6f99e",
    "deepnote_cell_type": "text-cell-p",
    "formattedRanges": [
     {
      "fromCodePoint": 0,
      "marks": {
       "bold": true
      },
      "toCodePoint": 36,
      "type": "marks"
     }
    ],
    "is_collapsed": false,
    "tags": []
   },
   "source": [
    "General Child Health History columns"
   ]
  },
  {
   "cell_type": "markdown",
   "metadata": {
    "cell_id": "321b5327be5f4494aac6a02aa76b117b",
    "deepnote_cell_type": "text-cell-p",
    "formattedRanges": [
     {
      "fromCodePoint": 338,
      "marks": {
       "italic": true
      },
      "toCodePoint": 344,
      "type": "marks"
     }
    ],
    "is_collapsed": false,
    "tags": []
   },
   "source": [
    "Note: There are 10x sheets of these in the original survey, one for each child's health condition. They ask questions on whether or not child has had (during the past week) symptoms of diarrhea, blood in stool, fever, vomiting, constant cough, and/or weakness. One of the reasons for the amount of the columns is that the survey asks for daily symptom data."
   ]
  },
  {
   "cell_type": "markdown",
   "metadata": {
    "cell_id": "d303c927c1944bec97c93a80684d0601",
    "deepnote_cell_type": "text-cell-bullet",
    "formattedRanges": [],
    "is_collapsed": false,
    "tags": []
   },
   "source": [
    "-  'd1_child_id',\n",
    " 'd3_clinic_card',\n",
    " 'd4a_dob_day',\n",
    " 'd4a_dob_month',\n",
    " 'd4a_dob_year',\n",
    " 'd4b_age_months',\n",
    " 'd4b_age_weeks',\n",
    " 'd4b_age_years',\n",
    " 'd5a_main_other_relation',\n",
    " 'd5a_main_relation',\n",
    " 'd5b_hist_other_relation',\n",
    " 'd5b_hist_relation',"
   ]
  },
  {
   "cell_type": "markdown",
   "metadata": {
    "cell_id": "d630ebcb6e9b4af8822d05b6285979f5",
    "deepnote_cell_type": "text-cell-bullet",
    "formattedRanges": [],
    "is_collapsed": false,
    "tags": []
   },
   "source": [
    "- Diarrhea Section: 'd6a1_7day_diarrhea',\n",
    " 'd6a2_7day_blood_in_stool',\n",
    " 'd6b_7day_fever',\n",
    " 'd6c_7day_vomiting',\n",
    " 'd6d1_7day_cough',\n",
    " 'd6d2_7day_chest_noise',\n",
    " 'd6d3_7day_dif_breathing',\n",
    " 'd6e_7day_weakness','d7a1_num_diarrhea',\n",
    " 'd7a2_num_blood_in_stool',\n",
    " 'd7b_num_fever',\n",
    " 'd7c_num_vomiting',\n",
    " 'd7d1_num_cough',\n",
    " 'd7d2_num_chest_noise',\n",
    " 'd7d3_num_dif_breathing',\n",
    " 'd7e_num_weakness',\n",
    " 'd8a1_unit_diarrhea',\n",
    " 'd8a2_unit_blood_in_stool',\n",
    " 'd8b_unit_fever',\n",
    " 'd8c_unit_vomiting',\n",
    " 'd8d1_unit_cough',\n",
    " 'd8d2_unit_chest_noise',\n",
    " 'd8d3_unit_dif_breath',\n",
    " 'd8e_unit_weakness',\n",
    " 'd9a1_today_diarrhea',\n",
    " 'd9a2_today_blood_in_stool',\n",
    " 'd9b_today_fever',\n",
    " 'd9c_today_vomiting',\n",
    " 'd9d1_today_cough',\n",
    " 'd9d2_today_chest_noise',\n",
    " 'd9d3_today_dif_breathing',\n",
    " 'd9e_today_weakness',\n",
    " 'd10a1_yest_diarrhea',\n",
    " 'd10a2_yest_blood_in_stool',\n",
    " 'd11a1_2day_diarrhea',\n",
    " 'd11a2_2day_blood_in_stool',\n",
    " 'd12a1_3day_diarrhea',\n",
    " 'd12a2_3day_blood_in_stool',\n",
    " 'd13a1_4day_diarrhea',\n",
    " 'd13a2_4day_blood_in_stool',\n",
    " 'd14a1_5day_diarrhea',\n",
    " 'd14a2_5day_blood_in_stool',\n",
    " 'd15a1_6day_diarrhea',\n",
    " 'd15a2_6day_blood_in_stool',\n",
    " 'd16a1_7day_diarrhea',\n",
    " 'd16a2_7day_blood_in_stool',\n",
    " 'd17b_numdays_fever',\n",
    " 'd17c_numdays_vomiting',\n",
    " 'd17d1_numdays_cough',\n",
    " 'd17d2_numdays_chest_noise',\n",
    " 'd17d3_numdays_dif_breathing',\n",
    " 'd17e_numdays_weakness',\n",
    " 'd18_stool',\n",
    " 'd18_stool_other',\n",
    " 'd19_drink_from_respondent',\n",
    " 'd20_tears',\n",
    " 'd21_urine',\n",
    " 'd22_missed_school',\n",
    " 'd23_hospital',\n",
    " 'd24_breastfeeding',\n",
    " 'd25_consent',"
   ]
  },
  {
   "cell_type": "markdown",
   "metadata": {
    "cell_id": "f2b0fdbec22646359453db11fb7814d3",
    "deepnote_cell_type": "text-cell-p",
    "formattedRanges": [
     {
      "fromCodePoint": 0,
      "marks": {
       "bold": true
      },
      "toCodePoint": 25,
      "type": "marks"
     }
    ],
    "is_collapsed": false,
    "tags": []
   },
   "source": [
    "Child Examination Columns"
   ]
  },
  {
   "cell_type": "markdown",
   "metadata": {
    "cell_id": "cf3d9ea81809461b972d798dd6851c5d",
    "deepnote_cell_type": "text-cell-p",
    "formattedRanges": [],
    "is_collapsed": false,
    "tags": []
   },
   "source": [
    "Note: This section is filled out if child had diarrhea on the same day as the survey - after filling out section D, the one above. Each entry is for a unique child_id in the household. There can be multiple per visit (e.g several children have diarrhea in the household at the same time.)"
   ]
  },
  {
   "cell_type": "markdown",
   "metadata": {
    "cell_id": "030b58ced5634006a9600519cf924fe5",
    "deepnote_cell_type": "text-cell-bullet",
    "formattedRanges": [],
    "is_collapsed": false,
    "tags": []
   },
   "source": [
    "- 'e1_1_child_id',\n",
    " 'e1_2_mucous_membrane',\n",
    " 'e1_3_nasal_flaring',\n",
    " 'e1_4_acc_musc',\n",
    " 'e1_5_fontanels',\n",
    " 'e1_6_temp',\n",
    " 'e1_7_resp_num',\n",
    " 'e1_7_resp_sleep',\n",
    " 'e1_7_resp_time',\n",
    " 'e1_8_turgor',\n",
    " 'e1_9_alertness',\n",
    " 'e1_10_pulse_num',\n",
    " 'e1_10_pulse_sleep',\n",
    " 'e1_10_pulse_time',\n",
    " 'e1_11_unable_to_assess',"
   ]
  },
  {
   "cell_type": "markdown",
   "metadata": {
    "cell_id": "bd1ddf048a354ff0ab7f0468291bf449",
    "deepnote_cell_type": "text-cell-p",
    "formattedRanges": [
     {
      "fromCodePoint": 0,
      "marks": {
       "bold": true
      },
      "toCodePoint": 25,
      "type": "marks"
     }
    ],
    "is_collapsed": false,
    "tags": []
   },
   "source": [
    "Child Information Section"
   ]
  },
  {
   "cell_type": "markdown",
   "metadata": {
    "cell_id": "6f3b0e1410654da39c8e81c2d00395a3",
    "deepnote_cell_type": "text-cell-p",
    "formattedRanges": [],
    "is_collapsed": false,
    "tags": []
   },
   "source": [
    "This section aims to map an overview of the two previous sections, registering whether or not there was a child health and/or examination section filled out for every individual child in the household. It could be thought of as a 'history' chart for a given household over the time of the survey. (ERIC)"
   ]
  },
  {
   "cell_type": "markdown",
   "metadata": {
    "cell_id": "c208a64dbe80436184e863a4452e0280",
    "deepnote_cell_type": "text-cell-bullet",
    "formattedRanges": [],
    "is_collapsed": false,
    "tags": []
   },
   "source": [
    "- 'fa_id',\n",
    " 'fb1_child_alive',\n",
    " 'fb2_status_duplicate_id',\n",
    " 'fc_history_taken',\n",
    " 'fc_history_taken_explain',\n",
    " 'fd_exam_done',\n",
    " 'fd_exam_done_explain',\n",
    " 'fe_clinic_card',\n",
    " 'ff_card_measles',\n",
    " 'fg_vaccinations',\n",
    " 'fh_vacc_age',\n",
    " 'fi_vacc_public',\n",
    " 'f11_1_child_id',\n",
    " 'f11_2_diarrhea',\n",
    " 'f11_3_num_of_days',"
   ]
  },
  {
   "cell_type": "markdown",
   "metadata": {
    "deletable": false,
    "editable": false
   },
   "source": [
    "## Submission\n",
    "\n",
    "Make sure you have run all cells in your notebook in order before running the cell below, so that all images/graphs appear in the output. The cell below will generate a zip file for you to submit. **Please save before exporting!**"
   ]
  },
  {
   "cell_type": "code",
   "execution_count": 41,
   "metadata": {
    "deletable": false,
    "editable": false
   },
   "outputs": [
    {
     "name": "stdout",
     "output_type": "stream",
     "text": [
      "Running your submission against local test cases...\n",
      "\n",
      "\n",
      "Your submission received the following results when run against available test cases:\n",
      "\n",
      "    q1_1 results: All test cases passed!\n",
      "\n",
      "    q1_2 results: All test cases passed!\n",
      "\n",
      "    q1_4 results: All test cases passed!\n",
      "\n",
      "    q3_1 results: All test cases passed!\n",
      "\n",
      "    q3_3 results: All test cases passed!\n",
      "\n",
      "    q3_4 results: All test cases passed!\n",
      "\n",
      "    q3_6 results: All test cases passed!\n",
      "\n",
      "    q4_1 results: All test cases passed!\n",
      "\n",
      "    q5_1 results: All test cases passed!\n",
      "\n",
      "    q5_3 results: All test cases passed!\n",
      "\n",
      "    q5_4 results: All test cases passed!\n",
      "\n",
      "    q5_5 results: All test cases passed!\n",
      "\n",
      "    q5_6 results: All test cases passed!\n"
     ]
    },
    {
     "data": {
      "text/html": [
       "\n",
       "                    <p>\n",
       "                        Your submission has been exported. Click\n",
       "                        <a href=\"lab03_2025_02_12T22_46_06_279647.zip\" download=\"lab03_2025_02_12T22_46_06_279647.zip\" target=\"_blank\">here</a> to download\n",
       "                        the zip file.\n",
       "                    </p>\n",
       "                "
      ],
      "text/plain": [
       "<IPython.core.display.HTML object>"
      ]
     },
     "metadata": {},
     "output_type": "display_data"
    }
   ],
   "source": [
    "# Save your notebook first, then run this cell to export your submission.\n",
    "grader.export(run_tests=True)"
   ]
  },
  {
   "cell_type": "markdown",
   "metadata": {},
   "source": [
    " "
   ]
  }
 ],
 "metadata": {
  "deepnote": {},
  "deepnote_execution_queue": [],
  "deepnote_notebook_id": "29435fdcadfe45859ceb345602950de1",
  "kernelspec": {
   "display_name": "Python 3 (ipykernel)",
   "language": "python",
   "name": "python3"
  },
  "language_info": {
   "codemirror_mode": {
    "name": "ipython",
    "version": 3
   },
   "file_extension": ".py",
   "mimetype": "text/x-python",
   "name": "python",
   "nbconvert_exporter": "python",
   "pygments_lexer": "ipython3",
   "version": "3.11.11"
  },
  "otter": {
   "OK_FORMAT": true,
   "export_pdf_failure_message": "PDF did not generate, please submit screenshots for questions 1.3, 2.1, 2.2, 2.3, 3.2, 3.5, 3.8, 4.2, 5.2, 5.6 and 5.10.",
   "require_no_pdf_confirmation": true,
   "tests": {
    "q1_1": {
     "name": "q1_1",
     "points": 1,
     "suites": [
      {
       "cases": [
        {
         "code": ">>> assert wg_df.iloc[3].quiz_id == 4099 and wg_df.iloc[4].quiz_id == 5107\n",
         "hidden": false,
         "locked": false
        }
       ],
       "scored": true,
       "setup": "",
       "teardown": "",
       "type": "doctest"
      }
     ]
    },
    "q1_2": {
     "name": "q1_2",
     "points": 1,
     "suites": [
      {
       "cases": [
        {
         "code": ">>> assert N_rows == 7782 and N_cols == 224\n",
         "hidden": false,
         "locked": false
        }
       ],
       "scored": true,
       "setup": "",
       "teardown": "",
       "type": "doctest"
      }
     ]
    },
    "q1_4": {
     "name": "q1_4",
     "points": 1,
     "suites": [
      {
       "cases": [
        {
         "code": ">>> assert (num_households ^ 303) % 10 == 1 and num_springs % 5 == 2 and ((num_interview_rounds ^ 25) % 7 == 6)\n",
         "hidden": false,
         "locked": false
        }
       ],
       "scored": true,
       "setup": "",
       "teardown": "",
       "type": "doctest"
      }
     ]
    },
    "q3_1": {
     "name": "q3_1",
     "points": 1,
     "suites": [
      {
       "cases": [
        {
         "code": ">>> assert grouped_by_round.shape == (18, 2)\n",
         "hidden": false,
         "locked": false
        },
        {
         "code": ">>> assert grouped_by_round.iloc[6]['bwm_round'] == 7 and grouped_by_round.iloc[6]['count'] == 415 and (grouped_by_round.iloc[9]['bwm_round'] == 10) and (grouped_by_round.iloc[9]['count'] == 408)\n",
         "hidden": false,
         "locked": false
        },
        {
         "code": ">>> assert 'count' in grouped_by_round.columns and 'bwm_round' in grouped_by_round.columns\n",
         "hidden": false,
         "locked": false
        }
       ],
       "scored": true,
       "setup": "",
       "teardown": "",
       "type": "doctest"
      }
     ]
    },
    "q3_3": {
     "name": "q3_3",
     "points": 1,
     "suites": [
      {
       "cases": [
        {
         "code": ">>> assert diarrhea_groups.values.all()\n",
         "hidden": false,
         "locked": false
        },
        {
         "code": ">>> assert 6525 in diarrhea_groups.values and 526 in diarrhea_groups.values\n",
         "hidden": false,
         "locked": false
        }
       ],
       "scored": true,
       "setup": "",
       "teardown": "",
       "type": "doctest"
      }
     ]
    },
    "q3_4": {
     "name": "q3_4",
     "points": 1,
     "suites": [
      {
       "cases": [
        {
         "code": ">>> assert wg_plot_df.iloc[6].bwm_round == 4 and wg_plot_df.iloc[6].d6a1_7dd_n == 0 and (wg_plot_df.iloc[6]['count'] == 360)\n",
         "hidden": false,
         "locked": false
        }
       ],
       "scored": true,
       "setup": "",
       "teardown": "",
       "type": "doctest"
      }
     ]
    },
    "q3_6": {
     "name": "q3_6",
     "points": 1,
     "suites": [
      {
       "cases": [
        {
         "code": ">>> assert wg_plot_df_mean.shape == (18, 1) and np.isclose(wg_plot_df_mean.iloc[5, 0], 0.067164)\n",
         "hidden": false,
         "locked": false
        }
       ],
       "scored": true,
       "setup": "",
       "teardown": "",
       "type": "doctest"
      }
     ]
    },
    "q4_1": {
     "name": "q4_1",
     "points": 1,
     "suites": [
      {
       "cases": [
        {
         "code": ">>> assert special_proportions.shape == (2, 1)\n",
         "hidden": false,
         "locked": false
        },
        {
         "code": ">>> assert np.isclose(special_proportions[special_proportions.index == 99].values[0][0], 0.109195)\n",
         "hidden": false,
         "locked": false
        }
       ],
       "scored": true,
       "setup": "",
       "teardown": "",
       "type": "doctest"
      }
     ]
    },
    "q5_1": {
     "name": "q5_1",
     "points": 1,
     "suites": [
      {
       "cases": [
        {
         "code": ">>> assert hh_wg.shape == (3095, 2205)\n",
         "hidden": false,
         "locked": false
        }
       ],
       "scored": true,
       "setup": "",
       "teardown": "",
       "type": "doctest"
      }
     ]
    },
    "q5_3": {
     "name": "q5_3",
     "points": 1,
     "suites": [
      {
       "cases": [
        {
         "code": ">>> assert hh_round.shape == (20, 1)\n",
         "hidden": false,
         "locked": false
        },
        {
         "code": ">>> assert np.isclose(np.mean(hh_round['a1_hh_id']), 154.75)\n",
         "hidden": false,
         "locked": false
        }
       ],
       "scored": true,
       "setup": "",
       "teardown": "",
       "type": "doctest"
      }
     ]
    },
    "q5_4": {
     "name": "q5_4",
     "points": 1,
     "suites": [
      {
       "cases": [
        {
         "code": ">>> assert hh_round_vld.shape == (40, 3)\n",
         "hidden": false,
         "locked": false
        },
        {
         "code": ">>> assert np.isclose(np.mean(hh_round_vld['Count']), 77.375)\n",
         "hidden": false,
         "locked": false
        }
       ],
       "scored": true,
       "setup": "",
       "teardown": "",
       "type": "doctest"
      }
     ]
    },
    "q5_5": {
     "name": "q5_5",
     "points": 1,
     "suites": [
      {
       "cases": [
        {
         "code": ">>> assert df_55.shape == (2801, 3)\n",
         "hidden": false,
         "locked": false
        },
        {
         "code": ">>> assert np.all(df_55.columns == ['bwm_round', 'validated_wg', 'promoted_wg'])\n",
         "hidden": false,
         "locked": false
        },
        {
         "code": ">>> assert np.isclose(np.sum(df_55['validated_wg']), 678.0)\n",
         "hidden": false,
         "locked": false
        }
       ],
       "scored": true,
       "setup": "",
       "teardown": "",
       "type": "doctest"
      }
     ]
    },
    "q5_6": {
     "name": "q5_6",
     "points": 1,
     "suites": [
      {
       "cases": [
        {
         "code": ">>> assert df_56.shape == (36, 3)\n",
         "hidden": false,
         "locked": false
        },
        {
         "code": ">>> assert np.isclose(np.mean(df_56['proportion']), 0.2468974)\n",
         "hidden": false,
         "locked": false
        }
       ],
       "scored": true,
       "setup": "",
       "teardown": "",
       "type": "doctest"
      }
     ]
    }
   }
  }
 },
 "nbformat": 4,
 "nbformat_minor": 4
}
