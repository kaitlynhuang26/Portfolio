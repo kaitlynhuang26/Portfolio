{
 "cells": [
  {
   "cell_type": "code",
   "execution_count": 251,
   "metadata": {
    "deletable": false,
    "editable": false
   },
   "outputs": [],
   "source": [
    "# Initialize Otter\n",
    "import otter\n",
    "grader = otter.Notebook(\"hw02B.ipynb\")"
   ]
  },
  {
   "cell_type": "markdown",
   "metadata": {
    "nbgrader": {
     "grade": false,
     "grade_id": "intro-hw2",
     "locked": true,
     "schema_version": 2,
     "solution": false
    }
   },
   "source": [
    "# 🕵️ Homework 2B: Food Safety (Continued)\n",
    "\n",
    "## Due Date: Thursday, February 13, 11:59 PM\n",
    "You must submit this assignment to Gradescope by the on-time deadline, Thursday, February 13, 11:59 PM. Please read the syllabus for the Slip Day policy. No late submissions beyond what is outlined in the Slip Day policy will be accepted. **We strongly encourage you to plan to submit your work to Gradescope several hours before the stated deadline.** This way, you will have ample time to reach out to staff for support if you encounter difficulties with submission. While course staff is happy to help guide you with submitting your assignment ahead of the deadline, we will not respond to last-minute requests for assistance (TAs need to sleep, after all!).\n",
    "\n",
    "Please read the instructions carefully when you are submitting your work to Gradescope.\n",
    "\n",
    "## 👥 Collaboration Policy\n",
    "\n",
    "Data science is a collaborative activity. While you may talk with others about the homework, we ask that you **write your solutions individually**. If you do discuss the assignments with others, please **include their names** below."
   ]
  },
  {
   "cell_type": "markdown",
   "metadata": {},
   "source": [
    "**Collaborators**: Madeline Louise Agusalim"
   ]
  },
  {
   "cell_type": "markdown",
   "metadata": {
    "jp-MarkdownHeadingCollapsed": true
   },
   "source": [
    "\n",
    "## 📝 This Assignment\n",
    "\n",
    "In this homework, we will continue our exploration of restaurant food safety scores for restaurants in San Francisco. The main goal for this assignment is to focus more on the analysis of the dataset, building on the data cleaning we have done earlier in HW 2A. \n",
    "\n",
    "\n",
    "After this homework, you should be comfortable with:\n",
    "* Reading `pandas` documentation and using `pandas` methods,\n",
    "* Working with data at different levels of granularity,\n",
    "* Using `groupby` with different aggregation functions, and\n",
    "* Chaining different `pandas` functions and methods to find answers to exploratory questions.\n",
    "\n",
    "\n",
    "## Score Breakdown \n",
    "Question | Manual | Points\n",
    "--- | --- | ---\n",
    "1a | no | 2\n",
    "1b | no | 3\n",
    "1c | no | 3\n",
    "2a | no | 2\n",
    "2b | no | 3\n",
    "2c | no | 3\n",
    "3a | yes | 4\n",
    "3b | yes | 4\n",
    "4a | no | 2\n",
    "4b | no | 2\n",
    "4c | no | 3\n",
    "4d | no | 3\n",
    "4e | yes | 1\n",
    "Total | 3 | 35\n"
   ]
  },
  {
   "cell_type": "markdown",
   "metadata": {},
   "source": [
    "## 🏎️ Before You Start\n",
    "\n",
    "For each question in the assignment, please write down your answer in the answer cell(s) right below the question. \n",
    "\n",
    "We understand that it is helpful to have extra cells breaking down the process towards reaching your final answer. If you happen to create new cells below your answer to run code, **NEVER** add cells between a question cell and the answer cell below it. It will cause errors when we run the autograder, and it will sometimes cause a failure to generate the PDF file.\n",
    "\n",
    "**Important note: The local autograder tests will not be comprehensive. You can pass the automated tests in your notebook but still fail tests in the autograder.** Please be sure to check your results carefully.\n",
    "\n",
    "Finally, unless we state otherwise, **do not use for loops or list comprehensions**. The majority of this assignment can be done using built-in commands in `pandas` and `NumPy`. Our autograder isn't smart enough to check, but you're depriving yourself of key learning objectives if you write loops / comprehensions, and you also won't be ready for the midterm.\n",
    "\n",
    "### 🐛 Debugging Guide\n",
    "If you run into any technical issues, we highly recommend checking out the [Data 100 Debugging Guide](https://ds100.org/debugging-guide/). In this guide, you can find general questions about Jupyter notebooks / Datahub, Gradescope, and common `pandas` errors."
   ]
  },
  {
   "cell_type": "code",
   "execution_count": 252,
   "metadata": {
    "nbgrader": {
     "grade": false,
     "grade_id": "import",
     "locked": true,
     "schema_version": 2,
     "solution": false
    }
   },
   "outputs": [],
   "source": [
    "import numpy as np\n",
    "import pandas as pd"
   ]
  },
  {
   "cell_type": "markdown",
   "metadata": {},
   "source": [
    "<hr style=\"border: 5px solid #003262;\" />\n",
    "<hr style=\"border: 1px solid #fdb515;\" />"
   ]
  },
  {
   "cell_type": "markdown",
   "metadata": {},
   "source": [
    "In HW 2A, we took you through the entire process of reading data from a file to perform some exploration of the data. Here, we again load the dataset that we will be using in HW 2B along with some of the columns we had added in HW 2A. For any additional context regarding the dataset, we encourage you to revisit HW 2A."
   ]
  },
  {
   "cell_type": "code",
   "execution_count": 253,
   "metadata": {},
   "outputs": [],
   "source": [
    "bus = pd.read_csv('data/bus.csv', encoding='ISO-8859-1').rename(columns={\"business id column\": \"bid\"})\n",
    "bus['postal5'] = bus['postal_code'].str[:5]\n",
    "ins = pd.read_csv('data/ins.csv')\n",
    "ins['timestamp'] = pd.to_datetime(ins['date'], format='%m/%d/%Y %I:%M:%S %p')\n",
    "ins['bid'] = ins['iid'].str.split(\"_\", expand=True)[0].astype(int) \n",
    "\n",
    "# This code is essential for the autograder to function properly. Do not edit.\n",
    "ins_test = ins"
   ]
  },
  {
   "cell_type": "markdown",
   "metadata": {
    "nbgrader": {
     "grade": false,
     "grade_id": "business-data",
     "locked": true,
     "schema_version": 2,
     "solution": false
    },
    "tags": []
   },
   "source": [
    "<br/>\n",
    "\n",
    "---\n",
    "\n",
    "# 🔎 Question 1: Inspecting the Inspections\n",
    "\n",
    "## 🚀 Question 1a"
   ]
  },
  {
   "cell_type": "markdown",
   "metadata": {
    "deletable": false,
    "editable": false,
    "nbgrader": {
     "grade": false,
     "grade_id": "cell-174ed23c543ad9da",
     "locked": true,
     "schema_version": 2,
     "solution": false
    }
   },
   "source": [
    "Let's start by looking again at the first 5 rows of `ins` to see what we're working with."
   ]
  },
  {
   "cell_type": "code",
   "execution_count": 254,
   "metadata": {
    "deletable": false,
    "editable": false,
    "nbgrader": {
     "grade": false,
     "grade_id": "cell-f0fbe724a2783e33",
     "locked": true,
     "schema_version": 2,
     "solution": false
    }
   },
   "outputs": [
    {
     "data": {
      "text/html": [
       "<div>\n",
       "<style scoped>\n",
       "    .dataframe tbody tr th:only-of-type {\n",
       "        vertical-align: middle;\n",
       "    }\n",
       "\n",
       "    .dataframe tbody tr th {\n",
       "        vertical-align: top;\n",
       "    }\n",
       "\n",
       "    .dataframe thead th {\n",
       "        text-align: right;\n",
       "    }\n",
       "</style>\n",
       "<table border=\"1\" class=\"dataframe\">\n",
       "  <thead>\n",
       "    <tr style=\"text-align: right;\">\n",
       "      <th></th>\n",
       "      <th>iid</th>\n",
       "      <th>date</th>\n",
       "      <th>score</th>\n",
       "      <th>type</th>\n",
       "      <th>timestamp</th>\n",
       "      <th>bid</th>\n",
       "    </tr>\n",
       "  </thead>\n",
       "  <tbody>\n",
       "    <tr>\n",
       "      <th>0</th>\n",
       "      <td>100010_20190329</td>\n",
       "      <td>03/29/2019 12:00:00 AM</td>\n",
       "      <td>-1</td>\n",
       "      <td>New Construction</td>\n",
       "      <td>2019-03-29</td>\n",
       "      <td>100010</td>\n",
       "    </tr>\n",
       "    <tr>\n",
       "      <th>1</th>\n",
       "      <td>100010_20190403</td>\n",
       "      <td>04/03/2019 12:00:00 AM</td>\n",
       "      <td>100</td>\n",
       "      <td>Routine - Unscheduled</td>\n",
       "      <td>2019-04-03</td>\n",
       "      <td>100010</td>\n",
       "    </tr>\n",
       "    <tr>\n",
       "      <th>2</th>\n",
       "      <td>100017_20190417</td>\n",
       "      <td>04/17/2019 12:00:00 AM</td>\n",
       "      <td>-1</td>\n",
       "      <td>New Ownership</td>\n",
       "      <td>2019-04-17</td>\n",
       "      <td>100017</td>\n",
       "    </tr>\n",
       "    <tr>\n",
       "      <th>3</th>\n",
       "      <td>100017_20190816</td>\n",
       "      <td>08/16/2019 12:00:00 AM</td>\n",
       "      <td>91</td>\n",
       "      <td>Routine - Unscheduled</td>\n",
       "      <td>2019-08-16</td>\n",
       "      <td>100017</td>\n",
       "    </tr>\n",
       "    <tr>\n",
       "      <th>4</th>\n",
       "      <td>100017_20190826</td>\n",
       "      <td>08/26/2019 12:00:00 AM</td>\n",
       "      <td>-1</td>\n",
       "      <td>Reinspection/Followup</td>\n",
       "      <td>2019-08-26</td>\n",
       "      <td>100017</td>\n",
       "    </tr>\n",
       "  </tbody>\n",
       "</table>\n",
       "</div>"
      ],
      "text/plain": [
       "               iid                    date  score                   type  \\\n",
       "0  100010_20190329  03/29/2019 12:00:00 AM     -1       New Construction   \n",
       "1  100010_20190403  04/03/2019 12:00:00 AM    100  Routine - Unscheduled   \n",
       "2  100017_20190417  04/17/2019 12:00:00 AM     -1          New Ownership   \n",
       "3  100017_20190816  08/16/2019 12:00:00 AM     91  Routine - Unscheduled   \n",
       "4  100017_20190826  08/26/2019 12:00:00 AM     -1  Reinspection/Followup   \n",
       "\n",
       "   timestamp     bid  \n",
       "0 2019-03-29  100010  \n",
       "1 2019-04-03  100010  \n",
       "2 2019-04-17  100017  \n",
       "3 2019-08-16  100017  \n",
       "4 2019-08-26  100017  "
      ]
     },
     "execution_count": 254,
     "metadata": {},
     "output_type": "execute_result"
    }
   ],
   "source": [
    "ins.head(5)"
   ]
  },
  {
   "cell_type": "markdown",
   "metadata": {
    "deletable": false,
    "editable": false
   },
   "source": [
    "To better understand how the scores have been allocated, let's examine how the maximum score varies for each type of inspection. \n",
    "\n",
    "Create a `DataFrame` object `ins_score_by_type`, indexed by all the inspection types (e.g., New Construction, Routine - Unscheduled, etc.), with a single column named `max_score` containing the highest score received. Additionally, order `ins_score_by_type` by `max_score` in descending order. \n",
    "\n",
    "**Hint:** You may find the `rename` ([documentation](https://pandas.pydata.org/docs/reference/api/pandas.DataFrame.rename.html)) to be useful! "
   ]
  },
  {
   "cell_type": "code",
   "execution_count": 255,
   "metadata": {},
   "outputs": [
    {
     "data": {
      "text/html": [
       "<div>\n",
       "<style scoped>\n",
       "    .dataframe tbody tr th:only-of-type {\n",
       "        vertical-align: middle;\n",
       "    }\n",
       "\n",
       "    .dataframe tbody tr th {\n",
       "        vertical-align: top;\n",
       "    }\n",
       "\n",
       "    .dataframe thead th {\n",
       "        text-align: right;\n",
       "    }\n",
       "</style>\n",
       "<table border=\"1\" class=\"dataframe\">\n",
       "  <thead>\n",
       "    <tr style=\"text-align: right;\">\n",
       "      <th></th>\n",
       "      <th>iid</th>\n",
       "      <th>date</th>\n",
       "      <th>score</th>\n",
       "      <th>timestamp</th>\n",
       "      <th>bid</th>\n",
       "    </tr>\n",
       "    <tr>\n",
       "      <th>type</th>\n",
       "      <th></th>\n",
       "      <th></th>\n",
       "      <th></th>\n",
       "      <th></th>\n",
       "      <th></th>\n",
       "    </tr>\n",
       "  </thead>\n",
       "  <tbody>\n",
       "    <tr>\n",
       "      <th>New Construction</th>\n",
       "      <td>100010_20190329</td>\n",
       "      <td>03/29/2019 12:00:00 AM</td>\n",
       "      <td>-1</td>\n",
       "      <td>2019-03-29</td>\n",
       "      <td>100010</td>\n",
       "    </tr>\n",
       "    <tr>\n",
       "      <th>Routine - Unscheduled</th>\n",
       "      <td>100010_20190403</td>\n",
       "      <td>04/03/2019 12:00:00 AM</td>\n",
       "      <td>100</td>\n",
       "      <td>2019-04-03</td>\n",
       "      <td>100010</td>\n",
       "    </tr>\n",
       "    <tr>\n",
       "      <th>New Ownership</th>\n",
       "      <td>100017_20190417</td>\n",
       "      <td>04/17/2019 12:00:00 AM</td>\n",
       "      <td>-1</td>\n",
       "      <td>2019-04-17</td>\n",
       "      <td>100017</td>\n",
       "    </tr>\n",
       "    <tr>\n",
       "      <th>Routine - Unscheduled</th>\n",
       "      <td>100017_20190816</td>\n",
       "      <td>08/16/2019 12:00:00 AM</td>\n",
       "      <td>91</td>\n",
       "      <td>2019-08-16</td>\n",
       "      <td>100017</td>\n",
       "    </tr>\n",
       "    <tr>\n",
       "      <th>Reinspection/Followup</th>\n",
       "      <td>100017_20190826</td>\n",
       "      <td>08/26/2019 12:00:00 AM</td>\n",
       "      <td>-1</td>\n",
       "      <td>2019-08-26</td>\n",
       "      <td>100017</td>\n",
       "    </tr>\n",
       "    <tr>\n",
       "      <th>...</th>\n",
       "      <td>...</td>\n",
       "      <td>...</td>\n",
       "      <td>...</td>\n",
       "      <td>...</td>\n",
       "      <td>...</td>\n",
       "    </tr>\n",
       "    <tr>\n",
       "      <th>Routine - Scheduled</th>\n",
       "      <td>999_20180924</td>\n",
       "      <td>09/24/2018 12:00:00 AM</td>\n",
       "      <td>-1</td>\n",
       "      <td>2018-09-24</td>\n",
       "      <td>999</td>\n",
       "    </tr>\n",
       "    <tr>\n",
       "      <th>Reinspection/Followup</th>\n",
       "      <td>999_20181102</td>\n",
       "      <td>11/02/2018 12:00:00 AM</td>\n",
       "      <td>-1</td>\n",
       "      <td>2018-11-02</td>\n",
       "      <td>999</td>\n",
       "    </tr>\n",
       "    <tr>\n",
       "      <th>Routine - Unscheduled</th>\n",
       "      <td>999_20190909</td>\n",
       "      <td>09/09/2019 12:00:00 AM</td>\n",
       "      <td>80</td>\n",
       "      <td>2019-09-09</td>\n",
       "      <td>999</td>\n",
       "    </tr>\n",
       "    <tr>\n",
       "      <th>Routine - Unscheduled</th>\n",
       "      <td>99_20171207</td>\n",
       "      <td>12/07/2017 12:00:00 AM</td>\n",
       "      <td>82</td>\n",
       "      <td>2017-12-07</td>\n",
       "      <td>99</td>\n",
       "    </tr>\n",
       "    <tr>\n",
       "      <th>Routine - Unscheduled</th>\n",
       "      <td>99_20180808</td>\n",
       "      <td>08/08/2018 12:00:00 AM</td>\n",
       "      <td>84</td>\n",
       "      <td>2018-08-08</td>\n",
       "      <td>99</td>\n",
       "    </tr>\n",
       "  </tbody>\n",
       "</table>\n",
       "<p>26663 rows × 5 columns</p>\n",
       "</div>"
      ],
      "text/plain": [
       "                                   iid                    date  score  \\\n",
       "type                                                                    \n",
       "New Construction       100010_20190329  03/29/2019 12:00:00 AM     -1   \n",
       "Routine - Unscheduled  100010_20190403  04/03/2019 12:00:00 AM    100   \n",
       "New Ownership          100017_20190417  04/17/2019 12:00:00 AM     -1   \n",
       "Routine - Unscheduled  100017_20190816  08/16/2019 12:00:00 AM     91   \n",
       "Reinspection/Followup  100017_20190826  08/26/2019 12:00:00 AM     -1   \n",
       "...                                ...                     ...    ...   \n",
       "Routine - Scheduled       999_20180924  09/24/2018 12:00:00 AM     -1   \n",
       "Reinspection/Followup     999_20181102  11/02/2018 12:00:00 AM     -1   \n",
       "Routine - Unscheduled     999_20190909  09/09/2019 12:00:00 AM     80   \n",
       "Routine - Unscheduled      99_20171207  12/07/2017 12:00:00 AM     82   \n",
       "Routine - Unscheduled      99_20180808  08/08/2018 12:00:00 AM     84   \n",
       "\n",
       "                       timestamp     bid  \n",
       "type                                      \n",
       "New Construction      2019-03-29  100010  \n",
       "Routine - Unscheduled 2019-04-03  100010  \n",
       "New Ownership         2019-04-17  100017  \n",
       "Routine - Unscheduled 2019-08-16  100017  \n",
       "Reinspection/Followup 2019-08-26  100017  \n",
       "...                          ...     ...  \n",
       "Routine - Scheduled   2018-09-24     999  \n",
       "Reinspection/Followup 2018-11-02     999  \n",
       "Routine - Unscheduled 2019-09-09     999  \n",
       "Routine - Unscheduled 2017-12-07      99  \n",
       "Routine - Unscheduled 2018-08-08      99  \n",
       "\n",
       "[26663 rows x 5 columns]"
      ]
     },
     "execution_count": 255,
     "metadata": {},
     "output_type": "execute_result"
    }
   ],
   "source": [
    "ins.set_index('type')"
   ]
  },
  {
   "cell_type": "code",
   "execution_count": 256,
   "metadata": {
    "tags": []
   },
   "outputs": [
    {
     "data": {
      "text/html": [
       "<div>\n",
       "<style scoped>\n",
       "    .dataframe tbody tr th:only-of-type {\n",
       "        vertical-align: middle;\n",
       "    }\n",
       "\n",
       "    .dataframe tbody tr th {\n",
       "        vertical-align: top;\n",
       "    }\n",
       "\n",
       "    .dataframe thead th {\n",
       "        text-align: right;\n",
       "    }\n",
       "</style>\n",
       "<table border=\"1\" class=\"dataframe\">\n",
       "  <thead>\n",
       "    <tr style=\"text-align: right;\">\n",
       "      <th></th>\n",
       "      <th>max_score</th>\n",
       "    </tr>\n",
       "    <tr>\n",
       "      <th>type</th>\n",
       "      <th></th>\n",
       "    </tr>\n",
       "  </thead>\n",
       "  <tbody>\n",
       "    <tr>\n",
       "      <th>Routine - Unscheduled</th>\n",
       "      <td>100</td>\n",
       "    </tr>\n",
       "    <tr>\n",
       "      <th>Administrative or Document Review</th>\n",
       "      <td>-1</td>\n",
       "    </tr>\n",
       "    <tr>\n",
       "      <th>Community Health Assessment</th>\n",
       "      <td>-1</td>\n",
       "    </tr>\n",
       "    <tr>\n",
       "      <th>Complaint</th>\n",
       "      <td>-1</td>\n",
       "    </tr>\n",
       "    <tr>\n",
       "      <th>Complaint Reinspection/Followup</th>\n",
       "      <td>-1</td>\n",
       "    </tr>\n",
       "    <tr>\n",
       "      <th>Foodborne Illness Investigation</th>\n",
       "      <td>-1</td>\n",
       "    </tr>\n",
       "    <tr>\n",
       "      <th>Multi-agency Investigation</th>\n",
       "      <td>-1</td>\n",
       "    </tr>\n",
       "    <tr>\n",
       "      <th>New Construction</th>\n",
       "      <td>-1</td>\n",
       "    </tr>\n",
       "    <tr>\n",
       "      <th>New Ownership</th>\n",
       "      <td>-1</td>\n",
       "    </tr>\n",
       "    <tr>\n",
       "      <th>New Ownership - Followup</th>\n",
       "      <td>-1</td>\n",
       "    </tr>\n",
       "    <tr>\n",
       "      <th>Non-inspection site visit</th>\n",
       "      <td>-1</td>\n",
       "    </tr>\n",
       "    <tr>\n",
       "      <th>Reinspection/Followup</th>\n",
       "      <td>-1</td>\n",
       "    </tr>\n",
       "    <tr>\n",
       "      <th>Routine - Scheduled</th>\n",
       "      <td>-1</td>\n",
       "    </tr>\n",
       "    <tr>\n",
       "      <th>Special Event</th>\n",
       "      <td>-1</td>\n",
       "    </tr>\n",
       "    <tr>\n",
       "      <th>Structural Inspection</th>\n",
       "      <td>-1</td>\n",
       "    </tr>\n",
       "  </tbody>\n",
       "</table>\n",
       "</div>"
      ],
      "text/plain": [
       "                                   max_score\n",
       "type                                        \n",
       "Routine - Unscheduled                    100\n",
       "Administrative or Document Review         -1\n",
       "Community Health Assessment               -1\n",
       "Complaint                                 -1\n",
       "Complaint Reinspection/Followup           -1\n",
       "Foodborne Illness Investigation           -1\n",
       "Multi-agency Investigation                -1\n",
       "New Construction                          -1\n",
       "New Ownership                             -1\n",
       "New Ownership - Followup                  -1\n",
       "Non-inspection site visit                 -1\n",
       "Reinspection/Followup                     -1\n",
       "Routine - Scheduled                       -1\n",
       "Special Event                             -1\n",
       "Structural Inspection                     -1"
      ]
     },
     "execution_count": 256,
     "metadata": {},
     "output_type": "execute_result"
    }
   ],
   "source": [
    "ins_score_by_type = ins.groupby('type')[['score']].agg(max).rename(columns={'score': 'max_score'}).sort_values(by='max_score', ascending= False)\n",
    "ins_score_by_type"
   ]
  },
  {
   "cell_type": "code",
   "execution_count": 257,
   "metadata": {
    "deletable": false,
    "editable": false
   },
   "outputs": [
    {
     "data": {
      "text/html": [
       "<p><strong><pre style='display: inline;'>q1a</pre></strong> passed! 🎉</p>"
      ],
      "text/plain": [
       "q1a results: All test cases passed!"
      ]
     },
     "execution_count": 257,
     "metadata": {},
     "output_type": "execute_result"
    }
   ],
   "source": [
    "grader.check(\"q1a\")"
   ]
  },
  {
   "cell_type": "markdown",
   "metadata": {
    "deletable": false,
    "editable": false
   },
   "source": [
    "<br/>\n",
    "\n",
    "---\n",
    "\n",
    "## 🚀 Question 1b\n"
   ]
  },
  {
   "cell_type": "markdown",
   "metadata": {
    "deletable": false,
    "editable": false
   },
   "source": [
    "Given the variability of `ins['score']` observed in 1a, let's examine the inspection scores `ins['score']` further."
   ]
  },
  {
   "cell_type": "code",
   "execution_count": 258,
   "metadata": {
    "deletable": false,
    "editable": false
   },
   "outputs": [
    {
     "data": {
      "text/plain": [
       "score\n",
       "-1      12632\n",
       " 100     1993\n",
       " 96      1681\n",
       " 92      1260\n",
       " 94      1250\n",
       "Name: count, dtype: int64"
      ]
     },
     "execution_count": 258,
     "metadata": {},
     "output_type": "execute_result"
    }
   ],
   "source": [
    "ins['score'].value_counts().head()"
   ]
  },
  {
   "cell_type": "markdown",
   "metadata": {
    "deletable": false,
    "editable": false
   },
   "source": [
    "There are a large number of inspections with a score of -1. These are probably missing values. Let's see what types of inspections have scores and which do not (score of -1). \n",
    "\n",
    "- First, define a new column `Missing Score` in `ins` where each row maps to the string `\"Yes\"` if the `score` for that business is -1 and `\"No\"` otherwise. \n",
    "\n",
    "- Then, use `groupby` to find the number of inspections for every combination of `type` and `Missing Score`. Store these values in a new column `Count`. \n",
    "\n",
    "- Finally, sort `ins_missing_score_group` by descending `Count`s. \n",
    "The result should be a `DataFrame` that looks like the one shown below.\n",
    "\n",
    "**Hint**: You may find the `map` ([documentation](https://pandas.pydata.org/docs/reference/api/pandas.DataFrame.map.html)) useful for defining `Missing Score`! \n",
    "\n",
    "<table border=\"1\" class=\"dataframe\" >  <thead>    \n",
    "    <tr style=\"text-align: right;\">      <th></th>      <th></th>      <th>Count</th>   </tr>\n",
    "    <tr style=\"text-align: right;\">      <th>type</th>      <th>Missing Score</th>      <th></th>   </tr>    <tr align=\"right\"> <tbody>    \n",
    "    <tr  align=\"right\">      <th>Routine - Unscheduled</th>      <th>No</th>      <td>14031</td>         </tr>    \n",
    "    <tr  align=\"right\">      <th>...</th>      <td>...</td>      <td>...</td>        </tr>    \n",
    "    <tr  align=\"right\">      <th>...</th>      <td>...</td>      <td>...</td>       </tr>    </tbody> </table>"
   ]
  },
  {
   "cell_type": "code",
   "execution_count": 259,
   "metadata": {
    "tags": []
   },
   "outputs": [
    {
     "data": {
      "text/html": [
       "<div>\n",
       "<style scoped>\n",
       "    .dataframe tbody tr th:only-of-type {\n",
       "        vertical-align: middle;\n",
       "    }\n",
       "\n",
       "    .dataframe tbody tr th {\n",
       "        vertical-align: top;\n",
       "    }\n",
       "\n",
       "    .dataframe thead th {\n",
       "        text-align: right;\n",
       "    }\n",
       "</style>\n",
       "<table border=\"1\" class=\"dataframe\">\n",
       "  <thead>\n",
       "    <tr style=\"text-align: right;\">\n",
       "      <th></th>\n",
       "      <th></th>\n",
       "      <th>Count</th>\n",
       "    </tr>\n",
       "    <tr>\n",
       "      <th>type</th>\n",
       "      <th>Missing Score</th>\n",
       "      <th></th>\n",
       "    </tr>\n",
       "  </thead>\n",
       "  <tbody>\n",
       "    <tr>\n",
       "      <th>Routine - Unscheduled</th>\n",
       "      <th>No</th>\n",
       "      <td>14031</td>\n",
       "    </tr>\n",
       "    <tr>\n",
       "      <th>Reinspection/Followup</th>\n",
       "      <th>Yes</th>\n",
       "      <td>6439</td>\n",
       "    </tr>\n",
       "    <tr>\n",
       "      <th>New Ownership</th>\n",
       "      <th>Yes</th>\n",
       "      <td>1592</td>\n",
       "    </tr>\n",
       "    <tr>\n",
       "      <th>Complaint</th>\n",
       "      <th>Yes</th>\n",
       "      <td>1458</td>\n",
       "    </tr>\n",
       "    <tr>\n",
       "      <th>New Construction</th>\n",
       "      <th>Yes</th>\n",
       "      <td>994</td>\n",
       "    </tr>\n",
       "    <tr>\n",
       "      <th>Non-inspection site visit</th>\n",
       "      <th>Yes</th>\n",
       "      <td>811</td>\n",
       "    </tr>\n",
       "    <tr>\n",
       "      <th>New Ownership - Followup</th>\n",
       "      <th>Yes</th>\n",
       "      <td>499</td>\n",
       "    </tr>\n",
       "    <tr>\n",
       "      <th>Structural Inspection</th>\n",
       "      <th>Yes</th>\n",
       "      <td>394</td>\n",
       "    </tr>\n",
       "    <tr>\n",
       "      <th>Complaint Reinspection/Followup</th>\n",
       "      <th>Yes</th>\n",
       "      <td>227</td>\n",
       "    </tr>\n",
       "    <tr>\n",
       "      <th>Foodborne Illness Investigation</th>\n",
       "      <th>Yes</th>\n",
       "      <td>115</td>\n",
       "    </tr>\n",
       "    <tr>\n",
       "      <th>Routine - Scheduled</th>\n",
       "      <th>Yes</th>\n",
       "      <td>46</td>\n",
       "    </tr>\n",
       "    <tr>\n",
       "      <th>Routine - Unscheduled</th>\n",
       "      <th>Yes</th>\n",
       "      <td>46</td>\n",
       "    </tr>\n",
       "    <tr>\n",
       "      <th>Administrative or Document Review</th>\n",
       "      <th>Yes</th>\n",
       "      <td>4</td>\n",
       "    </tr>\n",
       "    <tr>\n",
       "      <th>Multi-agency Investigation</th>\n",
       "      <th>Yes</th>\n",
       "      <td>3</td>\n",
       "    </tr>\n",
       "    <tr>\n",
       "      <th>Special Event</th>\n",
       "      <th>Yes</th>\n",
       "      <td>3</td>\n",
       "    </tr>\n",
       "    <tr>\n",
       "      <th>Community Health Assessment</th>\n",
       "      <th>Yes</th>\n",
       "      <td>1</td>\n",
       "    </tr>\n",
       "  </tbody>\n",
       "</table>\n",
       "</div>"
      ],
      "text/plain": [
       "                                                 Count\n",
       "type                              Missing Score       \n",
       "Routine - Unscheduled             No             14031\n",
       "Reinspection/Followup             Yes             6439\n",
       "New Ownership                     Yes             1592\n",
       "Complaint                         Yes             1458\n",
       "New Construction                  Yes              994\n",
       "Non-inspection site visit         Yes              811\n",
       "New Ownership - Followup          Yes              499\n",
       "Structural Inspection             Yes              394\n",
       "Complaint Reinspection/Followup   Yes              227\n",
       "Foodborne Illness Investigation   Yes              115\n",
       "Routine - Scheduled               Yes               46\n",
       "Routine - Unscheduled             Yes               46\n",
       "Administrative or Document Review Yes                4\n",
       "Multi-agency Investigation        Yes                3\n",
       "Special Event                     Yes                3\n",
       "Community Health Assessment       Yes                1"
      ]
     },
     "execution_count": 259,
     "metadata": {},
     "output_type": "execute_result"
    }
   ],
   "source": [
    "ins['Missing Score'] = ins['score'].map(lambda x: 'Yes' if x==-1 else 'No')\n",
    "ins_missing_score_group = ins.groupby(['type', 'Missing Score']).agg(Count=('type', 'size')).sort_values(by='Count', ascending= False)\n",
    "ins_missing_score_group"
   ]
  },
  {
   "cell_type": "code",
   "execution_count": 260,
   "metadata": {
    "deletable": false,
    "editable": false
   },
   "outputs": [
    {
     "data": {
      "text/html": [
       "<p><strong><pre style='display: inline;'>q1b</pre></strong> passed! ✨</p>"
      ],
      "text/plain": [
       "q1b results: All test cases passed!"
      ]
     },
     "execution_count": 260,
     "metadata": {},
     "output_type": "execute_result"
    }
   ],
   "source": [
    "grader.check(\"q1b\")"
   ]
  },
  {
   "cell_type": "markdown",
   "metadata": {},
   "source": [
    "<br/>\n",
    "\n",
    "---\n",
    "\n",
    "## 🚀 Question 1c\n"
   ]
  },
  {
   "cell_type": "markdown",
   "metadata": {},
   "source": [
    "Using `groupby` to perform the analysis above gave us a `DataFrame` that wasn't the most readable at first glance. There are better ways to represent the information above that take advantage of the fact that we are looking at combinations of two variables. It's time to pivot (pun intended)!\n",
    "\n",
    "Create a `DataFrame` that looks like the one below, and assign it to the variable `ins_missing_score_pivot`. \n",
    "\n",
    "You'll want to use the `pivot_table` method of the `DataFrame` class, which you can read about in the `pivot_table` [documentation](https://pandas.pydata.org/docs/reference/api/pandas.DataFrame.pivot_table.html). \n",
    "\n",
    "- Once you create `ins_missing_score_pivot`, add another column titled `Percentage Missing`, which contains the proportion of missing scores within each `type`. \n",
    "\n",
    "- Then, sort `ins_missing_score_pivot` in ascending order of `Percentage Missing`. Reassign the sorted `DataFrame` back to `ins_missing_score_pivot`.\n",
    "\n",
    "**Hint:** Consider what happens if no values correspond to a particular combination of `Missing Score` and `type`. Looking at the documentation for `pivot_table`, is there any function argument that allows you to specify what value to fill in?\n",
    "\n",
    "If you've done everything right, you should observe that inspection scores appear only to be assigned to `Routine - Unscheduled` inspections and that `ins_missing_score_pivot` looks like the `DataFrame` below:\n",
    "\n",
    "\n",
    "<table border=\"1\" class=\"dataframe\" >  <thead>    \n",
    "    <tr style=\"text-align: right;\">      <th>Missing Score</th>      <th>No</th>      <th>Yes</th>      <th>Percentage Missing</th>    </tr>    <tr style=\"text-align: right;\">      <th>type</th>      <th></th>      <th></th>      <th></th>    </tr>  </thead>  <tbody>    \n",
    "    <tr  align=\"right\">      <th>Routine - Unscheduled</th>      <td>14031</td>      <td>46</td>      <td>0.003268</td>    </tr>    \n",
    "    <tr  align=\"right\">      <th>...</th>      <td>...</td>      <td>...</td>      <td>...</td>    </tr>    \n",
    "    </tbody></table>\n"
   ]
  },
  {
   "cell_type": "code",
   "execution_count": 261,
   "metadata": {},
   "outputs": [
    {
     "data": {
      "text/html": [
       "<div>\n",
       "<style scoped>\n",
       "    .dataframe tbody tr th:only-of-type {\n",
       "        vertical-align: middle;\n",
       "    }\n",
       "\n",
       "    .dataframe tbody tr th {\n",
       "        vertical-align: top;\n",
       "    }\n",
       "\n",
       "    .dataframe thead th {\n",
       "        text-align: right;\n",
       "    }\n",
       "</style>\n",
       "<table border=\"1\" class=\"dataframe\">\n",
       "  <thead>\n",
       "    <tr style=\"text-align: right;\">\n",
       "      <th>Missing Score</th>\n",
       "      <th>No</th>\n",
       "      <th>Yes</th>\n",
       "      <th>Percentage Missing</th>\n",
       "    </tr>\n",
       "    <tr>\n",
       "      <th>type</th>\n",
       "      <th></th>\n",
       "      <th></th>\n",
       "      <th></th>\n",
       "    </tr>\n",
       "  </thead>\n",
       "  <tbody>\n",
       "    <tr>\n",
       "      <th>Routine - Unscheduled</th>\n",
       "      <td>14031</td>\n",
       "      <td>46</td>\n",
       "      <td>0.003268</td>\n",
       "    </tr>\n",
       "    <tr>\n",
       "      <th>Administrative or Document Review</th>\n",
       "      <td>0</td>\n",
       "      <td>4</td>\n",
       "      <td>1.000000</td>\n",
       "    </tr>\n",
       "    <tr>\n",
       "      <th>Community Health Assessment</th>\n",
       "      <td>0</td>\n",
       "      <td>1</td>\n",
       "      <td>1.000000</td>\n",
       "    </tr>\n",
       "    <tr>\n",
       "      <th>Complaint</th>\n",
       "      <td>0</td>\n",
       "      <td>1458</td>\n",
       "      <td>1.000000</td>\n",
       "    </tr>\n",
       "    <tr>\n",
       "      <th>Complaint Reinspection/Followup</th>\n",
       "      <td>0</td>\n",
       "      <td>227</td>\n",
       "      <td>1.000000</td>\n",
       "    </tr>\n",
       "    <tr>\n",
       "      <th>Foodborne Illness Investigation</th>\n",
       "      <td>0</td>\n",
       "      <td>115</td>\n",
       "      <td>1.000000</td>\n",
       "    </tr>\n",
       "    <tr>\n",
       "      <th>Multi-agency Investigation</th>\n",
       "      <td>0</td>\n",
       "      <td>3</td>\n",
       "      <td>1.000000</td>\n",
       "    </tr>\n",
       "    <tr>\n",
       "      <th>New Construction</th>\n",
       "      <td>0</td>\n",
       "      <td>994</td>\n",
       "      <td>1.000000</td>\n",
       "    </tr>\n",
       "    <tr>\n",
       "      <th>New Ownership</th>\n",
       "      <td>0</td>\n",
       "      <td>1592</td>\n",
       "      <td>1.000000</td>\n",
       "    </tr>\n",
       "    <tr>\n",
       "      <th>New Ownership - Followup</th>\n",
       "      <td>0</td>\n",
       "      <td>499</td>\n",
       "      <td>1.000000</td>\n",
       "    </tr>\n",
       "    <tr>\n",
       "      <th>Non-inspection site visit</th>\n",
       "      <td>0</td>\n",
       "      <td>811</td>\n",
       "      <td>1.000000</td>\n",
       "    </tr>\n",
       "    <tr>\n",
       "      <th>Reinspection/Followup</th>\n",
       "      <td>0</td>\n",
       "      <td>6439</td>\n",
       "      <td>1.000000</td>\n",
       "    </tr>\n",
       "    <tr>\n",
       "      <th>Routine - Scheduled</th>\n",
       "      <td>0</td>\n",
       "      <td>46</td>\n",
       "      <td>1.000000</td>\n",
       "    </tr>\n",
       "    <tr>\n",
       "      <th>Special Event</th>\n",
       "      <td>0</td>\n",
       "      <td>3</td>\n",
       "      <td>1.000000</td>\n",
       "    </tr>\n",
       "    <tr>\n",
       "      <th>Structural Inspection</th>\n",
       "      <td>0</td>\n",
       "      <td>394</td>\n",
       "      <td>1.000000</td>\n",
       "    </tr>\n",
       "  </tbody>\n",
       "</table>\n",
       "</div>"
      ],
      "text/plain": [
       "Missing Score                         No   Yes  Percentage Missing\n",
       "type                                                              \n",
       "Routine - Unscheduled              14031    46            0.003268\n",
       "Administrative or Document Review      0     4            1.000000\n",
       "Community Health Assessment            0     1            1.000000\n",
       "Complaint                              0  1458            1.000000\n",
       "Complaint Reinspection/Followup        0   227            1.000000\n",
       "Foodborne Illness Investigation        0   115            1.000000\n",
       "Multi-agency Investigation             0     3            1.000000\n",
       "New Construction                       0   994            1.000000\n",
       "New Ownership                          0  1592            1.000000\n",
       "New Ownership - Followup               0   499            1.000000\n",
       "Non-inspection site visit              0   811            1.000000\n",
       "Reinspection/Followup                  0  6439            1.000000\n",
       "Routine - Scheduled                    0    46            1.000000\n",
       "Special Event                          0     3            1.000000\n",
       "Structural Inspection                  0   394            1.000000"
      ]
     },
     "execution_count": 261,
     "metadata": {},
     "output_type": "execute_result"
    }
   ],
   "source": [
    "ins_missing_score_pivot= pd.pivot_table(ins_missing_score_group, index='type', columns= 'Missing Score',  values='Count', fill_value=0)\n",
    "ins_missing_score_pivot['Percentage Missing']= ins_missing_score_pivot['Yes']/(ins_missing_score_pivot['Yes']+ ins_missing_score_pivot['No'])\n",
    "ins_missing_score_pivot= ins_missing_score_pivot.sort_values(by='Percentage Missing', ascending= True)\n",
    "ins_missing_score_pivot"
   ]
  },
  {
   "cell_type": "code",
   "execution_count": 262,
   "metadata": {
    "deletable": false,
    "editable": false
   },
   "outputs": [
    {
     "data": {
      "text/html": [
       "<p><strong><pre style='display: inline;'>q1c</pre></strong> passed! 🙌</p>"
      ],
      "text/plain": [
       "q1c results: All test cases passed!"
      ]
     },
     "execution_count": 262,
     "metadata": {},
     "output_type": "execute_result"
    }
   ],
   "source": [
    "grader.check(\"q1c\")"
   ]
  },
  {
   "cell_type": "markdown",
   "metadata": {},
   "source": [
    "Notice that inspection scores appear only to be assigned to `Routine - Unscheduled` inspections. Also, it is reasonable for inspection types such as `New Ownership` and `Complaint` to have no associated inspection scores, but you might be curious why there are no inspection scores for the `Reinspection/Followup` inspection type. Later in the HW, we will examine these `Reinspection/Followup` inspections."
   ]
  },
  {
   "cell_type": "markdown",
   "metadata": {
    "nbgrader": {
     "grade": false,
     "grade_id": "business-data",
     "locked": true,
     "schema_version": 2,
     "solution": false
    },
    "tags": []
   },
   "source": [
    "<br/>\n",
    "\n",
    "---\n",
    "\n",
    "# 🚀 Question 2: Joining Data Across Tables\n",
    "\n",
    "In this question, we will start to connect data across multiple tables. We will be using the `pd.merge` function. "
   ]
  },
  {
   "cell_type": "markdown",
   "metadata": {},
   "source": [
    "<br/>\n",
    "\n",
    "--- \n",
    "\n",
    "## 🚀 Question 2a\n",
    "\n",
    "Let's figure out which restaurants had the lowest scores. Before we proceed, filter out missing scores from `ins` so that negative scores don't influence our results. "
   ]
  },
  {
   "cell_type": "code",
   "execution_count": 263,
   "metadata": {},
   "outputs": [
    {
     "data": {
      "text/html": [
       "<div>\n",
       "<style scoped>\n",
       "    .dataframe tbody tr th:only-of-type {\n",
       "        vertical-align: middle;\n",
       "    }\n",
       "\n",
       "    .dataframe tbody tr th {\n",
       "        vertical-align: top;\n",
       "    }\n",
       "\n",
       "    .dataframe thead th {\n",
       "        text-align: right;\n",
       "    }\n",
       "</style>\n",
       "<table border=\"1\" class=\"dataframe\">\n",
       "  <thead>\n",
       "    <tr style=\"text-align: right;\">\n",
       "      <th></th>\n",
       "      <th>bid</th>\n",
       "      <th>name</th>\n",
       "      <th>address</th>\n",
       "      <th>city</th>\n",
       "      <th>state</th>\n",
       "      <th>postal_code</th>\n",
       "      <th>latitude</th>\n",
       "      <th>longitude</th>\n",
       "      <th>phone_number</th>\n",
       "      <th>postal5</th>\n",
       "    </tr>\n",
       "  </thead>\n",
       "  <tbody>\n",
       "    <tr>\n",
       "      <th>0</th>\n",
       "      <td>1000</td>\n",
       "      <td>HEUNG YUEN RESTAURANT</td>\n",
       "      <td>3279 22nd St</td>\n",
       "      <td>San Francisco</td>\n",
       "      <td>CA</td>\n",
       "      <td>94110</td>\n",
       "      <td>37.755282</td>\n",
       "      <td>-122.420493</td>\n",
       "      <td>-9999</td>\n",
       "      <td>94110</td>\n",
       "    </tr>\n",
       "    <tr>\n",
       "      <th>1</th>\n",
       "      <td>100010</td>\n",
       "      <td>ILLY CAFFE SF_PIER 39</td>\n",
       "      <td>PIER 39  K-106-B</td>\n",
       "      <td>San Francisco</td>\n",
       "      <td>CA</td>\n",
       "      <td>94133</td>\n",
       "      <td>-9999.000000</td>\n",
       "      <td>-9999.000000</td>\n",
       "      <td>14154827284</td>\n",
       "      <td>94133</td>\n",
       "    </tr>\n",
       "    <tr>\n",
       "      <th>2</th>\n",
       "      <td>100017</td>\n",
       "      <td>AMICI'S EAST COAST PIZZERIA</td>\n",
       "      <td>475 06th St</td>\n",
       "      <td>San Francisco</td>\n",
       "      <td>CA</td>\n",
       "      <td>94103</td>\n",
       "      <td>-9999.000000</td>\n",
       "      <td>-9999.000000</td>\n",
       "      <td>14155279839</td>\n",
       "      <td>94103</td>\n",
       "    </tr>\n",
       "    <tr>\n",
       "      <th>3</th>\n",
       "      <td>100026</td>\n",
       "      <td>LOCAL CATERING</td>\n",
       "      <td>1566 CARROLL AVE</td>\n",
       "      <td>San Francisco</td>\n",
       "      <td>CA</td>\n",
       "      <td>94124</td>\n",
       "      <td>-9999.000000</td>\n",
       "      <td>-9999.000000</td>\n",
       "      <td>14155860315</td>\n",
       "      <td>94124</td>\n",
       "    </tr>\n",
       "    <tr>\n",
       "      <th>4</th>\n",
       "      <td>100030</td>\n",
       "      <td>OUI OUI! MACARON</td>\n",
       "      <td>2200 JERROLD AVE STE C</td>\n",
       "      <td>San Francisco</td>\n",
       "      <td>CA</td>\n",
       "      <td>94124</td>\n",
       "      <td>-9999.000000</td>\n",
       "      <td>-9999.000000</td>\n",
       "      <td>14159702675</td>\n",
       "      <td>94124</td>\n",
       "    </tr>\n",
       "    <tr>\n",
       "      <th>...</th>\n",
       "      <td>...</td>\n",
       "      <td>...</td>\n",
       "      <td>...</td>\n",
       "      <td>...</td>\n",
       "      <td>...</td>\n",
       "      <td>...</td>\n",
       "      <td>...</td>\n",
       "      <td>...</td>\n",
       "      <td>...</td>\n",
       "      <td>...</td>\n",
       "    </tr>\n",
       "    <tr>\n",
       "      <th>6248</th>\n",
       "      <td>99948</td>\n",
       "      <td>SUSIECAKES BAKERY</td>\n",
       "      <td>3509 CALIFORNIA ST</td>\n",
       "      <td>San Francisco</td>\n",
       "      <td>CA</td>\n",
       "      <td>94118</td>\n",
       "      <td>-9999.000000</td>\n",
       "      <td>-9999.000000</td>\n",
       "      <td>14150452253</td>\n",
       "      <td>94118</td>\n",
       "    </tr>\n",
       "    <tr>\n",
       "      <th>6249</th>\n",
       "      <td>99988</td>\n",
       "      <td>HINODEYA SOMA</td>\n",
       "      <td>303 02nd ST STE 102</td>\n",
       "      <td>San Francisco</td>\n",
       "      <td>CA</td>\n",
       "      <td>94107</td>\n",
       "      <td>-9999.000000</td>\n",
       "      <td>-9999.000000</td>\n",
       "      <td>-9999</td>\n",
       "      <td>94107</td>\n",
       "    </tr>\n",
       "    <tr>\n",
       "      <th>6250</th>\n",
       "      <td>99991</td>\n",
       "      <td>TON TON</td>\n",
       "      <td>422 GEARY ST</td>\n",
       "      <td>San Francisco</td>\n",
       "      <td>CA</td>\n",
       "      <td>94102</td>\n",
       "      <td>-9999.000000</td>\n",
       "      <td>-9999.000000</td>\n",
       "      <td>14155531280</td>\n",
       "      <td>94102</td>\n",
       "    </tr>\n",
       "    <tr>\n",
       "      <th>6251</th>\n",
       "      <td>99992</td>\n",
       "      <td>URBAN EXPRESS KITCHENS LLC</td>\n",
       "      <td>475 06th ST</td>\n",
       "      <td>San Francisco</td>\n",
       "      <td>CA</td>\n",
       "      <td>94103</td>\n",
       "      <td>-9999.000000</td>\n",
       "      <td>-9999.000000</td>\n",
       "      <td>14150368085</td>\n",
       "      <td>94103</td>\n",
       "    </tr>\n",
       "    <tr>\n",
       "      <th>6252</th>\n",
       "      <td>99993</td>\n",
       "      <td>THE BRIXTON SOUTH</td>\n",
       "      <td>701 02nd St</td>\n",
       "      <td>San Francisco</td>\n",
       "      <td>CA</td>\n",
       "      <td>94102</td>\n",
       "      <td>-9999.000000</td>\n",
       "      <td>-9999.000000</td>\n",
       "      <td>14158315871</td>\n",
       "      <td>94102</td>\n",
       "    </tr>\n",
       "  </tbody>\n",
       "</table>\n",
       "<p>6253 rows × 10 columns</p>\n",
       "</div>"
      ],
      "text/plain": [
       "         bid                         name                 address  \\\n",
       "0       1000        HEUNG YUEN RESTAURANT            3279 22nd St   \n",
       "1     100010        ILLY CAFFE SF_PIER 39        PIER 39  K-106-B   \n",
       "2     100017  AMICI'S EAST COAST PIZZERIA             475 06th St   \n",
       "3     100026               LOCAL CATERING        1566 CARROLL AVE   \n",
       "4     100030             OUI OUI! MACARON  2200 JERROLD AVE STE C   \n",
       "...      ...                          ...                     ...   \n",
       "6248   99948            SUSIECAKES BAKERY      3509 CALIFORNIA ST   \n",
       "6249   99988                HINODEYA SOMA     303 02nd ST STE 102   \n",
       "6250   99991                      TON TON            422 GEARY ST   \n",
       "6251   99992   URBAN EXPRESS KITCHENS LLC             475 06th ST   \n",
       "6252   99993            THE BRIXTON SOUTH             701 02nd St   \n",
       "\n",
       "               city state postal_code     latitude    longitude  phone_number  \\\n",
       "0     San Francisco    CA       94110    37.755282  -122.420493         -9999   \n",
       "1     San Francisco    CA       94133 -9999.000000 -9999.000000   14154827284   \n",
       "2     San Francisco    CA       94103 -9999.000000 -9999.000000   14155279839   \n",
       "3     San Francisco    CA       94124 -9999.000000 -9999.000000   14155860315   \n",
       "4     San Francisco    CA       94124 -9999.000000 -9999.000000   14159702675   \n",
       "...             ...   ...         ...          ...          ...           ...   \n",
       "6248  San Francisco    CA       94118 -9999.000000 -9999.000000   14150452253   \n",
       "6249  San Francisco    CA       94107 -9999.000000 -9999.000000         -9999   \n",
       "6250  San Francisco    CA       94102 -9999.000000 -9999.000000   14155531280   \n",
       "6251  San Francisco    CA       94103 -9999.000000 -9999.000000   14150368085   \n",
       "6252  San Francisco    CA       94102 -9999.000000 -9999.000000   14158315871   \n",
       "\n",
       "     postal5  \n",
       "0      94110  \n",
       "1      94133  \n",
       "2      94103  \n",
       "3      94124  \n",
       "4      94124  \n",
       "...      ...  \n",
       "6248   94118  \n",
       "6249   94107  \n",
       "6250   94102  \n",
       "6251   94103  \n",
       "6252   94102  \n",
       "\n",
       "[6253 rows x 10 columns]"
      ]
     },
     "execution_count": 263,
     "metadata": {},
     "output_type": "execute_result"
    }
   ],
   "source": [
    "bus"
   ]
  },
  {
   "cell_type": "code",
   "execution_count": 264,
   "metadata": {},
   "outputs": [],
   "source": [
    "ins = ins[ins[\"score\"] > 0]"
   ]
  },
  {
   "cell_type": "markdown",
   "metadata": {
    "deletable": false,
    "editable": false
   },
   "source": [
    "We'll start by creating a new `DataFrame` called `ins_named`. `ins_named` should be exactly the same as `ins`, except that it should have the name and address of every business, as determined by the `bus` `DataFrame`. \n",
    "\n",
    "**Hint**: Use the `DataFrame` method `merge` to join the `ins` `DataFrame` with the appropriate portion of the `bus` `DataFrame`. See the [documentation](https://pandas.pydata.org/pandas-docs/stable/user_guide/merging.html) for guidance on how to use `merge` function to combine two `DataFrame` objects. The first few rows of `ins_named` `DataFrame` are shown below:\n",
    "\n",
    "<img src=\"pics/2a.png\" width=\"1080\"/>"
   ]
  },
  {
   "cell_type": "code",
   "execution_count": 265,
   "metadata": {
    "tags": []
   },
   "outputs": [
    {
     "data": {
      "text/html": [
       "<div>\n",
       "<style scoped>\n",
       "    .dataframe tbody tr th:only-of-type {\n",
       "        vertical-align: middle;\n",
       "    }\n",
       "\n",
       "    .dataframe tbody tr th {\n",
       "        vertical-align: top;\n",
       "    }\n",
       "\n",
       "    .dataframe thead th {\n",
       "        text-align: right;\n",
       "    }\n",
       "</style>\n",
       "<table border=\"1\" class=\"dataframe\">\n",
       "  <thead>\n",
       "    <tr style=\"text-align: right;\">\n",
       "      <th></th>\n",
       "      <th>iid</th>\n",
       "      <th>date</th>\n",
       "      <th>score</th>\n",
       "      <th>type</th>\n",
       "      <th>timestamp</th>\n",
       "      <th>bid</th>\n",
       "      <th>Missing Score</th>\n",
       "      <th>name</th>\n",
       "      <th>address</th>\n",
       "    </tr>\n",
       "  </thead>\n",
       "  <tbody>\n",
       "    <tr>\n",
       "      <th>0</th>\n",
       "      <td>100010_20190403</td>\n",
       "      <td>04/03/2019 12:00:00 AM</td>\n",
       "      <td>100</td>\n",
       "      <td>Routine - Unscheduled</td>\n",
       "      <td>2019-04-03</td>\n",
       "      <td>100010</td>\n",
       "      <td>No</td>\n",
       "      <td>ILLY CAFFE SF_PIER 39</td>\n",
       "      <td>PIER 39  K-106-B</td>\n",
       "    </tr>\n",
       "    <tr>\n",
       "      <th>1</th>\n",
       "      <td>100017_20190816</td>\n",
       "      <td>08/16/2019 12:00:00 AM</td>\n",
       "      <td>91</td>\n",
       "      <td>Routine - Unscheduled</td>\n",
       "      <td>2019-08-16</td>\n",
       "      <td>100017</td>\n",
       "      <td>No</td>\n",
       "      <td>AMICI'S EAST COAST PIZZERIA</td>\n",
       "      <td>475 06th St</td>\n",
       "    </tr>\n",
       "    <tr>\n",
       "      <th>2</th>\n",
       "      <td>100041_20190520</td>\n",
       "      <td>05/20/2019 12:00:00 AM</td>\n",
       "      <td>83</td>\n",
       "      <td>Routine - Unscheduled</td>\n",
       "      <td>2019-05-20</td>\n",
       "      <td>100041</td>\n",
       "      <td>No</td>\n",
       "      <td>UNCLE LEE CAFE</td>\n",
       "      <td>3608 BALBOA ST</td>\n",
       "    </tr>\n",
       "    <tr>\n",
       "      <th>3</th>\n",
       "      <td>100055_20190425</td>\n",
       "      <td>04/25/2019 12:00:00 AM</td>\n",
       "      <td>98</td>\n",
       "      <td>Routine - Unscheduled</td>\n",
       "      <td>2019-04-25</td>\n",
       "      <td>100055</td>\n",
       "      <td>No</td>\n",
       "      <td>Twirl and Dip</td>\n",
       "      <td>335 Martin Luther King Jr. Dr</td>\n",
       "    </tr>\n",
       "    <tr>\n",
       "      <th>4</th>\n",
       "      <td>100055_20190912</td>\n",
       "      <td>09/12/2019 12:00:00 AM</td>\n",
       "      <td>82</td>\n",
       "      <td>Routine - Unscheduled</td>\n",
       "      <td>2019-09-12</td>\n",
       "      <td>100055</td>\n",
       "      <td>No</td>\n",
       "      <td>Twirl and Dip</td>\n",
       "      <td>335 Martin Luther King Jr. Dr</td>\n",
       "    </tr>\n",
       "  </tbody>\n",
       "</table>\n",
       "</div>"
      ],
      "text/plain": [
       "               iid                    date  score                   type  \\\n",
       "0  100010_20190403  04/03/2019 12:00:00 AM    100  Routine - Unscheduled   \n",
       "1  100017_20190816  08/16/2019 12:00:00 AM     91  Routine - Unscheduled   \n",
       "2  100041_20190520  05/20/2019 12:00:00 AM     83  Routine - Unscheduled   \n",
       "3  100055_20190425  04/25/2019 12:00:00 AM     98  Routine - Unscheduled   \n",
       "4  100055_20190912  09/12/2019 12:00:00 AM     82  Routine - Unscheduled   \n",
       "\n",
       "   timestamp     bid Missing Score                         name  \\\n",
       "0 2019-04-03  100010            No        ILLY CAFFE SF_PIER 39   \n",
       "1 2019-08-16  100017            No  AMICI'S EAST COAST PIZZERIA   \n",
       "2 2019-05-20  100041            No               UNCLE LEE CAFE   \n",
       "3 2019-04-25  100055            No                Twirl and Dip   \n",
       "4 2019-09-12  100055            No                Twirl and Dip   \n",
       "\n",
       "                         address  \n",
       "0               PIER 39  K-106-B  \n",
       "1                    475 06th St  \n",
       "2                 3608 BALBOA ST  \n",
       "3  335 Martin Luther King Jr. Dr  \n",
       "4  335 Martin Luther King Jr. Dr  "
      ]
     },
     "execution_count": 265,
     "metadata": {},
     "output_type": "execute_result"
    }
   ],
   "source": [
    "ins_named= ins.merge(bus, on='bid', how='inner').loc[:, 'iid':'address']\n",
    "ins_named.head()"
   ]
  },
  {
   "cell_type": "code",
   "execution_count": 266,
   "metadata": {
    "deletable": false,
    "editable": false
   },
   "outputs": [
    {
     "data": {
      "text/html": [
       "<p><strong><pre style='display: inline;'>q2a</pre></strong> passed! 🚀</p>"
      ],
      "text/plain": [
       "q2a results: All test cases passed!"
      ]
     },
     "execution_count": 266,
     "metadata": {},
     "output_type": "execute_result"
    }
   ],
   "source": [
    "grader.check(\"q2a\")"
   ]
  },
  {
   "cell_type": "markdown",
   "metadata": {},
   "source": [
    "<br/>\n",
    "\n",
    "--- \n",
    "\n",
    "## 🚀 Question 2b\n",
    "\n",
    "Look at the 20 businesses in `ins_named` with the lowest scores. Order `ins_named` by each business's minimum score in ascending order. Use the business names in ascending order to break ties. The resulting `DataFrame` should look like the table below.\n",
    "\n",
    "This one is pretty challenging! Don't forget to rename the `score` column. \n",
    "\n",
    "**Hint**: The `agg` function can accept a dictionary as an input. See the `agg` [documentation](https://pandas.pydata.org/pandas-docs/version/0.22/generated/pandas.core.groupby.DataFrameGroupBy.agg.html). Additionally, when thinking about what aggregation functions to use, ask yourself what value would be in the `name` column for each entry across the group? Can we select just one of these values to represent the whole group?\n",
    "\n",
    "As usual, **YOU SHOULD NOT USE LOOPS OR LIST COMPREHENSIONS**. Try to break down the problem piece by piece instead, gradually chaining together different `pandas` functions. Feel free to use more than one line!\n",
    "\n",
    "<table border=\"1\" class=\"dataframe\">  <thead>    \n",
    "    <tr style=\"text-align: right;\">      <th></th>      <th>name</th>      <th>min score</th>    </tr> \n",
    "    <tr  align=\"right\">  <th align=\"right\">bid</th>      <th></th>      <th></th>    </tr> </thead>  <tbody>    \n",
    "    <tr  align=\"right\">      <th>86718</th>      <td>Lollipot</td>      <td>45</td>    </tr>  \n",
    "    <tr  align=\"right\">      <th>...</th>      <td>...</td>      <td>...</td>    </tr> \n",
    "  </tbody></table>"
   ]
  },
  {
   "cell_type": "code",
   "execution_count": 267,
   "metadata": {},
   "outputs": [
    {
     "data": {
      "text/html": [
       "<div>\n",
       "<style scoped>\n",
       "    .dataframe tbody tr th:only-of-type {\n",
       "        vertical-align: middle;\n",
       "    }\n",
       "\n",
       "    .dataframe tbody tr th {\n",
       "        vertical-align: top;\n",
       "    }\n",
       "\n",
       "    .dataframe thead th {\n",
       "        text-align: right;\n",
       "    }\n",
       "</style>\n",
       "<table border=\"1\" class=\"dataframe\">\n",
       "  <thead>\n",
       "    <tr style=\"text-align: right;\">\n",
       "      <th></th>\n",
       "      <th>name</th>\n",
       "      <th>min score</th>\n",
       "    </tr>\n",
       "    <tr>\n",
       "      <th>bid</th>\n",
       "      <th></th>\n",
       "      <th></th>\n",
       "    </tr>\n",
       "  </thead>\n",
       "  <tbody>\n",
       "    <tr>\n",
       "      <th>86718</th>\n",
       "      <td>Lollipot</td>\n",
       "      <td>45</td>\n",
       "    </tr>\n",
       "    <tr>\n",
       "      <th>1154</th>\n",
       "      <td>SUNFLOWER RESTAURANT</td>\n",
       "      <td>46</td>\n",
       "    </tr>\n",
       "    <tr>\n",
       "      <th>10877</th>\n",
       "      <td>CHINA FIRST INC.</td>\n",
       "      <td>48</td>\n",
       "    </tr>\n",
       "    <tr>\n",
       "      <th>67237</th>\n",
       "      <td>La Jefa</td>\n",
       "      <td>51</td>\n",
       "    </tr>\n",
       "    <tr>\n",
       "      <th>84590</th>\n",
       "      <td>Chaat Corner</td>\n",
       "      <td>54</td>\n",
       "    </tr>\n",
       "    <tr>\n",
       "      <th>71310</th>\n",
       "      <td>Golden King Vietnamese Restaurant</td>\n",
       "      <td>55</td>\n",
       "    </tr>\n",
       "    <tr>\n",
       "      <th>91843</th>\n",
       "      <td>Hello Sandwich &amp; Noodle</td>\n",
       "      <td>55</td>\n",
       "    </tr>\n",
       "    <tr>\n",
       "      <th>59828</th>\n",
       "      <td>Tip Top Market</td>\n",
       "      <td>55</td>\n",
       "    </tr>\n",
       "    <tr>\n",
       "      <th>66961</th>\n",
       "      <td>Mi Tierra Market</td>\n",
       "      <td>57</td>\n",
       "    </tr>\n",
       "    <tr>\n",
       "      <th>71440</th>\n",
       "      <td>New Garden Restaurant, Inc.</td>\n",
       "      <td>57</td>\n",
       "    </tr>\n",
       "    <tr>\n",
       "      <th>90622</th>\n",
       "      <td>Taqueria Lolita</td>\n",
       "      <td>57</td>\n",
       "    </tr>\n",
       "    <tr>\n",
       "      <th>69282</th>\n",
       "      <td>New Jumbo Seafood Restaurant</td>\n",
       "      <td>57</td>\n",
       "    </tr>\n",
       "    <tr>\n",
       "      <th>80316</th>\n",
       "      <td>Kingdom of Dumpling</td>\n",
       "      <td>58</td>\n",
       "    </tr>\n",
       "    <tr>\n",
       "      <th>66874</th>\n",
       "      <td>Peninsula Seafood Restaurant</td>\n",
       "      <td>58</td>\n",
       "    </tr>\n",
       "    <tr>\n",
       "      <th>811</th>\n",
       "      <td>EDEN PLAZA CAFE</td>\n",
       "      <td>58</td>\n",
       "    </tr>\n",
       "    <tr>\n",
       "      <th>94351</th>\n",
       "      <td>VBowls LLC</td>\n",
       "      <td>58</td>\n",
       "    </tr>\n",
       "    <tr>\n",
       "      <th>80242</th>\n",
       "      <td>Wing Lee BBQ Restaurant</td>\n",
       "      <td>59</td>\n",
       "    </tr>\n",
       "    <tr>\n",
       "      <th>71008</th>\n",
       "      <td>House of Pancakes</td>\n",
       "      <td>59</td>\n",
       "    </tr>\n",
       "    <tr>\n",
       "      <th>78220</th>\n",
       "      <td>Howard &amp; 6th Street Food Market Inc.</td>\n",
       "      <td>59</td>\n",
       "    </tr>\n",
       "    <tr>\n",
       "      <th>3167</th>\n",
       "      <td>MING'S DINER</td>\n",
       "      <td>59</td>\n",
       "    </tr>\n",
       "  </tbody>\n",
       "</table>\n",
       "</div>"
      ],
      "text/plain": [
       "                                       name  min score\n",
       "bid                                                   \n",
       "86718                              Lollipot         45\n",
       "1154                   SUNFLOWER RESTAURANT         46\n",
       "10877                      CHINA FIRST INC.         48\n",
       "67237                               La Jefa         51\n",
       "84590                          Chaat Corner         54\n",
       "71310     Golden King Vietnamese Restaurant         55\n",
       "91843               Hello Sandwich & Noodle         55\n",
       "59828                        Tip Top Market         55\n",
       "66961                      Mi Tierra Market         57\n",
       "71440           New Garden Restaurant, Inc.         57\n",
       "90622                       Taqueria Lolita         57\n",
       "69282          New Jumbo Seafood Restaurant         57\n",
       "80316                   Kingdom of Dumpling         58\n",
       "66874          Peninsula Seafood Restaurant         58\n",
       "811                         EDEN PLAZA CAFE         58\n",
       "94351                            VBowls LLC         58\n",
       "80242               Wing Lee BBQ Restaurant         59\n",
       "71008                     House of Pancakes         59\n",
       "78220  Howard & 6th Street Food Market Inc.         59\n",
       "3167                           MING'S DINER         59"
      ]
     },
     "execution_count": 267,
     "metadata": {},
     "output_type": "execute_result"
    }
   ],
   "source": [
    "twenty_lowest_scoring= ins_named.groupby('bid').agg('min')[['name','score']].sort_values(by='score', ascending=True)\n",
    "twenty_lowest_scoring=twenty_lowest_scoring.rename(columns={'score': 'min score'}).iloc[:20,:]\n",
    "twenty_lowest_scoring"
   ]
  },
  {
   "cell_type": "code",
   "execution_count": 268,
   "metadata": {
    "deletable": false,
    "editable": false
   },
   "outputs": [
    {
     "data": {
      "text/html": [
       "<p><strong><pre style='display: inline;'>q2b</pre></strong> passed! 🙌</p>"
      ],
      "text/plain": [
       "q2b results: All test cases passed!"
      ]
     },
     "execution_count": 268,
     "metadata": {},
     "output_type": "execute_result"
    }
   ],
   "source": [
    "grader.check(\"q2b\")"
   ]
  },
  {
   "cell_type": "markdown",
   "metadata": {
    "deletable": false,
    "editable": false
   },
   "source": [
    "<br/>\n",
    "\n",
    "--- \n",
    "## 🚀 Question 2c\n",
    "Let's do some more interesting analysis with our lowest score calculations. In the cell below, assign `worst_3_inspection_restaurants` to a two-column `DataFrame` with 15 rows.\n",
    "\n",
    "- One column is the `name` of each business.\n",
    "\n",
    "- The other column is a modified average inspection score of each business called `lowest 3 average`. \n",
    "\n",
    "    - To calculate `lowest 3 average`, find the average of each business's **three lowest inspection scores**. \n",
    "\n",
    "    - If a business has less than three inspection scores, take the average of all of its inspection scores (i.e., either one or two scores). \n",
    "\n",
    "- Finally, assign `worst_3_inspection_restaurants` to a `DataFrame` of the 15 rows with the lowest `lowest 3 average`, sorted by `lowest 3 average` ascending.  \n",
    "\n",
    "`worst_3_inspection_restaurants` should look like the one below.\n",
    "\n",
    "**Hint**: 2b’s advice also applies here! Furthermore, your answer to 2b may be helpful as a starting point. This question is intentionally left open-ended, so feel free to use any combination of `pandas` functions found online. Similarly to 2b, do not use loops or list comprehensions. Use as many lines as you see fit, so long as your final answer is saved to `worst_3_inspection_resturants`. For isolating each business's lowest three inspection scores, it may be useful to know that when `groupby` applies aggregating functions, it preserves the sort order of the inputted `DataFrame`. \n",
    "\n",
    "\n",
    "<table border=\"1\" class=\"dataframe\">  <thead>    \n",
    "    <tr style=\"text-align: right;\">      <th></th>      <th>name</th>      <th>lowest 3 average</th>    </tr> \n",
    "    <tr  align=\"right\">  <th align=\"right\">bid</th>      <th></th>      <th></th>    </tr> </thead>  <tbody>    \n",
    "    <tr  align=\"right\">      <th>84590</th>      <td>Chaat Corner</td>      <td>54.0</td>    </tr>  \n",
    "    <tr  align=\"right\">      <th>...</th>      <td>...</td>      <td>...</td>    </tr> \n",
    "  </tbody></table>\n"
   ]
  },
  {
   "cell_type": "code",
   "execution_count": 269,
   "metadata": {
    "tags": []
   },
   "outputs": [
    {
     "data": {
      "text/html": [
       "<div>\n",
       "<style scoped>\n",
       "    .dataframe tbody tr th:only-of-type {\n",
       "        vertical-align: middle;\n",
       "    }\n",
       "\n",
       "    .dataframe tbody tr th {\n",
       "        vertical-align: top;\n",
       "    }\n",
       "\n",
       "    .dataframe thead th {\n",
       "        text-align: right;\n",
       "    }\n",
       "</style>\n",
       "<table border=\"1\" class=\"dataframe\">\n",
       "  <thead>\n",
       "    <tr style=\"text-align: right;\">\n",
       "      <th></th>\n",
       "      <th>name</th>\n",
       "      <th>lowest 3 average</th>\n",
       "    </tr>\n",
       "    <tr>\n",
       "      <th>bid</th>\n",
       "      <th></th>\n",
       "      <th></th>\n",
       "    </tr>\n",
       "  </thead>\n",
       "  <tbody>\n",
       "    <tr>\n",
       "      <th>84590</th>\n",
       "      <td>Chaat Corner</td>\n",
       "      <td>54.0</td>\n",
       "    </tr>\n",
       "    <tr>\n",
       "      <th>90622</th>\n",
       "      <td>Taqueria Lolita</td>\n",
       "      <td>57.0</td>\n",
       "    </tr>\n",
       "    <tr>\n",
       "      <th>94351</th>\n",
       "      <td>VBowls LLC</td>\n",
       "      <td>58.0</td>\n",
       "    </tr>\n",
       "    <tr>\n",
       "      <th>69282</th>\n",
       "      <td>New Jumbo Seafood Restaurant</td>\n",
       "      <td>60.5</td>\n",
       "    </tr>\n",
       "    <tr>\n",
       "      <th>1154</th>\n",
       "      <td>SUNFLOWER RESTAURANT</td>\n",
       "      <td>63.5</td>\n",
       "    </tr>\n",
       "    <tr>\n",
       "      <th>93150</th>\n",
       "      <td>Chez Beesen</td>\n",
       "      <td>64.0</td>\n",
       "    </tr>\n",
       "    <tr>\n",
       "      <th>93502</th>\n",
       "      <td>Smoky Man</td>\n",
       "      <td>64.0</td>\n",
       "    </tr>\n",
       "    <tr>\n",
       "      <th>98995</th>\n",
       "      <td>Vallarta's Taco Bar</td>\n",
       "      <td>64.0</td>\n",
       "    </tr>\n",
       "    <tr>\n",
       "      <th>39776</th>\n",
       "      <td>Duc Loi Supermarket</td>\n",
       "      <td>64.0</td>\n",
       "    </tr>\n",
       "    <tr>\n",
       "      <th>69397</th>\n",
       "      <td>Minna SF Group LLC</td>\n",
       "      <td>64.0</td>\n",
       "    </tr>\n",
       "    <tr>\n",
       "      <th>10877</th>\n",
       "      <td>CHINA FIRST INC.</td>\n",
       "      <td>64.5</td>\n",
       "    </tr>\n",
       "    <tr>\n",
       "      <th>89070</th>\n",
       "      <td>Lafayette Coffee Shop</td>\n",
       "      <td>64.5</td>\n",
       "    </tr>\n",
       "    <tr>\n",
       "      <th>71310</th>\n",
       "      <td>Golden King Vietnamese Restaurant</td>\n",
       "      <td>64.5</td>\n",
       "    </tr>\n",
       "    <tr>\n",
       "      <th>61494</th>\n",
       "      <td>Golden City Inn</td>\n",
       "      <td>65.0</td>\n",
       "    </tr>\n",
       "    <tr>\n",
       "      <th>2542</th>\n",
       "      <td>PETER D'S RESTAURANT</td>\n",
       "      <td>65.0</td>\n",
       "    </tr>\n",
       "  </tbody>\n",
       "</table>\n",
       "</div>"
      ],
      "text/plain": [
       "                                    name  lowest 3 average\n",
       "bid                                                       \n",
       "84590                       Chaat Corner              54.0\n",
       "90622                    Taqueria Lolita              57.0\n",
       "94351                         VBowls LLC              58.0\n",
       "69282       New Jumbo Seafood Restaurant              60.5\n",
       "1154                SUNFLOWER RESTAURANT              63.5\n",
       "93150                        Chez Beesen              64.0\n",
       "93502                          Smoky Man              64.0\n",
       "98995                Vallarta's Taco Bar              64.0\n",
       "39776                Duc Loi Supermarket              64.0\n",
       "69397                 Minna SF Group LLC              64.0\n",
       "10877                   CHINA FIRST INC.              64.5\n",
       "89070              Lafayette Coffee Shop              64.5\n",
       "71310  Golden King Vietnamese Restaurant              64.5\n",
       "61494                    Golden City Inn              65.0\n",
       "2542                PETER D'S RESTAURANT              65.0"
      ]
     },
     "execution_count": 269,
     "metadata": {},
     "output_type": "execute_result"
    }
   ],
   "source": [
    "worst_3_scores = ins_named.groupby(['bid']).agg({'name' : 'first', 'score' : lambda x: np.mean(sorted(x)[:3])})\n",
    "worst_3_inspection_restaurants=worst_3_scores.sort_values(by='score', ascending= True).rename(columns= {'score':'lowest 3 average'}).head(15)\n",
    "\n",
    "worst_3_inspection_restaurants"
   ]
  },
  {
   "cell_type": "code",
   "execution_count": 270,
   "metadata": {
    "deletable": false,
    "editable": false
   },
   "outputs": [
    {
     "data": {
      "text/html": [
       "<p><strong><pre style='display: inline;'>q2c</pre></strong> passed! 🌟</p>"
      ],
      "text/plain": [
       "q2c results: All test cases passed!"
      ]
     },
     "execution_count": 270,
     "metadata": {},
     "output_type": "execute_result"
    }
   ],
   "source": [
    "grader.check(\"q2c\")"
   ]
  },
  {
   "cell_type": "markdown",
   "metadata": {},
   "source": [
    "<br/>\n",
    "\n",
    "---\n",
    "\n",
    "# 🌮 Question 3: `pandas` Potpourri\n",
    "\n",
    "In this question, we ask you to describe `pandas` operations and explain specific concepts using `ins_named`."
   ]
  },
  {
   "cell_type": "markdown",
   "metadata": {
    "deletable": false,
    "editable": false
   },
   "source": [
    "<!-- BEGIN QUESTION -->\n",
    "\n",
    "<br/>\n",
    "\n",
    "---\n",
    "\n",
    "## 🌮 Question 3a\n",
    "\n",
    "Consider the chained `pandas` statement below:\n",
    "\n",
    "`q3a_df = ins_named[ins_named[\"name\"].str.lower().str.contains(\"taco\")].groupby(\"bid\").filter(lambda sf: sf[\"score\"].max() > 95).agg(\"count\")`\n",
    "\n",
    "We can decompose this statement into three parts:\n",
    "\n",
    "```\n",
    "temp1 = ins_named[ins_named[\"name\"].str.lower().str.contains(\"taco\")]\n",
    " \n",
    "temp2 = temp1.groupby(\"bid\").filter(lambda sf: sf[\"score\"].max() > 95)\n",
    " \n",
    "q3a_df = temp2.agg(\"count\")\n",
    "```\n",
    "\n",
    "For each line of code above, write one sentence describing what the line of code accomplishes. Feel free to create a cell to see what each line does. In total, you'll write three sentences.\n",
    "\n",
    "Finally, write an example homework question whose answer is `q3a_df`. \n",
    "\n",
    "- This example homework question should only be one sentence.\n",
    "\n",
    "**Note: While the first part of this question will be graded for correctness, the second part is a bit more open-ended. Answers that demonstrate correct understanding will receive full credit.** \n",
    "\n",
    "An example answer will look like the following: \"`temp1` creates a ... `temp2` transforms `temp1` by ... Finally, `q3a_df` results in a `DataFrame` that ... A question that is answered by this chain of operations is ...\""
   ]
  },
  {
   "cell_type": "markdown",
   "metadata": {},
   "source": [
    "temp1 creates a DataFrame from ins_named, filtering rows where the name column (converted to lowercase) contains the word \"taco\".\n",
    "\n",
    "temp2 takes the filtered DataFrame from temp1, groups it by bid, and keeps only businesses where the highest inspection score within the group is greater than 95.\n",
    "\n",
    "q3a_df calculates the count of remaining businesses after filtering in temp2, it is a DataFrame with the total number of such businesses.\n",
    "\n",
    "Question: Using ins_named,Find the number of businesses whose name contains 'Taco', group them by their bid, and count only those where at least one inspection score is greater than 95. Return a series."
   ]
  },
  {
   "cell_type": "markdown",
   "metadata": {
    "deletable": false,
    "editable": false
   },
   "source": [
    "<!-- END QUESTION -->\n",
    "\n",
    "<!-- BEGIN QUESTION -->\n",
    "\n",
    "<br/>\n",
    "\n",
    "---\n",
    "\n",
    "## 🌮 Question 3b\n",
    "\n",
    "Consider `ins_named`, `temp1`, `temp2`, and `q3a_df` from the previous problem. What is the granularity of each `DataFrame`? Explain your answer in no more than four sentences.\n",
    "\n",
    "**Note**: For more details on what the granularity of a `DataFrame` means, feel free to check the [course notes](https://ds100.org/course-notes/eda/eda.html#granularity)!"
   ]
  },
  {
   "cell_type": "markdown",
   "metadata": {},
   "source": [
    "Each row in ins_named shows each unique business' inspection information such as name, address, (inspection) score, dates and timestamps.\n",
    "\n",
    "Each row temp1 would represent only businesses inspection records that have a name with \"Taco\", and its complete columns as in ins_named\n",
    "\n",
    "Each row in temp2 represents an inspection record for businesses with \"Taco\" in their name, filtered to include only businesses where at least one inspection score is greater than 95.\n",
    "\n",
    "Each row in q3a_df represents a single business (bid) inspection record that have a name with \"Taco\" and at least one inspection score greater than 95, with the DataFrame containing only the count of such businesses."
   ]
  },
  {
   "cell_type": "markdown",
   "metadata": {
    "deletable": false,
    "editable": false
   },
   "source": [
    "<!-- END QUESTION -->\n",
    "\n",
    "<br/>\n",
    "\n",
    "---\n",
    "\n",
    "# 🚀 Question 4: Missing Inspections"
   ]
  },
  {
   "cell_type": "markdown",
   "metadata": {},
   "source": [
    "With our inspection data, we are given the `type` of each inspection. These categories were lightly investigated in Question 1, centered on the number of missing scores within each `type`. Since the `timestamp` and `score` for each inspection are also provided, we can do a more interesting analysis relating the `score` and `timestamp` of specific types of inspections. \n",
    "\n",
    "Specifically, in Question 4, we are interested in the possible relationship between inspections of the `type` \"Routine - Unscheduled\" and \"Reinspection/Followup\" (the two most frequent inspection types in our dataset). We might guess that a follow-up (\"Reinspection/Followup\") inspection occurs more frequently when an initial (\"Routine - Unscheduled\") inspection receives a low score. To confirm this hunch, let’s investigate the rate of follow-up inspections for different initial scores. To simplify your analysis, we have provided a new `DataFrame` (`reinspections`). \n",
    "\n",
    "- `reinspections` contains every \"Routine - Unscheduled\" inspection, along with the relevant `bid` and `name` associated with the initial inspection. \n",
    "- `routine timestamp` indicates when the initial inspection occurred. \n",
    "- `routine score` is the score that the initial inspection received. \n",
    "- `day difference` is the number of days between the initial inspection and a follow-up inspection if done within one year. \n",
    "    \n",
    "Some initial inspections did not have any follow-up inspections within one year. In these cases, `day difference` is assigned a filler value of -1.\n",
    "\n",
    "Run the cell below to load in `reinspections`."
   ]
  },
  {
   "cell_type": "code",
   "execution_count": 271,
   "metadata": {},
   "outputs": [
    {
     "data": {
      "text/html": [
       "<div>\n",
       "<style scoped>\n",
       "    .dataframe tbody tr th:only-of-type {\n",
       "        vertical-align: middle;\n",
       "    }\n",
       "\n",
       "    .dataframe tbody tr th {\n",
       "        vertical-align: top;\n",
       "    }\n",
       "\n",
       "    .dataframe thead th {\n",
       "        text-align: right;\n",
       "    }\n",
       "</style>\n",
       "<table border=\"1\" class=\"dataframe\">\n",
       "  <thead>\n",
       "    <tr style=\"text-align: right;\">\n",
       "      <th></th>\n",
       "      <th>bid</th>\n",
       "      <th>routine timestamp</th>\n",
       "      <th>routine score</th>\n",
       "      <th>name</th>\n",
       "      <th>day difference</th>\n",
       "    </tr>\n",
       "  </thead>\n",
       "  <tbody>\n",
       "    <tr>\n",
       "      <th>0</th>\n",
       "      <td>19</td>\n",
       "      <td>2017-12-11</td>\n",
       "      <td>94</td>\n",
       "      <td>Nrgize Lifestyle Cafe</td>\n",
       "      <td>-1.0</td>\n",
       "    </tr>\n",
       "    <tr>\n",
       "      <th>1</th>\n",
       "      <td>19</td>\n",
       "      <td>2018-06-07</td>\n",
       "      <td>96</td>\n",
       "      <td>Nrgize Lifestyle Cafe</td>\n",
       "      <td>-1.0</td>\n",
       "    </tr>\n",
       "    <tr>\n",
       "      <th>2</th>\n",
       "      <td>24</td>\n",
       "      <td>2016-10-05</td>\n",
       "      <td>98</td>\n",
       "      <td>OMNI S.F. Hotel - 2nd Floor Pantry</td>\n",
       "      <td>-1.0</td>\n",
       "    </tr>\n",
       "    <tr>\n",
       "      <th>3</th>\n",
       "      <td>24</td>\n",
       "      <td>2017-11-01</td>\n",
       "      <td>98</td>\n",
       "      <td>OMNI S.F. Hotel - 2nd Floor Pantry</td>\n",
       "      <td>-1.0</td>\n",
       "    </tr>\n",
       "    <tr>\n",
       "      <th>4</th>\n",
       "      <td>24</td>\n",
       "      <td>2019-05-01</td>\n",
       "      <td>98</td>\n",
       "      <td>OMNI S.F. Hotel - 2nd Floor Pantry</td>\n",
       "      <td>15.0</td>\n",
       "    </tr>\n",
       "    <tr>\n",
       "      <th>...</th>\n",
       "      <td>...</td>\n",
       "      <td>...</td>\n",
       "      <td>...</td>\n",
       "      <td>...</td>\n",
       "      <td>...</td>\n",
       "    </tr>\n",
       "    <tr>\n",
       "      <th>14072</th>\n",
       "      <td>101853</td>\n",
       "      <td>2019-09-18</td>\n",
       "      <td>100</td>\n",
       "      <td>INDIAN MARKET AND LIQUOR</td>\n",
       "      <td>-1.0</td>\n",
       "    </tr>\n",
       "    <tr>\n",
       "      <th>14073</th>\n",
       "      <td>102067</td>\n",
       "      <td>2019-09-11</td>\n",
       "      <td>100</td>\n",
       "      <td>Humphry Slocombe Ice Cream</td>\n",
       "      <td>-1.0</td>\n",
       "    </tr>\n",
       "    <tr>\n",
       "      <th>14074</th>\n",
       "      <td>102257</td>\n",
       "      <td>2019-09-25</td>\n",
       "      <td>94</td>\n",
       "      <td>THE SLICE</td>\n",
       "      <td>7.0</td>\n",
       "    </tr>\n",
       "    <tr>\n",
       "      <th>14075</th>\n",
       "      <td>102336</td>\n",
       "      <td>2019-09-19</td>\n",
       "      <td>82</td>\n",
       "      <td>RED HILL STATION</td>\n",
       "      <td>1.0</td>\n",
       "    </tr>\n",
       "    <tr>\n",
       "      <th>14076</th>\n",
       "      <td>102398</td>\n",
       "      <td>2019-08-13</td>\n",
       "      <td>90</td>\n",
       "      <td>BEIT RIMA</td>\n",
       "      <td>8.0</td>\n",
       "    </tr>\n",
       "  </tbody>\n",
       "</table>\n",
       "<p>14077 rows × 5 columns</p>\n",
       "</div>"
      ],
      "text/plain": [
       "          bid routine timestamp  routine score  \\\n",
       "0          19        2017-12-11             94   \n",
       "1          19        2018-06-07             96   \n",
       "2          24        2016-10-05             98   \n",
       "3          24        2017-11-01             98   \n",
       "4          24        2019-05-01             98   \n",
       "...       ...               ...            ...   \n",
       "14072  101853        2019-09-18            100   \n",
       "14073  102067        2019-09-11            100   \n",
       "14074  102257        2019-09-25             94   \n",
       "14075  102336        2019-09-19             82   \n",
       "14076  102398        2019-08-13             90   \n",
       "\n",
       "                                     name  day difference  \n",
       "0                   Nrgize Lifestyle Cafe            -1.0  \n",
       "1                   Nrgize Lifestyle Cafe            -1.0  \n",
       "2      OMNI S.F. Hotel - 2nd Floor Pantry            -1.0  \n",
       "3      OMNI S.F. Hotel - 2nd Floor Pantry            -1.0  \n",
       "4      OMNI S.F. Hotel - 2nd Floor Pantry            15.0  \n",
       "...                                   ...             ...  \n",
       "14072            INDIAN MARKET AND LIQUOR            -1.0  \n",
       "14073          Humphry Slocombe Ice Cream            -1.0  \n",
       "14074                           THE SLICE             7.0  \n",
       "14075                    RED HILL STATION             1.0  \n",
       "14076                           BEIT RIMA             8.0  \n",
       "\n",
       "[14077 rows x 5 columns]"
      ]
     },
     "execution_count": 271,
     "metadata": {},
     "output_type": "execute_result"
    }
   ],
   "source": [
    "reinspections = pd.read_csv('data/reinspections.csv')\n",
    "reinspections"
   ]
  },
  {
   "cell_type": "markdown",
   "metadata": {
    "deletable": false,
    "editable": false
   },
   "source": [
    "<br/>\n",
    "\n",
    "--- \n",
    "## 🚀 Question 4a\n",
    "First, create a new `Boolean` column `recent reinspection?` that indicates whether a follow-up inspection occurred within 62 days inclusive (~2 months) of an initial inspection. "
   ]
  },
  {
   "cell_type": "code",
   "execution_count": 277,
   "metadata": {},
   "outputs": [
    {
     "data": {
      "text/plain": [
       "dtype('float64')"
      ]
     },
     "execution_count": 277,
     "metadata": {},
     "output_type": "execute_result"
    }
   ],
   "source": [
    "reinspections[\"day difference\"].dtype"
   ]
  },
  {
   "cell_type": "code",
   "execution_count": 281,
   "metadata": {
    "tags": []
   },
   "outputs": [
    {
     "data": {
      "text/html": [
       "<div>\n",
       "<style scoped>\n",
       "    .dataframe tbody tr th:only-of-type {\n",
       "        vertical-align: middle;\n",
       "    }\n",
       "\n",
       "    .dataframe tbody tr th {\n",
       "        vertical-align: top;\n",
       "    }\n",
       "\n",
       "    .dataframe thead th {\n",
       "        text-align: right;\n",
       "    }\n",
       "</style>\n",
       "<table border=\"1\" class=\"dataframe\">\n",
       "  <thead>\n",
       "    <tr style=\"text-align: right;\">\n",
       "      <th></th>\n",
       "      <th>bid</th>\n",
       "      <th>routine timestamp</th>\n",
       "      <th>routine score</th>\n",
       "      <th>name</th>\n",
       "      <th>day difference</th>\n",
       "      <th>recent reinspection?</th>\n",
       "    </tr>\n",
       "  </thead>\n",
       "  <tbody>\n",
       "    <tr>\n",
       "      <th>0</th>\n",
       "      <td>19</td>\n",
       "      <td>2017-12-11</td>\n",
       "      <td>94</td>\n",
       "      <td>Nrgize Lifestyle Cafe</td>\n",
       "      <td>-1.0</td>\n",
       "      <td>False</td>\n",
       "    </tr>\n",
       "    <tr>\n",
       "      <th>1</th>\n",
       "      <td>19</td>\n",
       "      <td>2018-06-07</td>\n",
       "      <td>96</td>\n",
       "      <td>Nrgize Lifestyle Cafe</td>\n",
       "      <td>-1.0</td>\n",
       "      <td>False</td>\n",
       "    </tr>\n",
       "    <tr>\n",
       "      <th>2</th>\n",
       "      <td>24</td>\n",
       "      <td>2016-10-05</td>\n",
       "      <td>98</td>\n",
       "      <td>OMNI S.F. Hotel - 2nd Floor Pantry</td>\n",
       "      <td>-1.0</td>\n",
       "      <td>False</td>\n",
       "    </tr>\n",
       "    <tr>\n",
       "      <th>3</th>\n",
       "      <td>24</td>\n",
       "      <td>2017-11-01</td>\n",
       "      <td>98</td>\n",
       "      <td>OMNI S.F. Hotel - 2nd Floor Pantry</td>\n",
       "      <td>-1.0</td>\n",
       "      <td>False</td>\n",
       "    </tr>\n",
       "    <tr>\n",
       "      <th>4</th>\n",
       "      <td>24</td>\n",
       "      <td>2019-05-01</td>\n",
       "      <td>98</td>\n",
       "      <td>OMNI S.F. Hotel - 2nd Floor Pantry</td>\n",
       "      <td>15.0</td>\n",
       "      <td>True</td>\n",
       "    </tr>\n",
       "    <tr>\n",
       "      <th>...</th>\n",
       "      <td>...</td>\n",
       "      <td>...</td>\n",
       "      <td>...</td>\n",
       "      <td>...</td>\n",
       "      <td>...</td>\n",
       "      <td>...</td>\n",
       "    </tr>\n",
       "    <tr>\n",
       "      <th>14072</th>\n",
       "      <td>101853</td>\n",
       "      <td>2019-09-18</td>\n",
       "      <td>100</td>\n",
       "      <td>INDIAN MARKET AND LIQUOR</td>\n",
       "      <td>-1.0</td>\n",
       "      <td>False</td>\n",
       "    </tr>\n",
       "    <tr>\n",
       "      <th>14073</th>\n",
       "      <td>102067</td>\n",
       "      <td>2019-09-11</td>\n",
       "      <td>100</td>\n",
       "      <td>Humphry Slocombe Ice Cream</td>\n",
       "      <td>-1.0</td>\n",
       "      <td>False</td>\n",
       "    </tr>\n",
       "    <tr>\n",
       "      <th>14074</th>\n",
       "      <td>102257</td>\n",
       "      <td>2019-09-25</td>\n",
       "      <td>94</td>\n",
       "      <td>THE SLICE</td>\n",
       "      <td>7.0</td>\n",
       "      <td>True</td>\n",
       "    </tr>\n",
       "    <tr>\n",
       "      <th>14075</th>\n",
       "      <td>102336</td>\n",
       "      <td>2019-09-19</td>\n",
       "      <td>82</td>\n",
       "      <td>RED HILL STATION</td>\n",
       "      <td>1.0</td>\n",
       "      <td>True</td>\n",
       "    </tr>\n",
       "    <tr>\n",
       "      <th>14076</th>\n",
       "      <td>102398</td>\n",
       "      <td>2019-08-13</td>\n",
       "      <td>90</td>\n",
       "      <td>BEIT RIMA</td>\n",
       "      <td>8.0</td>\n",
       "      <td>True</td>\n",
       "    </tr>\n",
       "  </tbody>\n",
       "</table>\n",
       "<p>14077 rows × 6 columns</p>\n",
       "</div>"
      ],
      "text/plain": [
       "          bid routine timestamp  routine score  \\\n",
       "0          19        2017-12-11             94   \n",
       "1          19        2018-06-07             96   \n",
       "2          24        2016-10-05             98   \n",
       "3          24        2017-11-01             98   \n",
       "4          24        2019-05-01             98   \n",
       "...       ...               ...            ...   \n",
       "14072  101853        2019-09-18            100   \n",
       "14073  102067        2019-09-11            100   \n",
       "14074  102257        2019-09-25             94   \n",
       "14075  102336        2019-09-19             82   \n",
       "14076  102398        2019-08-13             90   \n",
       "\n",
       "                                     name  day difference  \\\n",
       "0                   Nrgize Lifestyle Cafe            -1.0   \n",
       "1                   Nrgize Lifestyle Cafe            -1.0   \n",
       "2      OMNI S.F. Hotel - 2nd Floor Pantry            -1.0   \n",
       "3      OMNI S.F. Hotel - 2nd Floor Pantry            -1.0   \n",
       "4      OMNI S.F. Hotel - 2nd Floor Pantry            15.0   \n",
       "...                                   ...             ...   \n",
       "14072            INDIAN MARKET AND LIQUOR            -1.0   \n",
       "14073          Humphry Slocombe Ice Cream            -1.0   \n",
       "14074                           THE SLICE             7.0   \n",
       "14075                    RED HILL STATION             1.0   \n",
       "14076                           BEIT RIMA             8.0   \n",
       "\n",
       "       recent reinspection?  \n",
       "0                     False  \n",
       "1                     False  \n",
       "2                     False  \n",
       "3                     False  \n",
       "4                      True  \n",
       "...                     ...  \n",
       "14072                 False  \n",
       "14073                 False  \n",
       "14074                  True  \n",
       "14075                  True  \n",
       "14076                  True  \n",
       "\n",
       "[14077 rows x 6 columns]"
      ]
     },
     "execution_count": 281,
     "metadata": {},
     "output_type": "execute_result"
    }
   ],
   "source": [
    "reinspections['recent reinspection?'] = (reinspections['day difference'] <=62) & ~(reinspections[\"day difference\"] ==-1)\n",
    "reinspections"
   ]
  },
  {
   "cell_type": "code",
   "execution_count": 282,
   "metadata": {
    "deletable": false,
    "editable": false
   },
   "outputs": [
    {
     "data": {
      "text/html": [
       "<p><strong><pre style='display: inline;'>q4a</pre></strong> passed! 🌟</p>"
      ],
      "text/plain": [
       "q4a results: All test cases passed!"
      ]
     },
     "execution_count": 282,
     "metadata": {},
     "output_type": "execute_result"
    }
   ],
   "source": [
    "grader.check(\"q4a\")"
   ]
  },
  {
   "cell_type": "markdown",
   "metadata": {
    "deletable": false,
    "editable": false
   },
   "source": [
    "<br/>\n",
    "\n",
    "--- \n",
    "## 🚀 Question 4b\n",
    "To simplify our analysis, let’s assign `routine score`s to buckets. Buckets are similar to the bins of a histogram. Each bucket contains all scores that fall in a particular range.\n",
    "\n",
    "Below we have defined the function `bucketify`. Use `bucketify` to create a new column in `reinspections` called `score buckets` that **maps** the score of an initial inspection to one of these predefined buckets.\n",
    "\n",
    "**Hint:** You may find the `map` [documentation](https://pandas.pydata.org/docs/reference/api/pandas.DataFrame.map.html) useful. Alternatively, see [this demonstration](https://ds100.org/course-notes/pandas_3/pandas_3.html#approach-3-sorting-using-the-map-function) in the course notes for an example use case."
   ]
  },
  {
   "cell_type": "code",
   "execution_count": 283,
   "metadata": {
    "tags": []
   },
   "outputs": [
    {
     "data": {
      "text/html": [
       "<div>\n",
       "<style scoped>\n",
       "    .dataframe tbody tr th:only-of-type {\n",
       "        vertical-align: middle;\n",
       "    }\n",
       "\n",
       "    .dataframe tbody tr th {\n",
       "        vertical-align: top;\n",
       "    }\n",
       "\n",
       "    .dataframe thead th {\n",
       "        text-align: right;\n",
       "    }\n",
       "</style>\n",
       "<table border=\"1\" class=\"dataframe\">\n",
       "  <thead>\n",
       "    <tr style=\"text-align: right;\">\n",
       "      <th></th>\n",
       "      <th>bid</th>\n",
       "      <th>routine timestamp</th>\n",
       "      <th>routine score</th>\n",
       "      <th>name</th>\n",
       "      <th>day difference</th>\n",
       "      <th>recent reinspection?</th>\n",
       "      <th>score buckets</th>\n",
       "    </tr>\n",
       "  </thead>\n",
       "  <tbody>\n",
       "    <tr>\n",
       "      <th>0</th>\n",
       "      <td>19</td>\n",
       "      <td>2017-12-11</td>\n",
       "      <td>94</td>\n",
       "      <td>Nrgize Lifestyle Cafe</td>\n",
       "      <td>-1.0</td>\n",
       "      <td>False</td>\n",
       "      <td>90 - 94</td>\n",
       "    </tr>\n",
       "    <tr>\n",
       "      <th>1</th>\n",
       "      <td>19</td>\n",
       "      <td>2018-06-07</td>\n",
       "      <td>96</td>\n",
       "      <td>Nrgize Lifestyle Cafe</td>\n",
       "      <td>-1.0</td>\n",
       "      <td>False</td>\n",
       "      <td>95 - 100</td>\n",
       "    </tr>\n",
       "    <tr>\n",
       "      <th>2</th>\n",
       "      <td>24</td>\n",
       "      <td>2016-10-05</td>\n",
       "      <td>98</td>\n",
       "      <td>OMNI S.F. Hotel - 2nd Floor Pantry</td>\n",
       "      <td>-1.0</td>\n",
       "      <td>False</td>\n",
       "      <td>95 - 100</td>\n",
       "    </tr>\n",
       "    <tr>\n",
       "      <th>3</th>\n",
       "      <td>24</td>\n",
       "      <td>2017-11-01</td>\n",
       "      <td>98</td>\n",
       "      <td>OMNI S.F. Hotel - 2nd Floor Pantry</td>\n",
       "      <td>-1.0</td>\n",
       "      <td>False</td>\n",
       "      <td>95 - 100</td>\n",
       "    </tr>\n",
       "    <tr>\n",
       "      <th>4</th>\n",
       "      <td>24</td>\n",
       "      <td>2019-05-01</td>\n",
       "      <td>98</td>\n",
       "      <td>OMNI S.F. Hotel - 2nd Floor Pantry</td>\n",
       "      <td>15.0</td>\n",
       "      <td>True</td>\n",
       "      <td>95 - 100</td>\n",
       "    </tr>\n",
       "    <tr>\n",
       "      <th>...</th>\n",
       "      <td>...</td>\n",
       "      <td>...</td>\n",
       "      <td>...</td>\n",
       "      <td>...</td>\n",
       "      <td>...</td>\n",
       "      <td>...</td>\n",
       "      <td>...</td>\n",
       "    </tr>\n",
       "    <tr>\n",
       "      <th>14072</th>\n",
       "      <td>101853</td>\n",
       "      <td>2019-09-18</td>\n",
       "      <td>100</td>\n",
       "      <td>INDIAN MARKET AND LIQUOR</td>\n",
       "      <td>-1.0</td>\n",
       "      <td>False</td>\n",
       "      <td>95 - 100</td>\n",
       "    </tr>\n",
       "    <tr>\n",
       "      <th>14073</th>\n",
       "      <td>102067</td>\n",
       "      <td>2019-09-11</td>\n",
       "      <td>100</td>\n",
       "      <td>Humphry Slocombe Ice Cream</td>\n",
       "      <td>-1.0</td>\n",
       "      <td>False</td>\n",
       "      <td>95 - 100</td>\n",
       "    </tr>\n",
       "    <tr>\n",
       "      <th>14074</th>\n",
       "      <td>102257</td>\n",
       "      <td>2019-09-25</td>\n",
       "      <td>94</td>\n",
       "      <td>THE SLICE</td>\n",
       "      <td>7.0</td>\n",
       "      <td>True</td>\n",
       "      <td>90 - 94</td>\n",
       "    </tr>\n",
       "    <tr>\n",
       "      <th>14075</th>\n",
       "      <td>102336</td>\n",
       "      <td>2019-09-19</td>\n",
       "      <td>82</td>\n",
       "      <td>RED HILL STATION</td>\n",
       "      <td>1.0</td>\n",
       "      <td>True</td>\n",
       "      <td>80 - 74</td>\n",
       "    </tr>\n",
       "    <tr>\n",
       "      <th>14076</th>\n",
       "      <td>102398</td>\n",
       "      <td>2019-08-13</td>\n",
       "      <td>90</td>\n",
       "      <td>BEIT RIMA</td>\n",
       "      <td>8.0</td>\n",
       "      <td>True</td>\n",
       "      <td>90 - 94</td>\n",
       "    </tr>\n",
       "  </tbody>\n",
       "</table>\n",
       "<p>14077 rows × 7 columns</p>\n",
       "</div>"
      ],
      "text/plain": [
       "          bid routine timestamp  routine score  \\\n",
       "0          19        2017-12-11             94   \n",
       "1          19        2018-06-07             96   \n",
       "2          24        2016-10-05             98   \n",
       "3          24        2017-11-01             98   \n",
       "4          24        2019-05-01             98   \n",
       "...       ...               ...            ...   \n",
       "14072  101853        2019-09-18            100   \n",
       "14073  102067        2019-09-11            100   \n",
       "14074  102257        2019-09-25             94   \n",
       "14075  102336        2019-09-19             82   \n",
       "14076  102398        2019-08-13             90   \n",
       "\n",
       "                                     name  day difference  \\\n",
       "0                   Nrgize Lifestyle Cafe            -1.0   \n",
       "1                   Nrgize Lifestyle Cafe            -1.0   \n",
       "2      OMNI S.F. Hotel - 2nd Floor Pantry            -1.0   \n",
       "3      OMNI S.F. Hotel - 2nd Floor Pantry            -1.0   \n",
       "4      OMNI S.F. Hotel - 2nd Floor Pantry            15.0   \n",
       "...                                   ...             ...   \n",
       "14072            INDIAN MARKET AND LIQUOR            -1.0   \n",
       "14073          Humphry Slocombe Ice Cream            -1.0   \n",
       "14074                           THE SLICE             7.0   \n",
       "14075                    RED HILL STATION             1.0   \n",
       "14076                           BEIT RIMA             8.0   \n",
       "\n",
       "       recent reinspection? score buckets  \n",
       "0                     False       90 - 94  \n",
       "1                     False      95 - 100  \n",
       "2                     False      95 - 100  \n",
       "3                     False      95 - 100  \n",
       "4                      True      95 - 100  \n",
       "...                     ...           ...  \n",
       "14072                 False      95 - 100  \n",
       "14073                 False      95 - 100  \n",
       "14074                  True       90 - 94  \n",
       "14075                  True       80 - 74  \n",
       "14076                  True       90 - 94  \n",
       "\n",
       "[14077 rows x 7 columns]"
      ]
     },
     "execution_count": 283,
     "metadata": {},
     "output_type": "execute_result"
    }
   ],
   "source": [
    "def bucketify(score):\n",
    "    if score < 65: \n",
    "        return '0 - 65'\n",
    "    elif score < 70:\n",
    "        return '65 - 69'\n",
    "    elif score < 75:\n",
    "        return '70 - 74'\n",
    "    elif score < 80:\n",
    "        return '75 - 79'\n",
    "    elif score < 85:\n",
    "        return '80 - 74'\n",
    "    elif score < 90:\n",
    "        return '85 - 89'\n",
    "    elif score < 95:\n",
    "        return '90 - 94'\n",
    "    else:\n",
    "        return '95 - 100'\n",
    "        \n",
    "reinspections['score buckets'] = reinspections['routine score'].map(bucketify)\t\n",
    "\n",
    "reinspections"
   ]
  },
  {
   "cell_type": "code",
   "execution_count": 284,
   "metadata": {
    "deletable": false,
    "editable": false
   },
   "outputs": [
    {
     "data": {
      "text/html": [
       "<p><strong><pre style='display: inline;'>q4b</pre></strong> passed! 🌟</p>"
      ],
      "text/plain": [
       "q4b results: All test cases passed!"
      ]
     },
     "execution_count": 284,
     "metadata": {},
     "output_type": "execute_result"
    }
   ],
   "source": [
    "grader.check(\"q4b\")"
   ]
  },
  {
   "cell_type": "markdown",
   "metadata": {
    "deletable": false,
    "editable": false
   },
   "source": [
    "<br/>\n",
    "\n",
    "--- \n",
    "## 🚀 Question 4c\n",
    "Before we complete our analysis, remove all rows whose `score buckets` contain less than 125 rows. Assign `reinspection_filtered` to this new `DataFrame`. "
   ]
  },
  {
   "cell_type": "code",
   "execution_count": 293,
   "metadata": {},
   "outputs": [
    {
     "data": {
      "text/plain": [
       "score buckets\n",
       "95 - 100    4754\n",
       "90 - 94     4140\n",
       "85 - 89     2536\n",
       "80 - 74     1366\n",
       "75 - 79      686\n",
       "70 - 74      358\n",
       "65 - 69      122\n",
       "0 - 65       115\n",
       "Name: count, dtype: int64"
      ]
     },
     "execution_count": 293,
     "metadata": {},
     "output_type": "execute_result"
    }
   ],
   "source": [
    "reinspections['score buckets'].value_counts()"
   ]
  },
  {
   "cell_type": "code",
   "execution_count": 294,
   "metadata": {
    "tags": []
   },
   "outputs": [
    {
     "data": {
      "text/html": [
       "<div>\n",
       "<style scoped>\n",
       "    .dataframe tbody tr th:only-of-type {\n",
       "        vertical-align: middle;\n",
       "    }\n",
       "\n",
       "    .dataframe tbody tr th {\n",
       "        vertical-align: top;\n",
       "    }\n",
       "\n",
       "    .dataframe thead th {\n",
       "        text-align: right;\n",
       "    }\n",
       "</style>\n",
       "<table border=\"1\" class=\"dataframe\">\n",
       "  <thead>\n",
       "    <tr style=\"text-align: right;\">\n",
       "      <th></th>\n",
       "      <th>bid</th>\n",
       "      <th>routine timestamp</th>\n",
       "      <th>routine score</th>\n",
       "      <th>name</th>\n",
       "      <th>day difference</th>\n",
       "      <th>recent reinspection?</th>\n",
       "      <th>score buckets</th>\n",
       "    </tr>\n",
       "  </thead>\n",
       "  <tbody>\n",
       "    <tr>\n",
       "      <th>0</th>\n",
       "      <td>19</td>\n",
       "      <td>2017-12-11</td>\n",
       "      <td>94</td>\n",
       "      <td>Nrgize Lifestyle Cafe</td>\n",
       "      <td>-1.0</td>\n",
       "      <td>False</td>\n",
       "      <td>90 - 94</td>\n",
       "    </tr>\n",
       "    <tr>\n",
       "      <th>1</th>\n",
       "      <td>19</td>\n",
       "      <td>2018-06-07</td>\n",
       "      <td>96</td>\n",
       "      <td>Nrgize Lifestyle Cafe</td>\n",
       "      <td>-1.0</td>\n",
       "      <td>False</td>\n",
       "      <td>95 - 100</td>\n",
       "    </tr>\n",
       "    <tr>\n",
       "      <th>2</th>\n",
       "      <td>24</td>\n",
       "      <td>2016-10-05</td>\n",
       "      <td>98</td>\n",
       "      <td>OMNI S.F. Hotel - 2nd Floor Pantry</td>\n",
       "      <td>-1.0</td>\n",
       "      <td>False</td>\n",
       "      <td>95 - 100</td>\n",
       "    </tr>\n",
       "    <tr>\n",
       "      <th>3</th>\n",
       "      <td>24</td>\n",
       "      <td>2017-11-01</td>\n",
       "      <td>98</td>\n",
       "      <td>OMNI S.F. Hotel - 2nd Floor Pantry</td>\n",
       "      <td>-1.0</td>\n",
       "      <td>False</td>\n",
       "      <td>95 - 100</td>\n",
       "    </tr>\n",
       "    <tr>\n",
       "      <th>4</th>\n",
       "      <td>24</td>\n",
       "      <td>2019-05-01</td>\n",
       "      <td>98</td>\n",
       "      <td>OMNI S.F. Hotel - 2nd Floor Pantry</td>\n",
       "      <td>15.0</td>\n",
       "      <td>True</td>\n",
       "      <td>95 - 100</td>\n",
       "    </tr>\n",
       "    <tr>\n",
       "      <th>...</th>\n",
       "      <td>...</td>\n",
       "      <td>...</td>\n",
       "      <td>...</td>\n",
       "      <td>...</td>\n",
       "      <td>...</td>\n",
       "      <td>...</td>\n",
       "      <td>...</td>\n",
       "    </tr>\n",
       "    <tr>\n",
       "      <th>14072</th>\n",
       "      <td>101853</td>\n",
       "      <td>2019-09-18</td>\n",
       "      <td>100</td>\n",
       "      <td>INDIAN MARKET AND LIQUOR</td>\n",
       "      <td>-1.0</td>\n",
       "      <td>False</td>\n",
       "      <td>95 - 100</td>\n",
       "    </tr>\n",
       "    <tr>\n",
       "      <th>14073</th>\n",
       "      <td>102067</td>\n",
       "      <td>2019-09-11</td>\n",
       "      <td>100</td>\n",
       "      <td>Humphry Slocombe Ice Cream</td>\n",
       "      <td>-1.0</td>\n",
       "      <td>False</td>\n",
       "      <td>95 - 100</td>\n",
       "    </tr>\n",
       "    <tr>\n",
       "      <th>14074</th>\n",
       "      <td>102257</td>\n",
       "      <td>2019-09-25</td>\n",
       "      <td>94</td>\n",
       "      <td>THE SLICE</td>\n",
       "      <td>7.0</td>\n",
       "      <td>True</td>\n",
       "      <td>90 - 94</td>\n",
       "    </tr>\n",
       "    <tr>\n",
       "      <th>14075</th>\n",
       "      <td>102336</td>\n",
       "      <td>2019-09-19</td>\n",
       "      <td>82</td>\n",
       "      <td>RED HILL STATION</td>\n",
       "      <td>1.0</td>\n",
       "      <td>True</td>\n",
       "      <td>80 - 74</td>\n",
       "    </tr>\n",
       "    <tr>\n",
       "      <th>14076</th>\n",
       "      <td>102398</td>\n",
       "      <td>2019-08-13</td>\n",
       "      <td>90</td>\n",
       "      <td>BEIT RIMA</td>\n",
       "      <td>8.0</td>\n",
       "      <td>True</td>\n",
       "      <td>90 - 94</td>\n",
       "    </tr>\n",
       "  </tbody>\n",
       "</table>\n",
       "<p>13840 rows × 7 columns</p>\n",
       "</div>"
      ],
      "text/plain": [
       "          bid routine timestamp  routine score  \\\n",
       "0          19        2017-12-11             94   \n",
       "1          19        2018-06-07             96   \n",
       "2          24        2016-10-05             98   \n",
       "3          24        2017-11-01             98   \n",
       "4          24        2019-05-01             98   \n",
       "...       ...               ...            ...   \n",
       "14072  101853        2019-09-18            100   \n",
       "14073  102067        2019-09-11            100   \n",
       "14074  102257        2019-09-25             94   \n",
       "14075  102336        2019-09-19             82   \n",
       "14076  102398        2019-08-13             90   \n",
       "\n",
       "                                     name  day difference  \\\n",
       "0                   Nrgize Lifestyle Cafe            -1.0   \n",
       "1                   Nrgize Lifestyle Cafe            -1.0   \n",
       "2      OMNI S.F. Hotel - 2nd Floor Pantry            -1.0   \n",
       "3      OMNI S.F. Hotel - 2nd Floor Pantry            -1.0   \n",
       "4      OMNI S.F. Hotel - 2nd Floor Pantry            15.0   \n",
       "...                                   ...             ...   \n",
       "14072            INDIAN MARKET AND LIQUOR            -1.0   \n",
       "14073          Humphry Slocombe Ice Cream            -1.0   \n",
       "14074                           THE SLICE             7.0   \n",
       "14075                    RED HILL STATION             1.0   \n",
       "14076                           BEIT RIMA             8.0   \n",
       "\n",
       "       recent reinspection? score buckets  \n",
       "0                     False       90 - 94  \n",
       "1                     False      95 - 100  \n",
       "2                     False      95 - 100  \n",
       "3                     False      95 - 100  \n",
       "4                      True      95 - 100  \n",
       "...                     ...           ...  \n",
       "14072                 False      95 - 100  \n",
       "14073                 False      95 - 100  \n",
       "14074                  True       90 - 94  \n",
       "14075                  True       80 - 74  \n",
       "14076                  True       90 - 94  \n",
       "\n",
       "[13840 rows x 7 columns]"
      ]
     },
     "execution_count": 294,
     "metadata": {},
     "output_type": "execute_result"
    }
   ],
   "source": [
    "bucket_counts = reinspections['score buckets'].value_counts()\n",
    "filtered_bucket_counts= bucket_counts[bucket_counts > 125].index\n",
    "reinspections_filtered = reinspections[reinspections['score buckets'].isin(filtered_bucket_counts)]\n",
    "reinspections_filtered"
   ]
  },
  {
   "cell_type": "code",
   "execution_count": 295,
   "metadata": {
    "deletable": false,
    "editable": false
   },
   "outputs": [
    {
     "data": {
      "text/html": [
       "<p><strong><pre style='display: inline;'>q4c</pre></strong> passed! 🌈</p>"
      ],
      "text/plain": [
       "q4c results: All test cases passed!"
      ]
     },
     "execution_count": 295,
     "metadata": {},
     "output_type": "execute_result"
    }
   ],
   "source": [
    "grader.check(\"q4c\")"
   ]
  },
  {
   "cell_type": "code",
   "execution_count": 296,
   "metadata": {
    "scrolled": true
   },
   "outputs": [
    {
     "data": {
      "text/plain": [
       "day difference\n",
       "-1.0      10632\n",
       " 7.0        529\n",
       " 8.0        260\n",
       " 1.0        148\n",
       " 9.0        135\n",
       "          ...  \n",
       " 299.0        1\n",
       " 332.0        1\n",
       " 155.0        1\n",
       " 297.0        1\n",
       " 350.0        1\n",
       "Name: count, Length: 301, dtype: int64"
      ]
     },
     "execution_count": 296,
     "metadata": {},
     "output_type": "execute_result"
    }
   ],
   "source": [
    "reinspections_filtered['day difference'].value_counts()"
   ]
  },
  {
   "cell_type": "code",
   "execution_count": 297,
   "metadata": {},
   "outputs": [
    {
     "data": {
      "text/plain": [
       "recent reinspection?\n",
       "False    11251\n",
       "True      2589\n",
       "Name: count, dtype: int64"
      ]
     },
     "execution_count": 297,
     "metadata": {},
     "output_type": "execute_result"
    }
   ],
   "source": [
    "reinspections_filtered['recent reinspection?'].value_counts()"
   ]
  },
  {
   "cell_type": "markdown",
   "metadata": {
    "deletable": false,
    "editable": false
   },
   "source": [
    "<br/>\n",
    "\n",
    "--- \n",
    "## 🚀 Question 4d\n",
    "\n",
    "To conclude our analysis, use `resinpsections_filtered` to generate a `DataFrame` with the **proportion** of initial inspections within each bucket that were reinspected within 62 days, along with the total **count** of initial inspections included in each bucket. Sort this `DataFrame` by ascending counts. Assign this new `DataFrame` to `reinspection_proportions`.\n",
    "\n",
    "`reinspection_proportions` should look like the `DataFrame` below.\n",
    "\n",
    "<table border=\"1\" class=\"dataframe\" >  <thead>    \n",
    "    <tr style=\"text-align: right;\">      <th></th>      <th>recent reinspection?</th>   <th></th> </tr>    \n",
    "    <tr style=\"text-align: right;\">      <th></th>      <th>proportion</th>      <th>count</th>    </tr>    \n",
    "    <tr style=\"text-align: right;\">      <th>score buckets</th>      <th></th>      <th></th>     </tr>  </thead>  <tbody>    \n",
    "    <tr  align=\"right\">      <th>70 - 74</th>      <td>0.407821</td>      <td>358</td>    </tr>    \n",
    "    <tr  align=\"right\">      <th>...</th>      <td>...</td>      <td>...</td>    </tr>    \n",
    "    </tbody></table>"
   ]
  },
  {
   "cell_type": "markdown",
   "metadata": {},
   "source": [
    "total_count= reinspections_filtered.groupby('score buckets').size() \n",
    "inspected_count=reinspections_filtered[(reinspections_filtered['day difference'] <= 62) & (reinspections_filtered['day difference']!= -1.0)].groupby('score buckets').size()\n",
    "inspected_count/total_count\n"
   ]
  },
  {
   "cell_type": "markdown",
   "metadata": {
    "scrolled": true
   },
   "source": [
    "print(total_count)"
   ]
  },
  {
   "cell_type": "code",
   "execution_count": 303,
   "metadata": {},
   "outputs": [
    {
     "data": {
      "text/html": [
       "<div>\n",
       "<style scoped>\n",
       "    .dataframe tbody tr th:only-of-type {\n",
       "        vertical-align: middle;\n",
       "    }\n",
       "\n",
       "    .dataframe tbody tr th {\n",
       "        vertical-align: top;\n",
       "    }\n",
       "\n",
       "    .dataframe thead tr th {\n",
       "        text-align: left;\n",
       "    }\n",
       "\n",
       "    .dataframe thead tr:last-of-type th {\n",
       "        text-align: right;\n",
       "    }\n",
       "</style>\n",
       "<table border=\"1\" class=\"dataframe\">\n",
       "  <thead>\n",
       "    <tr>\n",
       "      <th></th>\n",
       "      <th colspan=\"2\" halign=\"left\">recent reinspection?</th>\n",
       "    </tr>\n",
       "    <tr>\n",
       "      <th></th>\n",
       "      <th>proportion</th>\n",
       "      <th>count</th>\n",
       "    </tr>\n",
       "    <tr>\n",
       "      <th>score buckets</th>\n",
       "      <th></th>\n",
       "      <th></th>\n",
       "    </tr>\n",
       "  </thead>\n",
       "  <tbody>\n",
       "    <tr>\n",
       "      <th>70 - 74</th>\n",
       "      <td>0.407821</td>\n",
       "      <td>358</td>\n",
       "    </tr>\n",
       "    <tr>\n",
       "      <th>75 - 79</th>\n",
       "      <td>0.405248</td>\n",
       "      <td>686</td>\n",
       "    </tr>\n",
       "    <tr>\n",
       "      <th>80 - 74</th>\n",
       "      <td>0.371889</td>\n",
       "      <td>1366</td>\n",
       "    </tr>\n",
       "    <tr>\n",
       "      <th>85 - 89</th>\n",
       "      <td>0.304811</td>\n",
       "      <td>2536</td>\n",
       "    </tr>\n",
       "    <tr>\n",
       "      <th>90 - 94</th>\n",
       "      <td>0.171498</td>\n",
       "      <td>4140</td>\n",
       "    </tr>\n",
       "    <tr>\n",
       "      <th>95 - 100</th>\n",
       "      <td>0.036601</td>\n",
       "      <td>4754</td>\n",
       "    </tr>\n",
       "  </tbody>\n",
       "</table>\n",
       "</div>"
      ],
      "text/plain": [
       "              recent reinspection?      \n",
       "                        proportion count\n",
       "score buckets                           \n",
       "70 - 74                   0.407821   358\n",
       "75 - 79                   0.405248   686\n",
       "80 - 74                   0.371889  1366\n",
       "85 - 89                   0.304811  2536\n",
       "90 - 94                   0.171498  4140\n",
       "95 - 100                  0.036601  4754"
      ]
     },
     "execution_count": 303,
     "metadata": {},
     "output_type": "execute_result"
    }
   ],
   "source": [
    "reinspection_proportions= reinspections_filtered.groupby('score buckets').agg({'recent reinspection?': ['mean', 'count']}).rename(columns= {'mean': 'proportion'})\n",
    "reinspection_proportions"
   ]
  },
  {
   "cell_type": "code",
   "execution_count": 304,
   "metadata": {
    "deletable": false,
    "editable": false
   },
   "outputs": [
    {
     "data": {
      "text/html": [
       "<p><strong><pre style='display: inline;'>q4d</pre></strong> passed! 💯</p>"
      ],
      "text/plain": [
       "q4d results: All test cases passed!"
      ]
     },
     "execution_count": 304,
     "metadata": {},
     "output_type": "execute_result"
    }
   ],
   "source": [
    "grader.check(\"q4d\")"
   ]
  },
  {
   "cell_type": "markdown",
   "metadata": {
    "deletable": false,
    "editable": false
   },
   "source": [
    "<!-- BEGIN QUESTION -->\n",
    "\n",
    "<br/>\n",
    "\n",
    "--- \n",
    "## 🚀 Question 4e\n",
    "\n",
    "Do you notice any trends? Are your results consistent with your prior knowledge about restaurants that receive high or low health inspection scores? Answer in the cell below.\n",
    "\n",
    "**This question is graded on effort, there is no one \"correct\" answer.**"
   ]
  },
  {
   "attachments": {},
   "cell_type": "markdown",
   "metadata": {},
   "source": [
    "I noticed that restaurants with higher score buckets have recieved higher counts of inspections, but significantly lower proportionsof reinsas compared to lower scored restaurants. I thought lower scored restaurants would recieve more inspections.nHowever it does make sense that higher scored restaurants had a smaller proportion of reinspections as they would not be inspected again more frequently."
   ]
  },
  {
   "cell_type": "markdown",
   "metadata": {
    "deletable": false,
    "editable": false
   },
   "source": [
    "<!-- END QUESTION -->\n",
    "\n",
    "## Summary of Inspections Data\n",
    "\n",
    "We have done a lot in this homework! \n",
    " \n",
    "- Broke down the inspection scores in detail using `groupby` and `pivot_table`.\n",
    "- Joined the business and inspection data and identified restaurants with the worst ratings.\n",
    "- Took a deep dive into understanding any trends between an inspection score and reinspection frequency.\n",
    "\n",
    "Over the course of this 2-part homework, we hope you have become more familiar with `pandas` - in terms of identifying when to use particular functions, how they work, when they can support EDA - as well as with EDA and Data Cleaning, as part of the broader Data Science Lifecycle. These tools will serve you well as a data scientist!"
   ]
  },
  {
   "cell_type": "markdown",
   "metadata": {},
   "source": [
    "<hr style=\"border: 5px solid #003262;\" />\n",
    "<hr style=\"border: 1px solid #fdb515;\" />"
   ]
  },
  {
   "cell_type": "markdown",
   "metadata": {},
   "source": [
    "## Congratulations! You have finished Homework 2B! ##"
   ]
  },
  {
   "cell_type": "markdown",
   "metadata": {},
   "source": [
    "Coco and Oreo say hi :)\n",
    "\n",
    "<img src = \"pics/IMG_2887.jpg\" width = \"400\" class=\"center\">"
   ]
  },
  {
   "cell_type": "markdown",
   "metadata": {},
   "source": [
    "### Course Content Feedback\n",
    "\n",
    "If you have any feedback about this assignment or about any of our other weekly, weekly assignments, lectures, or discussions, please fill out the [Course Content Feedback Form](https://forms.gle/Yc3kdzNLPsVKNz2g6). Your input is valuable in helping us improve the quality and relevance of our content to better meet your needs and expectations!"
   ]
  },
  {
   "cell_type": "markdown",
   "metadata": {},
   "source": [
    "### Submission Instructions\n",
    "\n",
    "Below, you will see a cell. Running this cell will automatically generate a zip file with your autograded answers. Once you submit this file to the HW 2B Coding assignment on Gradescope, Gradescope will automatically submit a PDF file with your written answers to the HW 2B Written assignment. If you run into any issues when running this cell, feel free to check this [section](https://ds100.org/debugging-guide/autograder_gradescope/autograder_gradescope.html#why-does-grader.exportrun_teststrue-fail-if-all-previous-tests-passed) in the Data 100 Debugging Guide.\n",
    "\n",
    "**Important**: Please check that your written responses were generated and submitted correctly to the HW 2B Written Assignment.\n",
    "\n",
    "**You are responsible for ensuring your submission follows our requirements and that the PDF for HW 2B written answers was generated/submitted correctly. We will not be granting regrade requests nor extensions to submissions that don't follow instructions.** If you encounter any difficulties with submission, please don't hesitate to reach out to staff prior to the deadline. "
   ]
  },
  {
   "cell_type": "markdown",
   "metadata": {
    "deletable": false,
    "editable": false
   },
   "source": [
    "## Submission\n",
    "\n",
    "Make sure you have run all cells in your notebook in order before running the cell below, so that all images/graphs appear in the output. The cell below will generate a zip file for you to submit. **Please save before exporting!**"
   ]
  },
  {
   "cell_type": "code",
   "execution_count": null,
   "metadata": {
    "deletable": false,
    "editable": false
   },
   "outputs": [],
   "source": [
    "# Save your notebook first, then run this cell to export your submission.\n",
    "grader.export(run_tests=True)"
   ]
  },
  {
   "cell_type": "markdown",
   "metadata": {},
   "source": [
    " "
   ]
  }
 ],
 "metadata": {
  "celltoolbar": "Create Assignment",
  "kernelspec": {
   "display_name": "Python 3 (ipykernel)",
   "language": "python",
   "name": "python3"
  },
  "language_info": {
   "codemirror_mode": {
    "name": "ipython",
    "version": 3
   },
   "file_extension": ".py",
   "mimetype": "text/x-python",
   "name": "python",
   "nbconvert_exporter": "python",
   "pygments_lexer": "ipython3",
   "version": "3.11.11"
  },
  "otter": {
   "OK_FORMAT": true,
   "require_no_pdf_confirmation": true,
   "tests": {
    "q1a": {
     "name": "q1a",
     "points": 2,
     "suites": [
      {
       "cases": [
        {
         "code": ">>> bool(len(ins_score_by_type.columns) == 1)\nTrue",
         "hidden": false,
         "locked": false
        },
        {
         "code": ">>> bool(ins_score_by_type.columns[0] == 'max_score')\nTrue",
         "hidden": false,
         "locked": false
        },
        {
         "code": ">>> bool(set(ins_score_by_type.index) == set(ins['type'].unique()))\nTrue",
         "hidden": false,
         "locked": false
        }
       ],
       "scored": true,
       "setup": "",
       "teardown": "",
       "type": "doctest"
      }
     ]
    },
    "q1b": {
     "name": "q1b",
     "points": 3,
     "suites": [
      {
       "cases": [
        {
         "code": ">>> bool(('New Ownership - Followup', 'Yes') in ins_missing_score_group.index)\nTrue",
         "hidden": false,
         "locked": false
        },
        {
         "code": ">>> bool(ins_missing_score_group.columns[0] == 'Count')\nTrue",
         "hidden": false,
         "locked": false
        },
        {
         "code": ">>> bool(len(ins_missing_score_group) == 16)\nTrue",
         "hidden": false,
         "locked": false
        }
       ],
       "scored": true,
       "setup": "",
       "teardown": "",
       "type": "doctest"
      }
     ]
    },
    "q1c": {
     "name": "q1c",
     "points": 3,
     "suites": [
      {
       "cases": [
        {
         "code": ">>> bool(type(ins_missing_score_pivot) == pd.DataFrame)\nTrue",
         "hidden": false,
         "locked": false
        }
       ],
       "scored": true,
       "setup": "",
       "teardown": "",
       "type": "doctest"
      }
     ]
    },
    "q2a": {
     "name": "q2a",
     "points": 2,
     "suites": [
      {
       "cases": [
        {
         "code": ">>> 'name' in ins_named and 'address' in ins_named\nTrue",
         "hidden": false,
         "locked": false
        },
        {
         "code": ">>> ins_named[ins_named['Missing Score'] == True].shape[0] == 0\nTrue",
         "hidden": false,
         "locked": false
        },
        {
         "code": ">>> ins_named.shape == (14031, 9)\nTrue",
         "hidden": false,
         "locked": false
        },
        {
         "code": ">>> ins_named.reset_index()['date'].equals(ins[ins['score'] > 0].reset_index()['date'])\nTrue",
         "hidden": false,
         "locked": false
        }
       ],
       "scored": true,
       "setup": "",
       "teardown": "",
       "type": "doctest"
      }
     ]
    },
    "q2b": {
     "name": "q2b",
     "points": 3,
     "suites": [
      {
       "cases": [
        {
         "code": ">>> assert twenty_lowest_scoring.shape == (20, 2)\n>>> assert len(twenty_lowest_scoring.index.names) == 1\n",
         "hidden": false,
         "locked": false
        },
        {
         "code": ">>> twenty_lowest_scoring.iloc[0][0] == 'Lollipot'\nTrue",
         "hidden": false,
         "locked": false
        }
       ],
       "scored": true,
       "setup": "",
       "teardown": "",
       "type": "doctest"
      }
     ]
    },
    "q2c": {
     "name": "q2c",
     "points": 3,
     "suites": [
      {
       "cases": [
        {
         "code": ">>> assert worst_3_inspection_restaurants.shape == (15, 2)\n>>> assert len(worst_3_inspection_restaurants.index.names) == 1\n",
         "hidden": false,
         "locked": false
        },
        {
         "code": ">>> bool(worst_3_inspection_restaurants.iloc[0][0] == 'Chaat Corner')\nTrue",
         "hidden": false,
         "locked": false
        }
       ],
       "scored": true,
       "setup": "",
       "teardown": "",
       "type": "doctest"
      }
     ]
    },
    "q4a": {
     "name": "q4a",
     "points": 2,
     "suites": [
      {
       "cases": [
        {
         "code": ">>> assert reinspections.shape == (14077, 6)\n>>> assert (reinspections.columns == ['bid', 'routine timestamp', 'routine score', 'name', 'day difference', 'recent reinspection?']).all()\n",
         "hidden": false,
         "locked": false
        }
       ],
       "scored": true,
       "setup": "",
       "teardown": "",
       "type": "doctest"
      }
     ]
    },
    "q4b": {
     "name": "q4b",
     "points": 2,
     "suites": [
      {
       "cases": [
        {
         "code": ">>> assert reinspections.shape == (14077, 7)\n>>> assert (reinspections.columns == ['bid', 'routine timestamp', 'routine score', 'name', 'day difference', 'recent reinspection?', 'score buckets']).all()\n",
         "hidden": false,
         "locked": false
        }
       ],
       "scored": true,
       "setup": "",
       "teardown": "",
       "type": "doctest"
      }
     ]
    },
    "q4c": {
     "name": "q4c",
     "points": 3,
     "suites": [
      {
       "cases": [
        {
         "code": ">>> assert (reinspections_filtered.columns == ['bid', 'routine timestamp', 'routine score', 'name', 'day difference', 'recent reinspection?', 'score buckets']).all()\n",
         "hidden": false,
         "locked": false
        }
       ],
       "scored": true,
       "setup": "",
       "teardown": "",
       "type": "doctest"
      }
     ]
    },
    "q4d": {
     "name": "q4d",
     "points": 3,
     "suites": [
      {
       "cases": [
        {
         "code": ">>> assert reinspection_proportions.shape == (6, 2)\n>>> assert reinspection_proportions.columns[0] == ('recent reinspection?', 'proportion')\n>>> assert reinspection_proportions.columns[1] == ('recent reinspection?', 'count')\n",
         "hidden": false,
         "locked": false
        }
       ],
       "scored": true,
       "setup": "",
       "teardown": "",
       "type": "doctest"
      }
     ]
    }
   }
  }
 },
 "nbformat": 4,
 "nbformat_minor": 4
}
