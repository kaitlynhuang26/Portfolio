{
 "cells": [
  {
   "cell_type": "code",
   "execution_count": 34,
   "id": "4d5054a2",
   "metadata": {
    "deletable": false,
    "editable": false
   },
   "outputs": [],
   "source": [
    "# Initialize Otter\n",
    "import otter\n",
    "grader = otter.Notebook(\"lab07.ipynb\")"
   ]
  },
  {
   "cell_type": "code",
   "execution_count": 35,
   "id": "6ed2f48a",
   "metadata": {
    "tags": []
   },
   "outputs": [],
   "source": [
    "import pandas as pd\n",
    "import numpy as np\n",
    "import statsmodels.api as sm\n",
    "import matplotlib.pyplot as plt\n",
    "import seaborn as sns\n",
    "%matplotlib inline"
   ]
  },
  {
   "cell_type": "markdown",
   "id": "70ee2892",
   "metadata": {},
   "source": [
    "# Lab 7: The Impact of Minimum Wage on Employment\n",
    "\n",
    "## Overview\n",
    "\n",
    "We are going to replicate a study conducted by **[Card and Krueger in 1994](https://davidcard.berkeley.edu/papers/njmin-aer.pdf)** that investigates the relationship between a rise in the minimum wage and employment.\n",
    "\n",
    "## Background\n",
    "\n",
    "[Economic theories](https://www.frbsf.org/research-and-insights/publications/economic-letter/2015/12/effects-of-minimum-wage-on-employment/) have long suggested that increases in the minimum wage lead to a reduction in employment for at least two reasons:\n",
    "\n",
    "1. **Businesses are less likely to hire** and will rather invest in other resources that are now cheaper because of the wage increase.\n",
    "2. **Higher salaries will induce businesses to raise their prices** to compensate for their greater costs; as prices increase, we expect fewer buyers, which will lead to lower demand and employment.\n",
    "\n",
    "These theories have found [mixed support](https://www.nber.org/papers/w12663), but the discussion is still very much open within the policy world, as states discuss the opportunity to raise their minimum wage to help local populations to face increasing living costs. Discussions are currently occurring in **[New Jersey](https://www.nytimes.com/2019/01/17/nyregion/nj-minimum-wage.html)** and **[Illinois](https://kmox.radio.com/articles/discussions-underway-raise-illinois-minimum-wage-15hour)** to raise the minimum wage to **$15/hour** ([New York](https://www.nytimes.com/2018/12/31/nyregion/15-minimum-wage-new-york.html?module=inline) has successfully passed this same raise in 2018).\n",
    "\n",
    "## The Original Study\n",
    "\n",
    "One of the first studies looking at this policy problem was **Card and Krueger’s**. They applied a difference-in-difference design to look at two groups of fast-food restaurants:\n",
    "\n",
    "- Fast-food restaurants in **New Jersey** where the minimum wage **increased** from \\\\$4.25 to $5.05 per hour (treatment group)\n",
    "- Fast-food restaurants in **Pennsylvania** where the minimum wage did not change (control group).\n",
    "\n",
    "They collected data before and after the minimum wage was approved. Data used in the study can be downloaded [here](https://github.com/DS4PS/PROG-EVAL-III/blob/master/TEXTBOOK/DATA/DID_Example.csv).\n",
    "\n",
    "## Research Question\n",
    " - Does an increase in the minimum wage affect employment rates?\n",
    "## Hypothesis\n",
    "- An increase in the minimum wage is negatively correlated with employment.\n"
   ]
  },
  {
   "cell_type": "markdown",
   "id": "3f924001",
   "metadata": {},
   "source": [
    "## Part 1: Understanding the Research "
   ]
  },
  {
   "cell_type": "markdown",
   "id": "1fc679a9",
   "metadata": {
    "deletable": false,
    "editable": false
   },
   "source": [
    "<!-- BEGIN QUESTION -->\n",
    "\n",
    "**Question 1.1:** How does using a *difference-in-differences* research design affect the *validity* and reliability of findings in studies on changes in minimum wage and their impact on employment rate?\n",
    "\n",
    "*Hint*: Think about the parallell trend assumption."
   ]
  },
  {
   "cell_type": "markdown",
   "id": "738a73e9",
   "metadata": {},
   "source": [
    "The difference-in-differences design improves validity by controlling for time invariant factors that affect both the treatment and control groups. \n",
    "\n",
    "This helps isolate the causal effect of the minimum wage increase on employment. Itts reliability depends on the parallel trends assumption, which requires both groups to have followed similar employment trends before the policy change. \n",
    "    "
   ]
  },
  {
   "cell_type": "markdown",
   "id": "708e8f54-0443-4639-bc05-a3f36a55189a",
   "metadata": {
    "deletable": false,
    "editable": false
   },
   "source": [
    "<!-- END QUESTION -->\n",
    "\n",
    "<!-- BEGIN QUESTION -->\n",
    "\n",
    "**Question 1.2:** What's the difference between the `Group` the `Treatment` columns? "
   ]
  },
  {
   "cell_type": "markdown",
   "id": "8f1251c1",
   "metadata": {},
   "source": [
    "The Treatment column gives information of Pre-treatment and post-treatment. \n",
    "The Group column gives lets us know if it is New Jersey that is the treatment group or Pennsylvania that is the control group \n"
   ]
  },
  {
   "cell_type": "markdown",
   "id": "85a0344f-aa99-4da5-a526-4278414b4a97",
   "metadata": {
    "deletable": false,
    "editable": false
   },
   "source": [
    "<!-- END QUESTION -->\n",
    "\n",
    "<hr>"
   ]
  },
  {
   "cell_type": "markdown",
   "id": "9f2bb292",
   "metadata": {},
   "source": [
    "## Part 2: Data Cleaning"
   ]
  },
  {
   "cell_type": "markdown",
   "id": "90e0fcb9",
   "metadata": {},
   "source": [
    "We now proceed with loading in the data used in the original 1994 study. It cointains the following variables:"
   ]
  },
  {
   "cell_type": "markdown",
   "id": "12b48425",
   "metadata": {},
   "source": [
    "| Variable Name | Description                                          |\n",
    "|---------------|------------------------------------------------------|\n",
    "| ID            | Unique identifier for fast food                     |\n",
    "| Treatment     | Pre-treatment (=0) and post-treatment (=1)          |\n",
    "| Group         | 1 if NJ (treatment); 0 if PA (Control)              |\n",
    "| Empl          | # of full time employees                             |\n",
    "| C.Owned       | If owned by a company (=1) or not (=0)               |\n",
    "| Hours.Opening | Number hours open per day                            |\n",
    "| Soda          | Price of medium soda, including tax                  |\n",
    "| Fries         | Price of small fries, including tax                  |\n",
    "| Chain         | 1 = BK, 2 = KFC, 3 = Roys, 4 = Wendys                |\n",
    "| SouthJ        | South New Jersey                                     |\n",
    "| CentralJ      | Central New Jersey                                   |\n",
    "| NorthJ        | North New Jersey                                     |\n",
    "| PA1           | Northeast suburbs of Philadelphia                    |\n",
    "| PA2           | Easton and other PA areas                            |\n",
    "| Shore         | New Jersey Shore                                     |\n"
   ]
  },
  {
   "cell_type": "code",
   "execution_count": 36,
   "id": "dca1529f",
   "metadata": {},
   "outputs": [
    {
     "data": {
      "text/html": [
       "<div>\n",
       "<style scoped>\n",
       "    .dataframe tbody tr th:only-of-type {\n",
       "        vertical-align: middle;\n",
       "    }\n",
       "\n",
       "    .dataframe tbody tr th {\n",
       "        vertical-align: top;\n",
       "    }\n",
       "\n",
       "    .dataframe thead th {\n",
       "        text-align: right;\n",
       "    }\n",
       "</style>\n",
       "<table border=\"1\" class=\"dataframe\">\n",
       "  <thead>\n",
       "    <tr style=\"text-align: right;\">\n",
       "      <th></th>\n",
       "      <th>ID</th>\n",
       "      <th>Chain</th>\n",
       "      <th>SouthJ</th>\n",
       "      <th>CentralJ</th>\n",
       "      <th>NorthJ</th>\n",
       "      <th>PA1</th>\n",
       "      <th>PA2</th>\n",
       "      <th>Shore</th>\n",
       "      <th>Group</th>\n",
       "      <th>Empl</th>\n",
       "      <th>C.Owned</th>\n",
       "      <th>Hours.Opening</th>\n",
       "      <th>Soda</th>\n",
       "      <th>Fries</th>\n",
       "      <th>Treatment</th>\n",
       "    </tr>\n",
       "  </thead>\n",
       "  <tbody>\n",
       "    <tr>\n",
       "      <th>0</th>\n",
       "      <td>46</td>\n",
       "      <td>1</td>\n",
       "      <td>0</td>\n",
       "      <td>0</td>\n",
       "      <td>0</td>\n",
       "      <td>1</td>\n",
       "      <td>0</td>\n",
       "      <td>0</td>\n",
       "      <td>0</td>\n",
       "      <td>30.0</td>\n",
       "      <td>0</td>\n",
       "      <td>16.5</td>\n",
       "      <td>1.03</td>\n",
       "      <td>1.03</td>\n",
       "      <td>0</td>\n",
       "    </tr>\n",
       "    <tr>\n",
       "      <th>1</th>\n",
       "      <td>49</td>\n",
       "      <td>2</td>\n",
       "      <td>0</td>\n",
       "      <td>0</td>\n",
       "      <td>0</td>\n",
       "      <td>1</td>\n",
       "      <td>0</td>\n",
       "      <td>0</td>\n",
       "      <td>0</td>\n",
       "      <td>6.5</td>\n",
       "      <td>0</td>\n",
       "      <td>13.0</td>\n",
       "      <td>1.01</td>\n",
       "      <td>0.90</td>\n",
       "      <td>0</td>\n",
       "    </tr>\n",
       "    <tr>\n",
       "      <th>2</th>\n",
       "      <td>506</td>\n",
       "      <td>2</td>\n",
       "      <td>0</td>\n",
       "      <td>0</td>\n",
       "      <td>0</td>\n",
       "      <td>1</td>\n",
       "      <td>0</td>\n",
       "      <td>0</td>\n",
       "      <td>0</td>\n",
       "      <td>3.0</td>\n",
       "      <td>1</td>\n",
       "      <td>10.0</td>\n",
       "      <td>0.95</td>\n",
       "      <td>0.74</td>\n",
       "      <td>0</td>\n",
       "    </tr>\n",
       "    <tr>\n",
       "      <th>3</th>\n",
       "      <td>56</td>\n",
       "      <td>4</td>\n",
       "      <td>0</td>\n",
       "      <td>0</td>\n",
       "      <td>0</td>\n",
       "      <td>1</td>\n",
       "      <td>0</td>\n",
       "      <td>0</td>\n",
       "      <td>0</td>\n",
       "      <td>20.0</td>\n",
       "      <td>1</td>\n",
       "      <td>12.0</td>\n",
       "      <td>0.87</td>\n",
       "      <td>0.82</td>\n",
       "      <td>0</td>\n",
       "    </tr>\n",
       "    <tr>\n",
       "      <th>4</th>\n",
       "      <td>61</td>\n",
       "      <td>4</td>\n",
       "      <td>0</td>\n",
       "      <td>0</td>\n",
       "      <td>0</td>\n",
       "      <td>1</td>\n",
       "      <td>0</td>\n",
       "      <td>0</td>\n",
       "      <td>0</td>\n",
       "      <td>6.0</td>\n",
       "      <td>1</td>\n",
       "      <td>12.0</td>\n",
       "      <td>0.87</td>\n",
       "      <td>0.77</td>\n",
       "      <td>0</td>\n",
       "    </tr>\n",
       "  </tbody>\n",
       "</table>\n",
       "</div>"
      ],
      "text/plain": [
       "    ID  Chain  SouthJ  CentralJ  NorthJ  PA1  PA2  Shore  Group  Empl  \\\n",
       "0   46      1       0         0       0    1    0      0      0  30.0   \n",
       "1   49      2       0         0       0    1    0      0      0   6.5   \n",
       "2  506      2       0         0       0    1    0      0      0   3.0   \n",
       "3   56      4       0         0       0    1    0      0      0  20.0   \n",
       "4   61      4       0         0       0    1    0      0      0   6.0   \n",
       "\n",
       "   C.Owned  Hours.Opening  Soda  Fries  Treatment  \n",
       "0        0           16.5  1.03   1.03          0  \n",
       "1        0           13.0  1.01   0.90          0  \n",
       "2        1           10.0  0.95   0.74          0  \n",
       "3        1           12.0  0.87   0.82          0  \n",
       "4        1           12.0  0.87   0.77          0  "
      ]
     },
     "execution_count": 36,
     "metadata": {},
     "output_type": "execute_result"
    }
   ],
   "source": [
    "dd_df = pd.read_csv('data/DID_Example.csv')\n",
    "dd_df.head()"
   ]
  },
  {
   "cell_type": "markdown",
   "id": "4e850af7",
   "metadata": {
    "deletable": false,
    "editable": false
   },
   "source": [
    "<!-- BEGIN QUESTION -->\n",
    "\n",
    "**Question 2.1:** What does each row in `dd_df` represent?"
   ]
  },
  {
   "cell_type": "markdown",
   "id": "7e90eea7",
   "metadata": {},
   "source": [
    "each row represents a fast food restaurantchain in NJ or PA "
   ]
  },
  {
   "cell_type": "markdown",
   "id": "73d55597",
   "metadata": {
    "deletable": false,
    "editable": false
   },
   "source": [
    "<!-- END QUESTION -->\n",
    "\n",
    "**Question 2.2:** Summarize the data above such that it shows count, mean, and other useful statistics for each column.\n",
    "\n",
    "*Hint*: use `.describe()`"
   ]
  },
  {
   "cell_type": "code",
   "execution_count": 37,
   "id": "1e07bb55",
   "metadata": {
    "tags": []
   },
   "outputs": [
    {
     "data": {
      "text/html": [
       "<div>\n",
       "<style scoped>\n",
       "    .dataframe tbody tr th:only-of-type {\n",
       "        vertical-align: middle;\n",
       "    }\n",
       "\n",
       "    .dataframe tbody tr th {\n",
       "        vertical-align: top;\n",
       "    }\n",
       "\n",
       "    .dataframe thead th {\n",
       "        text-align: right;\n",
       "    }\n",
       "</style>\n",
       "<table border=\"1\" class=\"dataframe\">\n",
       "  <thead>\n",
       "    <tr style=\"text-align: right;\">\n",
       "      <th></th>\n",
       "      <th>ID</th>\n",
       "      <th>Chain</th>\n",
       "      <th>SouthJ</th>\n",
       "      <th>CentralJ</th>\n",
       "      <th>NorthJ</th>\n",
       "      <th>PA1</th>\n",
       "      <th>PA2</th>\n",
       "      <th>Shore</th>\n",
       "      <th>Group</th>\n",
       "      <th>Empl</th>\n",
       "      <th>C.Owned</th>\n",
       "      <th>Hours.Opening</th>\n",
       "      <th>Soda</th>\n",
       "      <th>Fries</th>\n",
       "      <th>Treatment</th>\n",
       "    </tr>\n",
       "  </thead>\n",
       "  <tbody>\n",
       "    <tr>\n",
       "      <th>count</th>\n",
       "      <td>820.000000</td>\n",
       "      <td>820.000000</td>\n",
       "      <td>820.000000</td>\n",
       "      <td>820.000000</td>\n",
       "      <td>820.000000</td>\n",
       "      <td>820.000000</td>\n",
       "      <td>820.000000</td>\n",
       "      <td>820.000000</td>\n",
       "      <td>820.000000</td>\n",
       "      <td>802.000000</td>\n",
       "      <td>820.000000</td>\n",
       "      <td>820.000000</td>\n",
       "      <td>790.000000</td>\n",
       "      <td>775.000000</td>\n",
       "      <td>820.000000</td>\n",
       "    </tr>\n",
       "    <tr>\n",
       "      <th>mean</th>\n",
       "      <td>246.507317</td>\n",
       "      <td>2.117073</td>\n",
       "      <td>0.226829</td>\n",
       "      <td>0.153659</td>\n",
       "      <td>0.426829</td>\n",
       "      <td>0.087805</td>\n",
       "      <td>0.104878</td>\n",
       "      <td>0.085366</td>\n",
       "      <td>0.807317</td>\n",
       "      <td>8.238778</td>\n",
       "      <td>0.343902</td>\n",
       "      <td>12.650000</td>\n",
       "      <td>1.044911</td>\n",
       "      <td>0.931471</td>\n",
       "      <td>0.500000</td>\n",
       "    </tr>\n",
       "    <tr>\n",
       "      <th>std</th>\n",
       "      <td>148.141276</td>\n",
       "      <td>1.109819</td>\n",
       "      <td>0.419037</td>\n",
       "      <td>0.360841</td>\n",
       "      <td>0.494919</td>\n",
       "      <td>0.283184</td>\n",
       "      <td>0.306583</td>\n",
       "      <td>0.279596</td>\n",
       "      <td>0.394647</td>\n",
       "      <td>8.298807</td>\n",
       "      <td>0.475299</td>\n",
       "      <td>4.763907</td>\n",
       "      <td>0.091059</td>\n",
       "      <td>0.107942</td>\n",
       "      <td>0.500305</td>\n",
       "    </tr>\n",
       "    <tr>\n",
       "      <th>min</th>\n",
       "      <td>1.000000</td>\n",
       "      <td>1.000000</td>\n",
       "      <td>0.000000</td>\n",
       "      <td>0.000000</td>\n",
       "      <td>0.000000</td>\n",
       "      <td>0.000000</td>\n",
       "      <td>0.000000</td>\n",
       "      <td>0.000000</td>\n",
       "      <td>0.000000</td>\n",
       "      <td>0.000000</td>\n",
       "      <td>0.000000</td>\n",
       "      <td>1.000000</td>\n",
       "      <td>0.410000</td>\n",
       "      <td>0.670000</td>\n",
       "      <td>0.000000</td>\n",
       "    </tr>\n",
       "    <tr>\n",
       "      <th>25%</th>\n",
       "      <td>119.000000</td>\n",
       "      <td>1.000000</td>\n",
       "      <td>0.000000</td>\n",
       "      <td>0.000000</td>\n",
       "      <td>0.000000</td>\n",
       "      <td>0.000000</td>\n",
       "      <td>0.000000</td>\n",
       "      <td>0.000000</td>\n",
       "      <td>1.000000</td>\n",
       "      <td>2.000000</td>\n",
       "      <td>0.000000</td>\n",
       "      <td>10.000000</td>\n",
       "      <td>1.000000</td>\n",
       "      <td>0.850000</td>\n",
       "      <td>0.000000</td>\n",
       "    </tr>\n",
       "    <tr>\n",
       "      <th>50%</th>\n",
       "      <td>237.500000</td>\n",
       "      <td>2.000000</td>\n",
       "      <td>0.000000</td>\n",
       "      <td>0.000000</td>\n",
       "      <td>0.000000</td>\n",
       "      <td>0.000000</td>\n",
       "      <td>0.000000</td>\n",
       "      <td>0.000000</td>\n",
       "      <td>1.000000</td>\n",
       "      <td>6.000000</td>\n",
       "      <td>0.000000</td>\n",
       "      <td>14.000000</td>\n",
       "      <td>1.050000</td>\n",
       "      <td>0.940000</td>\n",
       "      <td>0.500000</td>\n",
       "    </tr>\n",
       "    <tr>\n",
       "      <th>75%</th>\n",
       "      <td>372.000000</td>\n",
       "      <td>3.000000</td>\n",
       "      <td>0.000000</td>\n",
       "      <td>0.000000</td>\n",
       "      <td>1.000000</td>\n",
       "      <td>0.000000</td>\n",
       "      <td>0.000000</td>\n",
       "      <td>0.000000</td>\n",
       "      <td>1.000000</td>\n",
       "      <td>12.000000</td>\n",
       "      <td>1.000000</td>\n",
       "      <td>16.000000</td>\n",
       "      <td>1.090000</td>\n",
       "      <td>1.010000</td>\n",
       "      <td>1.000000</td>\n",
       "    </tr>\n",
       "    <tr>\n",
       "      <th>max</th>\n",
       "      <td>522.000000</td>\n",
       "      <td>4.000000</td>\n",
       "      <td>1.000000</td>\n",
       "      <td>1.000000</td>\n",
       "      <td>1.000000</td>\n",
       "      <td>1.000000</td>\n",
       "      <td>1.000000</td>\n",
       "      <td>1.000000</td>\n",
       "      <td>1.000000</td>\n",
       "      <td>60.000000</td>\n",
       "      <td>1.000000</td>\n",
       "      <td>24.000000</td>\n",
       "      <td>1.490000</td>\n",
       "      <td>1.370000</td>\n",
       "      <td>1.000000</td>\n",
       "    </tr>\n",
       "  </tbody>\n",
       "</table>\n",
       "</div>"
      ],
      "text/plain": [
       "               ID       Chain      SouthJ    CentralJ      NorthJ         PA1  \\\n",
       "count  820.000000  820.000000  820.000000  820.000000  820.000000  820.000000   \n",
       "mean   246.507317    2.117073    0.226829    0.153659    0.426829    0.087805   \n",
       "std    148.141276    1.109819    0.419037    0.360841    0.494919    0.283184   \n",
       "min      1.000000    1.000000    0.000000    0.000000    0.000000    0.000000   \n",
       "25%    119.000000    1.000000    0.000000    0.000000    0.000000    0.000000   \n",
       "50%    237.500000    2.000000    0.000000    0.000000    0.000000    0.000000   \n",
       "75%    372.000000    3.000000    0.000000    0.000000    1.000000    0.000000   \n",
       "max    522.000000    4.000000    1.000000    1.000000    1.000000    1.000000   \n",
       "\n",
       "              PA2       Shore       Group        Empl     C.Owned  \\\n",
       "count  820.000000  820.000000  820.000000  802.000000  820.000000   \n",
       "mean     0.104878    0.085366    0.807317    8.238778    0.343902   \n",
       "std      0.306583    0.279596    0.394647    8.298807    0.475299   \n",
       "min      0.000000    0.000000    0.000000    0.000000    0.000000   \n",
       "25%      0.000000    0.000000    1.000000    2.000000    0.000000   \n",
       "50%      0.000000    0.000000    1.000000    6.000000    0.000000   \n",
       "75%      0.000000    0.000000    1.000000   12.000000    1.000000   \n",
       "max      1.000000    1.000000    1.000000   60.000000    1.000000   \n",
       "\n",
       "       Hours.Opening        Soda       Fries   Treatment  \n",
       "count     820.000000  790.000000  775.000000  820.000000  \n",
       "mean       12.650000    1.044911    0.931471    0.500000  \n",
       "std         4.763907    0.091059    0.107942    0.500305  \n",
       "min         1.000000    0.410000    0.670000    0.000000  \n",
       "25%        10.000000    1.000000    0.850000    0.000000  \n",
       "50%        14.000000    1.050000    0.940000    0.500000  \n",
       "75%        16.000000    1.090000    1.010000    1.000000  \n",
       "max        24.000000    1.490000    1.370000    1.000000  "
      ]
     },
     "execution_count": 37,
     "metadata": {},
     "output_type": "execute_result"
    }
   ],
   "source": [
    "dd_df_summarized = dd_df.describe()\n",
    "\n",
    "\n",
    "\n",
    "dd_df_summarized"
   ]
  },
  {
   "cell_type": "code",
   "execution_count": 38,
   "id": "c3bd5056",
   "metadata": {
    "deletable": false,
    "editable": false
   },
   "outputs": [
    {
     "data": {
      "text/html": [
       "<p><strong><pre style='display: inline;'>q2_2</pre></strong> passed! 🌟</p>"
      ],
      "text/plain": [
       "q2_2 results: All test cases passed!"
      ]
     },
     "execution_count": 38,
     "metadata": {},
     "output_type": "execute_result"
    }
   ],
   "source": [
    "grader.check(\"q2_2\")"
   ]
  },
  {
   "cell_type": "markdown",
   "id": "fa275940",
   "metadata": {
    "deletable": false,
    "editable": false
   },
   "source": [
    "**Question 2.3:** What's the average number of employees per fast-food restaurant?"
   ]
  },
  {
   "cell_type": "code",
   "execution_count": 39,
   "id": "d16fb6b5",
   "metadata": {
    "tags": []
   },
   "outputs": [
    {
     "data": {
      "text/plain": [
       "np.float64(8.238778054862843)"
      ]
     },
     "execution_count": 39,
     "metadata": {},
     "output_type": "execute_result"
    }
   ],
   "source": [
    "mean_employees = dd_df['Empl'].mean()\n",
    "\n",
    "mean_employees"
   ]
  },
  {
   "cell_type": "code",
   "execution_count": 40,
   "id": "9d31bebb",
   "metadata": {
    "deletable": false,
    "editable": false
   },
   "outputs": [
    {
     "data": {
      "text/html": [
       "<p><strong><pre style='display: inline;'>q2_3</pre></strong> passed! 🚀</p>"
      ],
      "text/plain": [
       "q2_3 results: All test cases passed!"
      ]
     },
     "execution_count": 40,
     "metadata": {},
     "output_type": "execute_result"
    }
   ],
   "source": [
    "grader.check(\"q2_3\")"
   ]
  },
  {
   "cell_type": "markdown",
   "id": "fc8ca047",
   "metadata": {
    "deletable": false,
    "editable": false
   },
   "source": [
    "**Question 2.4:** What percentage of fast-food restaurants are part of the treatment group? (e.g. 40 instead of 0.4)"
   ]
  },
  {
   "cell_type": "code",
   "execution_count": 41,
   "id": "0ad5b8c4",
   "metadata": {
    "tags": []
   },
   "outputs": [
    {
     "data": {
      "text/plain": [
       "np.float64(80.73170731707317)"
      ]
     },
     "execution_count": 41,
     "metadata": {},
     "output_type": "execute_result"
    }
   ],
   "source": [
    "per_treatment = dd_df['Group'].mean()*100\n",
    "\n",
    "per_treatment"
   ]
  },
  {
   "cell_type": "code",
   "execution_count": 42,
   "id": "09864e20",
   "metadata": {
    "deletable": false,
    "editable": false
   },
   "outputs": [
    {
     "data": {
      "text/html": [
       "<p><strong><pre style='display: inline;'>q2_4</pre></strong> passed! 🌈</p>"
      ],
      "text/plain": [
       "q2_4 results: All test cases passed!"
      ]
     },
     "execution_count": 42,
     "metadata": {},
     "output_type": "execute_result"
    }
   ],
   "source": [
    "grader.check(\"q2_4\")"
   ]
  },
  {
   "cell_type": "markdown",
   "id": "e01c6a80",
   "metadata": {
    "deletable": false,
    "editable": false
   },
   "source": [
    "**Question 2.5:** Notice that our `Chain` column is a categorical variable hidden as a numeric value! One-hot encode this column and save the your work along with the original `dd_df` in `dd_df_encoded`. After one-hot encoding `Chain`, you should *drop* the original column and *drop* `Roys` to avoid multicolinearity. This will be helpful for our analysis below.\n",
    "\n",
    "*Hint*: use `pd.get_dummies()` for one-hot encoding. "
   ]
  },
  {
   "cell_type": "code",
   "execution_count": 43,
   "id": "3efa5fab",
   "metadata": {
    "tags": []
   },
   "outputs": [
    {
     "data": {
      "text/html": [
       "<div>\n",
       "<style scoped>\n",
       "    .dataframe tbody tr th:only-of-type {\n",
       "        vertical-align: middle;\n",
       "    }\n",
       "\n",
       "    .dataframe tbody tr th {\n",
       "        vertical-align: top;\n",
       "    }\n",
       "\n",
       "    .dataframe thead th {\n",
       "        text-align: right;\n",
       "    }\n",
       "</style>\n",
       "<table border=\"1\" class=\"dataframe\">\n",
       "  <thead>\n",
       "    <tr style=\"text-align: right;\">\n",
       "      <th></th>\n",
       "      <th>ID</th>\n",
       "      <th>SouthJ</th>\n",
       "      <th>CentralJ</th>\n",
       "      <th>NorthJ</th>\n",
       "      <th>PA1</th>\n",
       "      <th>PA2</th>\n",
       "      <th>Shore</th>\n",
       "      <th>Group</th>\n",
       "      <th>Empl</th>\n",
       "      <th>C.Owned</th>\n",
       "      <th>Hours.Opening</th>\n",
       "      <th>Soda</th>\n",
       "      <th>Fries</th>\n",
       "      <th>Treatment</th>\n",
       "      <th>BK</th>\n",
       "      <th>KFC</th>\n",
       "      <th>Wendys</th>\n",
       "    </tr>\n",
       "  </thead>\n",
       "  <tbody>\n",
       "    <tr>\n",
       "      <th>0</th>\n",
       "      <td>46</td>\n",
       "      <td>0</td>\n",
       "      <td>0</td>\n",
       "      <td>0</td>\n",
       "      <td>1</td>\n",
       "      <td>0</td>\n",
       "      <td>0</td>\n",
       "      <td>0</td>\n",
       "      <td>30.0</td>\n",
       "      <td>0</td>\n",
       "      <td>16.5</td>\n",
       "      <td>1.03</td>\n",
       "      <td>1.03</td>\n",
       "      <td>0</td>\n",
       "      <td>1</td>\n",
       "      <td>0</td>\n",
       "      <td>0</td>\n",
       "    </tr>\n",
       "    <tr>\n",
       "      <th>1</th>\n",
       "      <td>49</td>\n",
       "      <td>0</td>\n",
       "      <td>0</td>\n",
       "      <td>0</td>\n",
       "      <td>1</td>\n",
       "      <td>0</td>\n",
       "      <td>0</td>\n",
       "      <td>0</td>\n",
       "      <td>6.5</td>\n",
       "      <td>0</td>\n",
       "      <td>13.0</td>\n",
       "      <td>1.01</td>\n",
       "      <td>0.90</td>\n",
       "      <td>0</td>\n",
       "      <td>0</td>\n",
       "      <td>1</td>\n",
       "      <td>0</td>\n",
       "    </tr>\n",
       "    <tr>\n",
       "      <th>2</th>\n",
       "      <td>506</td>\n",
       "      <td>0</td>\n",
       "      <td>0</td>\n",
       "      <td>0</td>\n",
       "      <td>1</td>\n",
       "      <td>0</td>\n",
       "      <td>0</td>\n",
       "      <td>0</td>\n",
       "      <td>3.0</td>\n",
       "      <td>1</td>\n",
       "      <td>10.0</td>\n",
       "      <td>0.95</td>\n",
       "      <td>0.74</td>\n",
       "      <td>0</td>\n",
       "      <td>0</td>\n",
       "      <td>1</td>\n",
       "      <td>0</td>\n",
       "    </tr>\n",
       "    <tr>\n",
       "      <th>3</th>\n",
       "      <td>56</td>\n",
       "      <td>0</td>\n",
       "      <td>0</td>\n",
       "      <td>0</td>\n",
       "      <td>1</td>\n",
       "      <td>0</td>\n",
       "      <td>0</td>\n",
       "      <td>0</td>\n",
       "      <td>20.0</td>\n",
       "      <td>1</td>\n",
       "      <td>12.0</td>\n",
       "      <td>0.87</td>\n",
       "      <td>0.82</td>\n",
       "      <td>0</td>\n",
       "      <td>0</td>\n",
       "      <td>0</td>\n",
       "      <td>1</td>\n",
       "    </tr>\n",
       "    <tr>\n",
       "      <th>4</th>\n",
       "      <td>61</td>\n",
       "      <td>0</td>\n",
       "      <td>0</td>\n",
       "      <td>0</td>\n",
       "      <td>1</td>\n",
       "      <td>0</td>\n",
       "      <td>0</td>\n",
       "      <td>0</td>\n",
       "      <td>6.0</td>\n",
       "      <td>1</td>\n",
       "      <td>12.0</td>\n",
       "      <td>0.87</td>\n",
       "      <td>0.77</td>\n",
       "      <td>0</td>\n",
       "      <td>0</td>\n",
       "      <td>0</td>\n",
       "      <td>1</td>\n",
       "    </tr>\n",
       "    <tr>\n",
       "      <th>...</th>\n",
       "      <td>...</td>\n",
       "      <td>...</td>\n",
       "      <td>...</td>\n",
       "      <td>...</td>\n",
       "      <td>...</td>\n",
       "      <td>...</td>\n",
       "      <td>...</td>\n",
       "      <td>...</td>\n",
       "      <td>...</td>\n",
       "      <td>...</td>\n",
       "      <td>...</td>\n",
       "      <td>...</td>\n",
       "      <td>...</td>\n",
       "      <td>...</td>\n",
       "      <td>...</td>\n",
       "      <td>...</td>\n",
       "      <td>...</td>\n",
       "    </tr>\n",
       "    <tr>\n",
       "      <th>815</th>\n",
       "      <td>423</td>\n",
       "      <td>0</td>\n",
       "      <td>0</td>\n",
       "      <td>1</td>\n",
       "      <td>0</td>\n",
       "      <td>0</td>\n",
       "      <td>0</td>\n",
       "      <td>1</td>\n",
       "      <td>19.0</td>\n",
       "      <td>1</td>\n",
       "      <td>4.0</td>\n",
       "      <td>1.05</td>\n",
       "      <td>0.84</td>\n",
       "      <td>1</td>\n",
       "      <td>0</td>\n",
       "      <td>1</td>\n",
       "      <td>0</td>\n",
       "    </tr>\n",
       "    <tr>\n",
       "      <th>816</th>\n",
       "      <td>424</td>\n",
       "      <td>0</td>\n",
       "      <td>0</td>\n",
       "      <td>1</td>\n",
       "      <td>0</td>\n",
       "      <td>0</td>\n",
       "      <td>0</td>\n",
       "      <td>1</td>\n",
       "      <td>12.0</td>\n",
       "      <td>1</td>\n",
       "      <td>10.0</td>\n",
       "      <td>1.05</td>\n",
       "      <td>0.94</td>\n",
       "      <td>1</td>\n",
       "      <td>0</td>\n",
       "      <td>1</td>\n",
       "      <td>0</td>\n",
       "    </tr>\n",
       "    <tr>\n",
       "      <th>817</th>\n",
       "      <td>426</td>\n",
       "      <td>0</td>\n",
       "      <td>0</td>\n",
       "      <td>1</td>\n",
       "      <td>0</td>\n",
       "      <td>0</td>\n",
       "      <td>0</td>\n",
       "      <td>1</td>\n",
       "      <td>5.0</td>\n",
       "      <td>1</td>\n",
       "      <td>19.0</td>\n",
       "      <td>1.11</td>\n",
       "      <td>1.05</td>\n",
       "      <td>1</td>\n",
       "      <td>0</td>\n",
       "      <td>0</td>\n",
       "      <td>0</td>\n",
       "    </tr>\n",
       "    <tr>\n",
       "      <th>818</th>\n",
       "      <td>427</td>\n",
       "      <td>0</td>\n",
       "      <td>0</td>\n",
       "      <td>1</td>\n",
       "      <td>0</td>\n",
       "      <td>0</td>\n",
       "      <td>0</td>\n",
       "      <td>1</td>\n",
       "      <td>0.0</td>\n",
       "      <td>0</td>\n",
       "      <td>7.0</td>\n",
       "      <td>1.11</td>\n",
       "      <td>1.09</td>\n",
       "      <td>1</td>\n",
       "      <td>0</td>\n",
       "      <td>0</td>\n",
       "      <td>1</td>\n",
       "    </tr>\n",
       "    <tr>\n",
       "      <th>819</th>\n",
       "      <td>428</td>\n",
       "      <td>0</td>\n",
       "      <td>0</td>\n",
       "      <td>1</td>\n",
       "      <td>0</td>\n",
       "      <td>0</td>\n",
       "      <td>0</td>\n",
       "      <td>1</td>\n",
       "      <td>10.0</td>\n",
       "      <td>0</td>\n",
       "      <td>7.0</td>\n",
       "      <td>1.05</td>\n",
       "      <td>0.89</td>\n",
       "      <td>1</td>\n",
       "      <td>0</td>\n",
       "      <td>0</td>\n",
       "      <td>1</td>\n",
       "    </tr>\n",
       "  </tbody>\n",
       "</table>\n",
       "<p>820 rows × 17 columns</p>\n",
       "</div>"
      ],
      "text/plain": [
       "      ID  SouthJ  CentralJ  NorthJ  PA1  PA2  Shore  Group  Empl  C.Owned  \\\n",
       "0     46       0         0       0    1    0      0      0  30.0        0   \n",
       "1     49       0         0       0    1    0      0      0   6.5        0   \n",
       "2    506       0         0       0    1    0      0      0   3.0        1   \n",
       "3     56       0         0       0    1    0      0      0  20.0        1   \n",
       "4     61       0         0       0    1    0      0      0   6.0        1   \n",
       "..   ...     ...       ...     ...  ...  ...    ...    ...   ...      ...   \n",
       "815  423       0         0       1    0    0      0      1  19.0        1   \n",
       "816  424       0         0       1    0    0      0      1  12.0        1   \n",
       "817  426       0         0       1    0    0      0      1   5.0        1   \n",
       "818  427       0         0       1    0    0      0      1   0.0        0   \n",
       "819  428       0         0       1    0    0      0      1  10.0        0   \n",
       "\n",
       "     Hours.Opening  Soda  Fries  Treatment  BK  KFC  Wendys  \n",
       "0             16.5  1.03   1.03          0   1    0       0  \n",
       "1             13.0  1.01   0.90          0   0    1       0  \n",
       "2             10.0  0.95   0.74          0   0    1       0  \n",
       "3             12.0  0.87   0.82          0   0    0       1  \n",
       "4             12.0  0.87   0.77          0   0    0       1  \n",
       "..             ...   ...    ...        ...  ..  ...     ...  \n",
       "815            4.0  1.05   0.84          1   0    1       0  \n",
       "816           10.0  1.05   0.94          1   0    1       0  \n",
       "817           19.0  1.11   1.05          1   0    0       0  \n",
       "818            7.0  1.11   1.09          1   0    0       1  \n",
       "819            7.0  1.05   0.89          1   0    0       1  \n",
       "\n",
       "[820 rows x 17 columns]"
      ]
     },
     "execution_count": 43,
     "metadata": {},
     "output_type": "execute_result"
    }
   ],
   "source": [
    "chain_dummies = pd.get_dummies(dd_df['Chain'].replace({1:'BK',2:'KFC', 3:'Roys', 4:'Wendys'}),  dtype= int)\n",
    "\n",
    "dd_df_encoded = pd.concat([dd_df, chain_dummies], axis=1) \n",
    "dd_df_encoded.drop(columns=['Chain', 'Roys'], inplace=True)\n",
    "\n",
    "dd_df_encoded"
   ]
  },
  {
   "cell_type": "code",
   "execution_count": 44,
   "id": "255b3de6",
   "metadata": {
    "deletable": false,
    "editable": false
   },
   "outputs": [
    {
     "data": {
      "text/html": [
       "<p><strong><pre style='display: inline;'>q2_5</pre></strong> passed! 💯</p>"
      ],
      "text/plain": [
       "q2_5 results: All test cases passed!"
      ]
     },
     "execution_count": 44,
     "metadata": {},
     "output_type": "execute_result"
    }
   ],
   "source": [
    "grader.check(\"q2_5\")"
   ]
  },
  {
   "cell_type": "markdown",
   "id": "e399e79b-8155-42a6-953f-80a7cca454d0",
   "metadata": {},
   "source": [
    "<hr>"
   ]
  },
  {
   "cell_type": "markdown",
   "id": "1649987e",
   "metadata": {},
   "source": [
    "## Part 3: Analysis: Estimating the Difference-in-Differences Model\n",
    "\n",
    "We now estimate the Difference-in-Differences model based on the model below. Along with the **Group** and **Treatment** variables, we also include a set of control variables to account for differences across restaurants. \n",
    "\n",
    "Here we consider the variables:  \n",
    "- **opening hours**—suggesting that fast-food restaurants open for more hours might need more employees. \n",
    "- prices of **fries and sodas**, under the assumption that more expensive fast food might have more resources to hire additional staff.\n"
   ]
  },
  {
   "cell_type": "markdown",
   "id": "a041bd7b",
   "metadata": {
    "deletable": false,
    "editable": false
   },
   "source": [
    "<!-- BEGIN QUESTION -->\n",
    "\n",
    "**Question 3.1:** Using the general diff-in-diff model below, specify the model we're about to estimate using $\\LaTeX$. Hint: Don't forget to add your controls. Feel free to copy and reformat the Latex Code below. "
   ]
  },
  {
   "cell_type": "markdown",
   "id": "7ee58892",
   "metadata": {
    "deletable": false,
    "editable": false
   },
   "source": [
    "$(1.1)$ \n",
    "\n",
    "$$Y = \\beta_0 + \\beta_1 \\cdot \\text{Treatment} + \\beta_2 \\cdot \\text{Post} + \\beta_3 \\cdot \\text{Treatment} \\times \\text{Post} + \\text{Controls} + e$$\n"
   ]
  },
  {
   "cell_type": "markdown",
   "id": "bfc3951c",
   "metadata": {},
   "source": [
    "$$ Empl = \\beta_0 + \\beta_1 \\cdot \\text{Treatment} + \\beta_2 \\cdot \\text{Post} + \\beta_3 \\cdot \\text{Treatment} \\times \\text{Post} +\\beta_4 \\cdot \\text{Hours.Opening}+ \\beta_5 \\cdot \\text{Soda}+ \\beta_5 \\cdot \\text{Fries}+ e$$\n"
   ]
  },
  {
   "cell_type": "markdown",
   "id": "bd4d8728",
   "metadata": {
    "deletable": false,
    "editable": false
   },
   "source": [
    "<!-- END QUESTION -->\n",
    "\n",
    "**Question 3.2:** Now, rename the relevant column names of the `dd_df` to fit the equation specified in (1.1). Instead of having `Group` and `Treatment`, they should be `Treatment` and `Post`, both of which take on binary values. This will simplify our coming analysis!"
   ]
  },
  {
   "cell_type": "code",
   "execution_count": 45,
   "id": "731fb7e7",
   "metadata": {
    "tags": []
   },
   "outputs": [
    {
     "data": {
      "text/html": [
       "<div>\n",
       "<style scoped>\n",
       "    .dataframe tbody tr th:only-of-type {\n",
       "        vertical-align: middle;\n",
       "    }\n",
       "\n",
       "    .dataframe tbody tr th {\n",
       "        vertical-align: top;\n",
       "    }\n",
       "\n",
       "    .dataframe thead th {\n",
       "        text-align: right;\n",
       "    }\n",
       "</style>\n",
       "<table border=\"1\" class=\"dataframe\">\n",
       "  <thead>\n",
       "    <tr style=\"text-align: right;\">\n",
       "      <th></th>\n",
       "      <th>ID</th>\n",
       "      <th>SouthJ</th>\n",
       "      <th>CentralJ</th>\n",
       "      <th>NorthJ</th>\n",
       "      <th>PA1</th>\n",
       "      <th>PA2</th>\n",
       "      <th>Shore</th>\n",
       "      <th>Treatment</th>\n",
       "      <th>Empl</th>\n",
       "      <th>C.Owned</th>\n",
       "      <th>Hours.Opening</th>\n",
       "      <th>Soda</th>\n",
       "      <th>Fries</th>\n",
       "      <th>Post</th>\n",
       "      <th>BK</th>\n",
       "      <th>KFC</th>\n",
       "      <th>Wendys</th>\n",
       "    </tr>\n",
       "  </thead>\n",
       "  <tbody>\n",
       "    <tr>\n",
       "      <th>0</th>\n",
       "      <td>46</td>\n",
       "      <td>0</td>\n",
       "      <td>0</td>\n",
       "      <td>0</td>\n",
       "      <td>1</td>\n",
       "      <td>0</td>\n",
       "      <td>0</td>\n",
       "      <td>0</td>\n",
       "      <td>30.0</td>\n",
       "      <td>0</td>\n",
       "      <td>16.5</td>\n",
       "      <td>1.03</td>\n",
       "      <td>1.03</td>\n",
       "      <td>0</td>\n",
       "      <td>1</td>\n",
       "      <td>0</td>\n",
       "      <td>0</td>\n",
       "    </tr>\n",
       "    <tr>\n",
       "      <th>1</th>\n",
       "      <td>49</td>\n",
       "      <td>0</td>\n",
       "      <td>0</td>\n",
       "      <td>0</td>\n",
       "      <td>1</td>\n",
       "      <td>0</td>\n",
       "      <td>0</td>\n",
       "      <td>0</td>\n",
       "      <td>6.5</td>\n",
       "      <td>0</td>\n",
       "      <td>13.0</td>\n",
       "      <td>1.01</td>\n",
       "      <td>0.90</td>\n",
       "      <td>0</td>\n",
       "      <td>0</td>\n",
       "      <td>1</td>\n",
       "      <td>0</td>\n",
       "    </tr>\n",
       "    <tr>\n",
       "      <th>2</th>\n",
       "      <td>506</td>\n",
       "      <td>0</td>\n",
       "      <td>0</td>\n",
       "      <td>0</td>\n",
       "      <td>1</td>\n",
       "      <td>0</td>\n",
       "      <td>0</td>\n",
       "      <td>0</td>\n",
       "      <td>3.0</td>\n",
       "      <td>1</td>\n",
       "      <td>10.0</td>\n",
       "      <td>0.95</td>\n",
       "      <td>0.74</td>\n",
       "      <td>0</td>\n",
       "      <td>0</td>\n",
       "      <td>1</td>\n",
       "      <td>0</td>\n",
       "    </tr>\n",
       "    <tr>\n",
       "      <th>3</th>\n",
       "      <td>56</td>\n",
       "      <td>0</td>\n",
       "      <td>0</td>\n",
       "      <td>0</td>\n",
       "      <td>1</td>\n",
       "      <td>0</td>\n",
       "      <td>0</td>\n",
       "      <td>0</td>\n",
       "      <td>20.0</td>\n",
       "      <td>1</td>\n",
       "      <td>12.0</td>\n",
       "      <td>0.87</td>\n",
       "      <td>0.82</td>\n",
       "      <td>0</td>\n",
       "      <td>0</td>\n",
       "      <td>0</td>\n",
       "      <td>1</td>\n",
       "    </tr>\n",
       "    <tr>\n",
       "      <th>4</th>\n",
       "      <td>61</td>\n",
       "      <td>0</td>\n",
       "      <td>0</td>\n",
       "      <td>0</td>\n",
       "      <td>1</td>\n",
       "      <td>0</td>\n",
       "      <td>0</td>\n",
       "      <td>0</td>\n",
       "      <td>6.0</td>\n",
       "      <td>1</td>\n",
       "      <td>12.0</td>\n",
       "      <td>0.87</td>\n",
       "      <td>0.77</td>\n",
       "      <td>0</td>\n",
       "      <td>0</td>\n",
       "      <td>0</td>\n",
       "      <td>1</td>\n",
       "    </tr>\n",
       "    <tr>\n",
       "      <th>...</th>\n",
       "      <td>...</td>\n",
       "      <td>...</td>\n",
       "      <td>...</td>\n",
       "      <td>...</td>\n",
       "      <td>...</td>\n",
       "      <td>...</td>\n",
       "      <td>...</td>\n",
       "      <td>...</td>\n",
       "      <td>...</td>\n",
       "      <td>...</td>\n",
       "      <td>...</td>\n",
       "      <td>...</td>\n",
       "      <td>...</td>\n",
       "      <td>...</td>\n",
       "      <td>...</td>\n",
       "      <td>...</td>\n",
       "      <td>...</td>\n",
       "    </tr>\n",
       "    <tr>\n",
       "      <th>815</th>\n",
       "      <td>423</td>\n",
       "      <td>0</td>\n",
       "      <td>0</td>\n",
       "      <td>1</td>\n",
       "      <td>0</td>\n",
       "      <td>0</td>\n",
       "      <td>0</td>\n",
       "      <td>1</td>\n",
       "      <td>19.0</td>\n",
       "      <td>1</td>\n",
       "      <td>4.0</td>\n",
       "      <td>1.05</td>\n",
       "      <td>0.84</td>\n",
       "      <td>1</td>\n",
       "      <td>0</td>\n",
       "      <td>1</td>\n",
       "      <td>0</td>\n",
       "    </tr>\n",
       "    <tr>\n",
       "      <th>816</th>\n",
       "      <td>424</td>\n",
       "      <td>0</td>\n",
       "      <td>0</td>\n",
       "      <td>1</td>\n",
       "      <td>0</td>\n",
       "      <td>0</td>\n",
       "      <td>0</td>\n",
       "      <td>1</td>\n",
       "      <td>12.0</td>\n",
       "      <td>1</td>\n",
       "      <td>10.0</td>\n",
       "      <td>1.05</td>\n",
       "      <td>0.94</td>\n",
       "      <td>1</td>\n",
       "      <td>0</td>\n",
       "      <td>1</td>\n",
       "      <td>0</td>\n",
       "    </tr>\n",
       "    <tr>\n",
       "      <th>817</th>\n",
       "      <td>426</td>\n",
       "      <td>0</td>\n",
       "      <td>0</td>\n",
       "      <td>1</td>\n",
       "      <td>0</td>\n",
       "      <td>0</td>\n",
       "      <td>0</td>\n",
       "      <td>1</td>\n",
       "      <td>5.0</td>\n",
       "      <td>1</td>\n",
       "      <td>19.0</td>\n",
       "      <td>1.11</td>\n",
       "      <td>1.05</td>\n",
       "      <td>1</td>\n",
       "      <td>0</td>\n",
       "      <td>0</td>\n",
       "      <td>0</td>\n",
       "    </tr>\n",
       "    <tr>\n",
       "      <th>818</th>\n",
       "      <td>427</td>\n",
       "      <td>0</td>\n",
       "      <td>0</td>\n",
       "      <td>1</td>\n",
       "      <td>0</td>\n",
       "      <td>0</td>\n",
       "      <td>0</td>\n",
       "      <td>1</td>\n",
       "      <td>0.0</td>\n",
       "      <td>0</td>\n",
       "      <td>7.0</td>\n",
       "      <td>1.11</td>\n",
       "      <td>1.09</td>\n",
       "      <td>1</td>\n",
       "      <td>0</td>\n",
       "      <td>0</td>\n",
       "      <td>1</td>\n",
       "    </tr>\n",
       "    <tr>\n",
       "      <th>819</th>\n",
       "      <td>428</td>\n",
       "      <td>0</td>\n",
       "      <td>0</td>\n",
       "      <td>1</td>\n",
       "      <td>0</td>\n",
       "      <td>0</td>\n",
       "      <td>0</td>\n",
       "      <td>1</td>\n",
       "      <td>10.0</td>\n",
       "      <td>0</td>\n",
       "      <td>7.0</td>\n",
       "      <td>1.05</td>\n",
       "      <td>0.89</td>\n",
       "      <td>1</td>\n",
       "      <td>0</td>\n",
       "      <td>0</td>\n",
       "      <td>1</td>\n",
       "    </tr>\n",
       "  </tbody>\n",
       "</table>\n",
       "<p>820 rows × 17 columns</p>\n",
       "</div>"
      ],
      "text/plain": [
       "      ID  SouthJ  CentralJ  NorthJ  PA1  PA2  Shore  Treatment  Empl  C.Owned  \\\n",
       "0     46       0         0       0    1    0      0          0  30.0        0   \n",
       "1     49       0         0       0    1    0      0          0   6.5        0   \n",
       "2    506       0         0       0    1    0      0          0   3.0        1   \n",
       "3     56       0         0       0    1    0      0          0  20.0        1   \n",
       "4     61       0         0       0    1    0      0          0   6.0        1   \n",
       "..   ...     ...       ...     ...  ...  ...    ...        ...   ...      ...   \n",
       "815  423       0         0       1    0    0      0          1  19.0        1   \n",
       "816  424       0         0       1    0    0      0          1  12.0        1   \n",
       "817  426       0         0       1    0    0      0          1   5.0        1   \n",
       "818  427       0         0       1    0    0      0          1   0.0        0   \n",
       "819  428       0         0       1    0    0      0          1  10.0        0   \n",
       "\n",
       "     Hours.Opening  Soda  Fries  Post  BK  KFC  Wendys  \n",
       "0             16.5  1.03   1.03     0   1    0       0  \n",
       "1             13.0  1.01   0.90     0   0    1       0  \n",
       "2             10.0  0.95   0.74     0   0    1       0  \n",
       "3             12.0  0.87   0.82     0   0    0       1  \n",
       "4             12.0  0.87   0.77     0   0    0       1  \n",
       "..             ...   ...    ...   ...  ..  ...     ...  \n",
       "815            4.0  1.05   0.84     1   0    1       0  \n",
       "816           10.0  1.05   0.94     1   0    1       0  \n",
       "817           19.0  1.11   1.05     1   0    0       0  \n",
       "818            7.0  1.11   1.09     1   0    0       1  \n",
       "819            7.0  1.05   0.89     1   0    0       1  \n",
       "\n",
       "[820 rows x 17 columns]"
      ]
     },
     "execution_count": 45,
     "metadata": {},
     "output_type": "execute_result"
    }
   ],
   "source": [
    "dd_df = dd_df_encoded.rename(columns={'Group':'Treatment', 'Treatment': 'Post'})\n",
    "dd_df"
   ]
  },
  {
   "cell_type": "code",
   "execution_count": 46,
   "id": "c364c9ea",
   "metadata": {
    "deletable": false,
    "editable": false
   },
   "outputs": [
    {
     "data": {
      "text/html": [
       "<p><strong><pre style='display: inline;'>q3_2</pre></strong> passed! 🍀</p>"
      ],
      "text/plain": [
       "q3_2 results: All test cases passed!"
      ]
     },
     "execution_count": 46,
     "metadata": {},
     "output_type": "execute_result"
    }
   ],
   "source": [
    "grader.check(\"q3_2\")"
   ]
  },
  {
   "cell_type": "markdown",
   "id": "397de827",
   "metadata": {
    "deletable": false,
    "editable": false
   },
   "source": [
    "**Question 3.3:** Now, using `statsmodels` run the diff-in-diff from equation (1.1). Run this regression *without* your controls.\n",
    "\n",
    "*Hint*: [here](https://www.statsmodels.org/dev/examples/notebooks/generated/ols.html) is how to run OLS in statsmodels. \n",
    "\n",
    "*Hint*: think of what data type `X` and `y` should be.  "
   ]
  },
  {
   "cell_type": "code",
   "execution_count": 47,
   "id": "fc9048ce",
   "metadata": {
    "tags": []
   },
   "outputs": [
    {
     "name": "stdout",
     "output_type": "stream",
     "text": [
      "                            OLS Regression Results                            \n",
      "==============================================================================\n",
      "Dep. Variable:                   Empl   R-squared:                         nan\n",
      "Model:                            OLS   Adj. R-squared:                    nan\n",
      "Method:                 Least Squares   F-statistic:                       nan\n",
      "Date:                Fri, 14 Mar 2025   Prob (F-statistic):                nan\n",
      "Time:                        13:04:15   Log-Likelihood:                    nan\n",
      "No. Observations:                 820   AIC:                               nan\n",
      "Df Residuals:                     816   BIC:                               nan\n",
      "Df Model:                           3                                         \n",
      "Covariance Type:            nonrobust                                         \n",
      "==================================================================================\n",
      "                     coef    std err          t      P>|t|      [0.025      0.975]\n",
      "----------------------------------------------------------------------------------\n",
      "const                 nan        nan        nan        nan         nan         nan\n",
      "Treatment             nan        nan        nan        nan         nan         nan\n",
      "Post                  nan        nan        nan        nan         nan         nan\n",
      "Treatment_Post        nan        nan        nan        nan         nan         nan\n",
      "==============================================================================\n",
      "Omnibus:                          nan   Durbin-Watson:                     nan\n",
      "Prob(Omnibus):                    nan   Jarque-Bera (JB):                  nan\n",
      "Skew:                             nan   Prob(JB):                          nan\n",
      "Kurtosis:                         nan   Cond. No.                         11.4\n",
      "==============================================================================\n",
      "\n",
      "Notes:\n",
      "[1] Standard Errors assume that the covariance matrix of the errors is correctly specified.\n"
     ]
    }
   ],
   "source": [
    "# Create your Treatment*Post interaction term.\n",
    "dd_df['Treatment_Post'] = dd_df['Treatment']*dd_df['Post']\n",
    "\n",
    "# Define your dependent variable.\n",
    "y = dd_df['Empl'] \n",
    "\n",
    "# Define your independent variables, including the interaction term\n",
    "X = dd_df[['Treatment', 'Post', 'Treatment_Post']]\n",
    "\n",
    "# Add a constant to the model (the intercept)\n",
    "X = sm.add_constant(X)\n",
    "\n",
    "# Create the OLS model\n",
    "model = sm.OLS(y, X)\n",
    "\n",
    "# Fit the model\n",
    "results_33 =  model.fit()\n",
    "\n",
    "# Print the summary of the model\n",
    "print(results_33.summary())"
   ]
  },
  {
   "cell_type": "code",
   "execution_count": 48,
   "id": "a6816f68",
   "metadata": {
    "deletable": false,
    "editable": false
   },
   "outputs": [
    {
     "data": {
      "text/html": [
       "<p><strong><pre style='display: inline;'>q3_3</pre></strong> passed! 💯</p>"
      ],
      "text/plain": [
       "q3_3 results: All test cases passed!"
      ]
     },
     "execution_count": 48,
     "metadata": {},
     "output_type": "execute_result"
    }
   ],
   "source": [
    "grader.check(\"q3_3\")"
   ]
  },
  {
   "cell_type": "markdown",
   "id": "951eda7b",
   "metadata": {
    "deletable": false,
    "editable": false
   },
   "source": [
    "**Question 3.4:** You notice that your output from the `print(results.summary())` gives you all NaN's as cofficients and std errors. This may be because of NaNs in the data. For the sake of simplicity, feel free to just drop all the NaNs for now."
   ]
  },
  {
   "cell_type": "code",
   "execution_count": 49,
   "id": "d9b44968",
   "metadata": {
    "tags": []
   },
   "outputs": [
    {
     "data": {
      "text/html": [
       "<div>\n",
       "<style scoped>\n",
       "    .dataframe tbody tr th:only-of-type {\n",
       "        vertical-align: middle;\n",
       "    }\n",
       "\n",
       "    .dataframe tbody tr th {\n",
       "        vertical-align: top;\n",
       "    }\n",
       "\n",
       "    .dataframe thead th {\n",
       "        text-align: right;\n",
       "    }\n",
       "</style>\n",
       "<table border=\"1\" class=\"dataframe\">\n",
       "  <thead>\n",
       "    <tr style=\"text-align: right;\">\n",
       "      <th></th>\n",
       "      <th>ID</th>\n",
       "      <th>SouthJ</th>\n",
       "      <th>CentralJ</th>\n",
       "      <th>NorthJ</th>\n",
       "      <th>PA1</th>\n",
       "      <th>PA2</th>\n",
       "      <th>Shore</th>\n",
       "      <th>Treatment</th>\n",
       "      <th>Empl</th>\n",
       "      <th>C.Owned</th>\n",
       "      <th>Hours.Opening</th>\n",
       "      <th>Soda</th>\n",
       "      <th>Fries</th>\n",
       "      <th>Post</th>\n",
       "      <th>BK</th>\n",
       "      <th>KFC</th>\n",
       "      <th>Wendys</th>\n",
       "      <th>Treatment_Post</th>\n",
       "    </tr>\n",
       "  </thead>\n",
       "  <tbody>\n",
       "    <tr>\n",
       "      <th>0</th>\n",
       "      <td>46</td>\n",
       "      <td>0</td>\n",
       "      <td>0</td>\n",
       "      <td>0</td>\n",
       "      <td>1</td>\n",
       "      <td>0</td>\n",
       "      <td>0</td>\n",
       "      <td>0</td>\n",
       "      <td>30.0</td>\n",
       "      <td>0</td>\n",
       "      <td>16.5</td>\n",
       "      <td>1.03</td>\n",
       "      <td>1.03</td>\n",
       "      <td>0</td>\n",
       "      <td>1</td>\n",
       "      <td>0</td>\n",
       "      <td>0</td>\n",
       "      <td>0</td>\n",
       "    </tr>\n",
       "    <tr>\n",
       "      <th>1</th>\n",
       "      <td>49</td>\n",
       "      <td>0</td>\n",
       "      <td>0</td>\n",
       "      <td>0</td>\n",
       "      <td>1</td>\n",
       "      <td>0</td>\n",
       "      <td>0</td>\n",
       "      <td>0</td>\n",
       "      <td>6.5</td>\n",
       "      <td>0</td>\n",
       "      <td>13.0</td>\n",
       "      <td>1.01</td>\n",
       "      <td>0.90</td>\n",
       "      <td>0</td>\n",
       "      <td>0</td>\n",
       "      <td>1</td>\n",
       "      <td>0</td>\n",
       "      <td>0</td>\n",
       "    </tr>\n",
       "    <tr>\n",
       "      <th>2</th>\n",
       "      <td>506</td>\n",
       "      <td>0</td>\n",
       "      <td>0</td>\n",
       "      <td>0</td>\n",
       "      <td>1</td>\n",
       "      <td>0</td>\n",
       "      <td>0</td>\n",
       "      <td>0</td>\n",
       "      <td>3.0</td>\n",
       "      <td>1</td>\n",
       "      <td>10.0</td>\n",
       "      <td>0.95</td>\n",
       "      <td>0.74</td>\n",
       "      <td>0</td>\n",
       "      <td>0</td>\n",
       "      <td>1</td>\n",
       "      <td>0</td>\n",
       "      <td>0</td>\n",
       "    </tr>\n",
       "    <tr>\n",
       "      <th>3</th>\n",
       "      <td>56</td>\n",
       "      <td>0</td>\n",
       "      <td>0</td>\n",
       "      <td>0</td>\n",
       "      <td>1</td>\n",
       "      <td>0</td>\n",
       "      <td>0</td>\n",
       "      <td>0</td>\n",
       "      <td>20.0</td>\n",
       "      <td>1</td>\n",
       "      <td>12.0</td>\n",
       "      <td>0.87</td>\n",
       "      <td>0.82</td>\n",
       "      <td>0</td>\n",
       "      <td>0</td>\n",
       "      <td>0</td>\n",
       "      <td>1</td>\n",
       "      <td>0</td>\n",
       "    </tr>\n",
       "    <tr>\n",
       "      <th>4</th>\n",
       "      <td>61</td>\n",
       "      <td>0</td>\n",
       "      <td>0</td>\n",
       "      <td>0</td>\n",
       "      <td>1</td>\n",
       "      <td>0</td>\n",
       "      <td>0</td>\n",
       "      <td>0</td>\n",
       "      <td>6.0</td>\n",
       "      <td>1</td>\n",
       "      <td>12.0</td>\n",
       "      <td>0.87</td>\n",
       "      <td>0.77</td>\n",
       "      <td>0</td>\n",
       "      <td>0</td>\n",
       "      <td>0</td>\n",
       "      <td>1</td>\n",
       "      <td>0</td>\n",
       "    </tr>\n",
       "    <tr>\n",
       "      <th>...</th>\n",
       "      <td>...</td>\n",
       "      <td>...</td>\n",
       "      <td>...</td>\n",
       "      <td>...</td>\n",
       "      <td>...</td>\n",
       "      <td>...</td>\n",
       "      <td>...</td>\n",
       "      <td>...</td>\n",
       "      <td>...</td>\n",
       "      <td>...</td>\n",
       "      <td>...</td>\n",
       "      <td>...</td>\n",
       "      <td>...</td>\n",
       "      <td>...</td>\n",
       "      <td>...</td>\n",
       "      <td>...</td>\n",
       "      <td>...</td>\n",
       "      <td>...</td>\n",
       "    </tr>\n",
       "    <tr>\n",
       "      <th>815</th>\n",
       "      <td>423</td>\n",
       "      <td>0</td>\n",
       "      <td>0</td>\n",
       "      <td>1</td>\n",
       "      <td>0</td>\n",
       "      <td>0</td>\n",
       "      <td>0</td>\n",
       "      <td>1</td>\n",
       "      <td>19.0</td>\n",
       "      <td>1</td>\n",
       "      <td>4.0</td>\n",
       "      <td>1.05</td>\n",
       "      <td>0.84</td>\n",
       "      <td>1</td>\n",
       "      <td>0</td>\n",
       "      <td>1</td>\n",
       "      <td>0</td>\n",
       "      <td>1</td>\n",
       "    </tr>\n",
       "    <tr>\n",
       "      <th>816</th>\n",
       "      <td>424</td>\n",
       "      <td>0</td>\n",
       "      <td>0</td>\n",
       "      <td>1</td>\n",
       "      <td>0</td>\n",
       "      <td>0</td>\n",
       "      <td>0</td>\n",
       "      <td>1</td>\n",
       "      <td>12.0</td>\n",
       "      <td>1</td>\n",
       "      <td>10.0</td>\n",
       "      <td>1.05</td>\n",
       "      <td>0.94</td>\n",
       "      <td>1</td>\n",
       "      <td>0</td>\n",
       "      <td>1</td>\n",
       "      <td>0</td>\n",
       "      <td>1</td>\n",
       "    </tr>\n",
       "    <tr>\n",
       "      <th>817</th>\n",
       "      <td>426</td>\n",
       "      <td>0</td>\n",
       "      <td>0</td>\n",
       "      <td>1</td>\n",
       "      <td>0</td>\n",
       "      <td>0</td>\n",
       "      <td>0</td>\n",
       "      <td>1</td>\n",
       "      <td>5.0</td>\n",
       "      <td>1</td>\n",
       "      <td>19.0</td>\n",
       "      <td>1.11</td>\n",
       "      <td>1.05</td>\n",
       "      <td>1</td>\n",
       "      <td>0</td>\n",
       "      <td>0</td>\n",
       "      <td>0</td>\n",
       "      <td>1</td>\n",
       "    </tr>\n",
       "    <tr>\n",
       "      <th>818</th>\n",
       "      <td>427</td>\n",
       "      <td>0</td>\n",
       "      <td>0</td>\n",
       "      <td>1</td>\n",
       "      <td>0</td>\n",
       "      <td>0</td>\n",
       "      <td>0</td>\n",
       "      <td>1</td>\n",
       "      <td>0.0</td>\n",
       "      <td>0</td>\n",
       "      <td>7.0</td>\n",
       "      <td>1.11</td>\n",
       "      <td>1.09</td>\n",
       "      <td>1</td>\n",
       "      <td>0</td>\n",
       "      <td>0</td>\n",
       "      <td>1</td>\n",
       "      <td>1</td>\n",
       "    </tr>\n",
       "    <tr>\n",
       "      <th>819</th>\n",
       "      <td>428</td>\n",
       "      <td>0</td>\n",
       "      <td>0</td>\n",
       "      <td>1</td>\n",
       "      <td>0</td>\n",
       "      <td>0</td>\n",
       "      <td>0</td>\n",
       "      <td>1</td>\n",
       "      <td>10.0</td>\n",
       "      <td>0</td>\n",
       "      <td>7.0</td>\n",
       "      <td>1.05</td>\n",
       "      <td>0.89</td>\n",
       "      <td>1</td>\n",
       "      <td>0</td>\n",
       "      <td>0</td>\n",
       "      <td>1</td>\n",
       "      <td>1</td>\n",
       "    </tr>\n",
       "  </tbody>\n",
       "</table>\n",
       "<p>757 rows × 18 columns</p>\n",
       "</div>"
      ],
      "text/plain": [
       "      ID  SouthJ  CentralJ  NorthJ  PA1  PA2  Shore  Treatment  Empl  C.Owned  \\\n",
       "0     46       0         0       0    1    0      0          0  30.0        0   \n",
       "1     49       0         0       0    1    0      0          0   6.5        0   \n",
       "2    506       0         0       0    1    0      0          0   3.0        1   \n",
       "3     56       0         0       0    1    0      0          0  20.0        1   \n",
       "4     61       0         0       0    1    0      0          0   6.0        1   \n",
       "..   ...     ...       ...     ...  ...  ...    ...        ...   ...      ...   \n",
       "815  423       0         0       1    0    0      0          1  19.0        1   \n",
       "816  424       0         0       1    0    0      0          1  12.0        1   \n",
       "817  426       0         0       1    0    0      0          1   5.0        1   \n",
       "818  427       0         0       1    0    0      0          1   0.0        0   \n",
       "819  428       0         0       1    0    0      0          1  10.0        0   \n",
       "\n",
       "     Hours.Opening  Soda  Fries  Post  BK  KFC  Wendys  Treatment_Post  \n",
       "0             16.5  1.03   1.03     0   1    0       0               0  \n",
       "1             13.0  1.01   0.90     0   0    1       0               0  \n",
       "2             10.0  0.95   0.74     0   0    1       0               0  \n",
       "3             12.0  0.87   0.82     0   0    0       1               0  \n",
       "4             12.0  0.87   0.77     0   0    0       1               0  \n",
       "..             ...   ...    ...   ...  ..  ...     ...             ...  \n",
       "815            4.0  1.05   0.84     1   0    1       0               1  \n",
       "816           10.0  1.05   0.94     1   0    1       0               1  \n",
       "817           19.0  1.11   1.05     1   0    0       0               1  \n",
       "818            7.0  1.11   1.09     1   0    0       1               1  \n",
       "819            7.0  1.05   0.89     1   0    0       1               1  \n",
       "\n",
       "[757 rows x 18 columns]"
      ]
     },
     "execution_count": 49,
     "metadata": {},
     "output_type": "execute_result"
    }
   ],
   "source": [
    "dd_df = dd_df.dropna()\n",
    "dd_df"
   ]
  },
  {
   "cell_type": "code",
   "execution_count": 50,
   "id": "2542cb09",
   "metadata": {
    "deletable": false,
    "editable": false
   },
   "outputs": [
    {
     "data": {
      "text/html": [
       "<p><strong><pre style='display: inline;'>q3_4</pre></strong> passed! 🙌</p>"
      ],
      "text/plain": [
       "q3_4 results: All test cases passed!"
      ]
     },
     "execution_count": 50,
     "metadata": {},
     "output_type": "execute_result"
    }
   ],
   "source": [
    "grader.check(\"q3_4\")"
   ]
  },
  {
   "cell_type": "markdown",
   "id": "a9cbd6bb",
   "metadata": {
    "deletable": false,
    "editable": false
   },
   "source": [
    "**Question 3.5:** Repeat the analysis from `q3.3` and estimate the Diff-in-Diff estimator. Again, do not include controls from `q3.1` here. \n",
    "\n",
    "Note: Please set your `.fit()` variable to `results_35`. "
   ]
  },
  {
   "cell_type": "code",
   "execution_count": 51,
   "id": "ee0cf4a9",
   "metadata": {
    "tags": []
   },
   "outputs": [
    {
     "name": "stdout",
     "output_type": "stream",
     "text": [
      "                            OLS Regression Results                            \n",
      "==============================================================================\n",
      "Dep. Variable:                   Empl   R-squared:                       0.011\n",
      "Model:                            OLS   Adj. R-squared:                  0.007\n",
      "Method:                 Least Squares   F-statistic:                     2.695\n",
      "Date:                Fri, 14 Mar 2025   Prob (F-statistic):             0.0450\n",
      "Time:                        13:04:15   Log-Likelihood:                -2655.9\n",
      "No. Observations:                 757   AIC:                             5320.\n",
      "Df Residuals:                     753   BIC:                             5338.\n",
      "Df Model:                           3                                         \n",
      "Covariance Type:            nonrobust                                         \n",
      "==================================================================================\n",
      "                     coef    std err          t      P>|t|      [0.025      0.975]\n",
      "----------------------------------------------------------------------------------\n",
      "const             10.4408      0.929     11.233      0.000       8.616      12.265\n",
      "Treatment         -2.8472      1.037     -2.745      0.006      -4.883      -0.811\n",
      "Post              -2.6943      1.337     -2.015      0.044      -5.320      -0.069\n",
      "Treatment_Post     3.5708      1.490      2.397      0.017       0.646       6.495\n",
      "==============================================================================\n",
      "Omnibus:                      174.779   Durbin-Watson:                   1.955\n",
      "Prob(Omnibus):                  0.000   Jarque-Bera (JB):              333.989\n",
      "Skew:                           1.338   Prob(JB):                     2.99e-73\n",
      "Kurtosis:                       4.852   Cond. No.                         11.2\n",
      "==============================================================================\n",
      "\n",
      "Notes:\n",
      "[1] Standard Errors assume that the covariance matrix of the errors is correctly specified.\n"
     ]
    },
    {
     "name": "stderr",
     "output_type": "stream",
     "text": [
      "/tmp/ipykernel_122/1785273536.py:1: SettingWithCopyWarning: \n",
      "A value is trying to be set on a copy of a slice from a DataFrame.\n",
      "Try using .loc[row_indexer,col_indexer] = value instead\n",
      "\n",
      "See the caveats in the documentation: https://pandas.pydata.org/pandas-docs/stable/user_guide/indexing.html#returning-a-view-versus-a-copy\n",
      "  dd_df['Treatment_Post'] = dd_df['Treatment']*dd_df['Post']\n"
     ]
    }
   ],
   "source": [
    "dd_df['Treatment_Post'] = dd_df['Treatment']*dd_df['Post']\n",
    "\n",
    "# Define your dependent variable.\n",
    "y = dd_df['Empl'] \n",
    "\n",
    "# Define your independent variables, including the interaction term\n",
    "X = dd_df[['Treatment', 'Post', 'Treatment_Post']]\n",
    "\n",
    "# Add a constant to the model (the intercept)\n",
    "X = sm.add_constant(X)\n",
    "\n",
    "# Create the OLS model\n",
    "model = sm.OLS(y, X)\n",
    "\n",
    "# Fit the model\n",
    "results_35 =  model.fit()\n",
    "\n",
    "# Print the summary of the model\n",
    "print(results_35.summary())"
   ]
  },
  {
   "cell_type": "code",
   "execution_count": 52,
   "id": "99264707",
   "metadata": {
    "deletable": false,
    "editable": false
   },
   "outputs": [
    {
     "data": {
      "text/html": [
       "<p><strong><pre style='display: inline;'>q3_5</pre></strong> passed! 🌈</p>"
      ],
      "text/plain": [
       "q3_5 results: All test cases passed!"
      ]
     },
     "execution_count": 52,
     "metadata": {},
     "output_type": "execute_result"
    }
   ],
   "source": [
    "grader.check(\"q3_5\")"
   ]
  },
  {
   "cell_type": "markdown",
   "id": "5274e26b",
   "metadata": {
    "deletable": false,
    "editable": false
   },
   "source": [
    "**Question 3.6:** We notice that our $R^2$ (one of many goodness-of-fit parameters we can use) is very low. To aid our analysis, Include the controls you specified in the $\\LaTeX$ equation above.\n",
    "\n",
    "Note: Please set your `.fit()` variable to `results_37`. "
   ]
  },
  {
   "cell_type": "code",
   "execution_count": 53,
   "id": "1f993c2a",
   "metadata": {
    "tags": []
   },
   "outputs": [
    {
     "name": "stdout",
     "output_type": "stream",
     "text": [
      "                            OLS Regression Results                            \n",
      "==============================================================================\n",
      "Dep. Variable:                   Empl   R-squared:                       0.088\n",
      "Model:                            OLS   Adj. R-squared:                  0.081\n",
      "Method:                 Least Squares   F-statistic:                     12.12\n",
      "Date:                Fri, 14 Mar 2025   Prob (F-statistic):           5.02e-13\n",
      "Time:                        13:04:15   Log-Likelihood:                -2625.0\n",
      "No. Observations:                 757   AIC:                             5264.\n",
      "Df Residuals:                     750   BIC:                             5296.\n",
      "Df Model:                           6                                         \n",
      "Covariance Type:            nonrobust                                         \n",
      "==================================================================================\n",
      "                     coef    std err          t      P>|t|      [0.025      0.975]\n",
      "----------------------------------------------------------------------------------\n",
      "const              1.2470      3.451      0.361      0.718      -5.528       8.022\n",
      "Treatment         -2.9825      1.056     -2.825      0.005      -5.055      -0.910\n",
      "Post              -1.4365      1.300     -1.105      0.270      -3.989       1.116\n",
      "Treatment_Post     4.1275      1.435      2.877      0.004       1.311       6.944\n",
      "Soda               2.0506      4.222      0.486      0.627      -6.238      10.339\n",
      "Fries             -0.3659      3.549     -0.103      0.918      -7.333       6.602\n",
      "Hours.Opening      0.5209      0.071      7.380      0.000       0.382       0.659\n",
      "==============================================================================\n",
      "Omnibus:                      186.131   Durbin-Watson:                   2.042\n",
      "Prob(Omnibus):                  0.000   Jarque-Bera (JB):              397.265\n",
      "Skew:                           1.351   Prob(JB):                     5.43e-87\n",
      "Kurtosis:                       5.301   Cond. No.                         254.\n",
      "==============================================================================\n",
      "\n",
      "Notes:\n",
      "[1] Standard Errors assume that the covariance matrix of the errors is correctly specified.\n"
     ]
    },
    {
     "name": "stderr",
     "output_type": "stream",
     "text": [
      "/tmp/ipykernel_122/2088443665.py:1: SettingWithCopyWarning: \n",
      "A value is trying to be set on a copy of a slice from a DataFrame.\n",
      "Try using .loc[row_indexer,col_indexer] = value instead\n",
      "\n",
      "See the caveats in the documentation: https://pandas.pydata.org/pandas-docs/stable/user_guide/indexing.html#returning-a-view-versus-a-copy\n",
      "  dd_df['Treatment_Post'] = dd_df['Treatment']*dd_df['Post']\n"
     ]
    }
   ],
   "source": [
    "dd_df['Treatment_Post'] = dd_df['Treatment']*dd_df['Post']\n",
    "\n",
    "# Define your dependent variable.\n",
    "y = dd_df['Empl'] \n",
    "\n",
    "# Define your independent variables, including the interaction term\n",
    "X = dd_df[['Treatment', 'Post', 'Treatment_Post', 'Soda', 'Fries','Hours.Opening']]\n",
    "\n",
    "# Add a constant to the model (the intercept)\n",
    "X = sm.add_constant(X)\n",
    "\n",
    "# Create the OLS model\n",
    "model = sm.OLS(y, X)\n",
    "\n",
    "# Fit the model\n",
    "results_37 =  model.fit()\n",
    "\n",
    "# Print the summary of the model\n",
    "print(results_37.summary())"
   ]
  },
  {
   "cell_type": "code",
   "execution_count": 54,
   "id": "6c9ee647",
   "metadata": {
    "deletable": false,
    "editable": false
   },
   "outputs": [
    {
     "data": {
      "text/html": [
       "<p><strong><pre style='display: inline;'>q3_6</pre></strong> passed! 🌈</p>"
      ],
      "text/plain": [
       "q3_6 results: All test cases passed!"
      ]
     },
     "execution_count": 54,
     "metadata": {},
     "output_type": "execute_result"
    }
   ],
   "source": [
    "grader.check(\"q3_6\")"
   ]
  },
  {
   "cell_type": "markdown",
   "id": "d000c100",
   "metadata": {
    "deletable": false,
    "editable": false
   },
   "source": [
    "<!-- BEGIN QUESTION -->\n",
    "\n",
    "**Question 3.7:** Controlling for opening hours, and prices of soda & fries - What is the diff-in-diff estimator for the impact on introducing a minimum wage in New Jersey? Remember to include units and give a brief interpretation of our findings following the SSS framework from above. Be sure to mention how your $R^2$ changed, and it's practical implications. \n",
    "\n",
    "*Note*: Please format your markdown nicely (like the following cell) to aid readability."
   ]
  },
  {
   "cell_type": "markdown",
   "id": "d616e6d5-33c4-439e-9dbd-f4a53a68a0d9",
   "metadata": {
    "deletable": false,
    "editable": false
   },
   "source": [
    "#### Sign, Size, and Significance (SSS) framework for interpreting regression outputs\n",
    "\n",
    "##### 1. Sign\n",
    "\n",
    "- **Expected Sign**: What sign did you expect the estimated parameter(s) to have? Why?\n",
    "- **Actual Sign**: Does your estimate(s) have this sign (i.e., are you surprised or reassured by your results)?\n",
    "\n",
    "##### 2. Significance\n",
    "\n",
    "- **Statistical Significance**: Is the estimate(s) statistically different from zero?\n",
    "- **T-Statistic**: What is the t-statistic of this hypothesis?\n",
    "\n",
    "##### 3. Size\n",
    "\n",
    "- **Effect on Dependent Variable**: How do changes in this variable affect the dependent variable according to your estimation?\n",
    "- **Economic Significance**: Is this an economically meaningful effect size?\n",
    "\n",
    "This framework is borrowed from Berkeley's EEP C118 course. See more [here.](https://are.berkeley.edu/courses/EEP118/spring2014/section/Handout4_2014.pdf)"
   ]
  },
  {
   "cell_type": "markdown",
   "id": "13cd3971",
   "metadata": {},
   "source": [
    "1. Sign:\n",
    "We expect a negative coefficient for the policy impact because\n",
    "in theory, increasing the minimum wage leads to lower employment due to higher labor costs. However coefficient for the DiD estimator (Treatment_Post) is +4.1275. This is contradictory with the theory and it suggests that  after the minimum wage increase employment in NJ's fast-food sector increased by 4.13 employees per restaurant compared to PA.\n",
    "\n",
    "2. Significance\n",
    "The p-value is 0.004, which is < 0.01. So there is a strong evidence that the observed increase in employment is not due to random chance. Moreover, \n",
    "the t-statistic for this estimate is 2.87. Since 2.877 > 2.576, we reject the null hypothesis and confirm that the effect of the minimum wage increase is statistically significant.\n",
    "                                                              \n",
    "3. Size\n",
    "This is an economically meaningful effect size. After the wage increase, fast-food restaurants in NJ employed about 4.13 more workers per restaurant on average compared to PA.\n",
    "Economic Significance: It challenges the classical labor demand theory saying that raising the minimum wage will reduce employment. Instead, employment appears to have increased, possibly due to higher worker retention or increased productivity. \n"
   ]
  },
  {
   "cell_type": "markdown",
   "id": "a55703cb-f36c-4990-9b3c-471f213b8846",
   "metadata": {
    "deletable": false,
    "editable": false
   },
   "source": [
    "<!-- END QUESTION -->\n",
    "\n",
    "<hr>"
   ]
  },
  {
   "cell_type": "markdown",
   "id": "9d72c7cd",
   "metadata": {},
   "source": [
    "## Part 4: Visualizing the diff-in-diff estimator"
   ]
  },
  {
   "cell_type": "markdown",
   "id": "6fa6eab8",
   "metadata": {},
   "source": [
    "Below, we plot the difference in difference estimates from question 3.5 and embark on a visual interpretation of our findings."
   ]
  },
  {
   "cell_type": "code",
   "execution_count": 55,
   "id": "c369ac07",
   "metadata": {
    "tags": []
   },
   "outputs": [
    {
     "data": {
      "image/png": "[encoded data removed]",
      "text/plain": [
       "<Figure size 1400x700 with 1 Axes>"
      ]
     },
     "metadata": {},
     "output_type": "display_data"
    },
    {
     "data": {
      "text/plain": [
       "<Figure size 600x500 with 0 Axes>"
      ]
     },
     "metadata": {},
     "output_type": "display_data"
    }
   ],
   "source": [
    "# First, calculate mean employment by group and time\n",
    "mean_empl = dd_df.groupby(['Treatment', 'Post'])['Empl'].mean().reset_index()\n",
    "\n",
    "# Now, plot these averages with lines to show the change from pre to post for each group\n",
    "plt.figure(figsize=(14, 7))\n",
    "sns.lineplot(x='Post', y='Empl', hue='Treatment', data=mean_empl, marker='o', palette='viridis')\n",
    "\n",
    "plt.title('Difference-in-Differences: Employment Pre and Post Treatment')\n",
    "plt.xlabel('Period (0 = Pre-Treatment, 1 = Post-Treatment)')\n",
    "plt.ylabel('Average Employment')\n",
    "plt.xticks(ticks=[0, 1], labels=['Pre-Treatment', 'Post-Treatment'])\n",
    "plt.legend(title='Group / State', labels=['Control / PA', 'Treatment / NJ'])\n",
    "\n",
    "# Adding annotations for clarity\n",
    "for line in range(mean_empl.shape[0]):\n",
    "    plt.text(mean_empl.Post[line]+0.02, mean_empl.Empl[line], \n",
    "             f\"{mean_empl.Empl[line]:.2f}\", horizontalalignment='left', \n",
    "             size='medium', color='black', weight='semibold')\n",
    "\n",
    "plt.figure(figsize=(6, 5)) \n",
    "plt.tight_layout()\n",
    "plt.show();"
   ]
  },
  {
   "cell_type": "markdown",
   "id": "a7565a87",
   "metadata": {
    "deletable": false,
    "editable": false,
    "tags": []
   },
   "source": [
    "**Question 4.1:** Now, let's make sure we can visually interpret our findings. Match the regression output numbers below to the appropriate regression equation.\n",
    "\n",
    "**Equations:**\n",
    "\n",
    "a) $const$\n",
    "\n",
    "b) $const + \\text{Treatment}$\n",
    "\n",
    "c) $const + \\text{Post}$\n",
    "\n",
    "d) $const + \\text{Post} + \\text{Treatment} + \\text{Treatment*Post}$\n",
    "\n",
    "**Regression Output Numbers:**\n",
    "\n",
    "1. $10.44$\n",
    "2. $7.59$\n",
    "3. $7.75$\n",
    "4. $8.47$\n"
   ]
  },
  {
   "cell_type": "code",
   "execution_count": 56,
   "id": "02a0df54",
   "metadata": {
    "tags": []
   },
   "outputs": [],
   "source": [
    "a = 10.44 # These should be either 10.44, or 7.59, or 7.75, or 8.47\n",
    "b = 7.59\n",
    "c = 7.75\n",
    "d = 8.47 \n"
   ]
  },
  {
   "cell_type": "code",
   "execution_count": 57,
   "id": "f10a8e26",
   "metadata": {
    "deletable": false,
    "editable": false
   },
   "outputs": [
    {
     "data": {
      "text/html": [
       "<p><strong><pre style='display: inline;'>q4_1</pre></strong> passed! ✨</p>"
      ],
      "text/plain": [
       "q4_1 results: All test cases passed!"
      ]
     },
     "execution_count": 57,
     "metadata": {},
     "output_type": "execute_result"
    }
   ],
   "source": [
    "grader.check(\"q4_1\")"
   ]
  },
  {
   "cell_type": "markdown",
   "id": "ac7605e6",
   "metadata": {
    "deletable": false,
    "editable": false
   },
   "source": [
    "**Question 4.2:** Using the numbers from the visualization above, calculate the difference in difference estimate. It should match your estimate from question 3.5."
   ]
  },
  {
   "cell_type": "code",
   "execution_count": 58,
   "id": "1c437d6c",
   "metadata": {
    "tags": []
   },
   "outputs": [
    {
     "data": {
      "text/plain": [
       "3.5700000000000003"
      ]
     },
     "execution_count": 58,
     "metadata": {},
     "output_type": "execute_result"
    }
   ],
   "source": [
    "DD_estimate = (d-b) - (c-a) \n",
    "#(Post-Treatment−Pre-Treatment) NJ -   (Post-Treatment−Pre-Treatment) PA\n",
    "DD_estimate"
   ]
  },
  {
   "cell_type": "code",
   "execution_count": 59,
   "id": "8c47f507",
   "metadata": {
    "deletable": false,
    "editable": false
   },
   "outputs": [
    {
     "data": {
      "text/html": [
       "<p><strong><pre style='display: inline;'>q4_2</pre></strong> passed! 🌈</p>"
      ],
      "text/plain": [
       "q4_2 results: All test cases passed!"
      ]
     },
     "execution_count": 59,
     "metadata": {},
     "output_type": "execute_result"
    }
   ],
   "source": [
    "grader.check(\"q4_2\")"
   ]
  },
  {
   "cell_type": "markdown",
   "id": "61fe2284",
   "metadata": {
    "deletable": false,
    "editable": false
   },
   "source": [
    "<!-- BEGIN QUESTION -->\n",
    "\n",
    "**Question 4.3:** Looking back to your response to question 1.1 and the plot from above, what are some limitations in Card's Difference and Differences model's setup. \n",
    "\n",
    "*Hint*: Think of the assumptions used in Difference in Differences. "
   ]
  },
  {
   "cell_type": "markdown",
   "id": "cf6954d1",
   "metadata": {},
   "source": [
    "The model assumes that NJ and PA would have had similar employment trends if the minimum wage hadn’t changed. But the plot shows that employment in PA was already dropping before the wage increase, which could make the results misleading.  \n",
    "\n",
    "It also doesn’t take into account other economic factors that might have played a role in employment changes. Plus, some workers from PA might have crossed into NJ for higher wages, making it look like NJ's employment went up because of the minimum wage increase when it could just be worker migration."
   ]
  },
  {
   "cell_type": "markdown",
   "id": "231632b6-2975-4b75-85d8-6bbd21bee7bd",
   "metadata": {
    "deletable": false,
    "editable": false
   },
   "source": [
    "<!-- END QUESTION -->\n",
    "\n",
    "<hr>"
   ]
  },
  {
   "cell_type": "markdown",
   "id": "51d7f774",
   "metadata": {},
   "source": [
    "### Conclusion\n",
    "Congratulations, you have finished lab 7! We hope you enjoyed the lab - you're one step closer in becoming a master replicator of economics papers...\n",
    "\n",
    "Have a great week!\n",
    "\n",
    "Justin, Luis, and Dawson.\n"
   ]
  },
  {
   "cell_type": "markdown",
   "id": "3fe12911",
   "metadata": {
    "tags": []
   },
   "source": [
    "---\n",
    "## Sources\n",
    "\n",
    "*FOUNDATIONS OF PROGRAM EVALUATION III REGRESSION TOOLS FOR CAUSAL ANALYSIS* by Data Science for \n",
    "Public Service (https://ds4ps.org/PROG-EVAL-III/index.html), retrieved 22 Feb 2024."
   ]
  },
  {
   "cell_type": "markdown",
   "id": "58107bae",
   "metadata": {
    "deletable": false,
    "editable": false
   },
   "source": [
    "## Submission\n",
    "\n",
    "Make sure you have run all cells in your notebook in order before running the cell below, so that all images/graphs appear in the output. The cell below will generate a zip file for you to submit. **Please save before exporting!**"
   ]
  },
  {
   "cell_type": "code",
   "execution_count": 60,
   "id": "e78d11ff",
   "metadata": {
    "deletable": false,
    "editable": false
   },
   "outputs": [
    {
     "name": "stdout",
     "output_type": "stream",
     "text": [
      "Running your submission against local test cases...\n",
      "\n",
      "\n",
      "Your submission received the following results when run against available test cases:\n",
      "\n",
      "    q2_2 results: All test cases passed!\n",
      "\n",
      "    q2_3 results: All test cases passed!\n",
      "\n",
      "    q2_4 results: All test cases passed!\n",
      "\n",
      "    q2_5 results: All test cases passed!\n",
      "\n",
      "    q3_2 results: All test cases passed!\n",
      "\n",
      "    q3_3 results: All test cases passed!\n",
      "\n",
      "    q3_4 results: All test cases passed!\n",
      "\n",
      "    q3_5 results: All test cases passed!\n",
      "\n",
      "    q3_6 results: All test cases passed!\n",
      "\n",
      "    q4_1 results: All test cases passed!\n",
      "\n",
      "    q4_2 results: All test cases passed!\n"
     ]
    },
    {
     "data": {
      "text/html": [
       "\n",
       "                    <p>\n",
       "                        Your submission has been exported. Click\n",
       "                        <a href=\"lab07_2025_03_14T13_04_15_471882.zip\" download=\"lab07_2025_03_14T13_04_15_471882.zip\" target=\"_blank\">here</a> to download\n",
       "                        the zip file.\n",
       "                    </p>\n",
       "                "
      ],
      "text/plain": [
       "<IPython.core.display.HTML object>"
      ]
     },
     "metadata": {},
     "output_type": "display_data"
    }
   ],
   "source": [
    "# Save your notebook first, then run this cell to export your submission.\n",
    "grader.export(run_tests=True)"
   ]
  },
  {
   "cell_type": "markdown",
   "id": "2ffcf475",
   "metadata": {},
   "source": [
    " "
   ]
  }
 ],
 "metadata": {
  "kernelspec": {
   "display_name": "Python 3 (ipykernel)",
   "language": "python",
   "name": "python3"
  },
  "language_info": {
   "codemirror_mode": {
    "name": "ipython",
    "version": 3
   },
   "file_extension": ".py",
   "mimetype": "text/x-python",
   "name": "python",
   "nbconvert_exporter": "python",
   "pygments_lexer": "ipython3",
   "version": "3.11.11"
  },
  "otter": {
   "OK_FORMAT": true,
   "export_pdf_failure_message": "PDF did not generate, please submit screenshots for questions 1.1, 1.2, 2.1, 3.1, 3.7, and 4.3.",
   "require_no_pdf_confirmation": true,
   "tests": {
    "q2_2": {
     "name": "q2_2",
     "points": 1,
     "suites": [
      {
       "cases": [
        {
         "code": ">>> assert dd_df_summarized.shape == (8, 15)\n",
         "hidden": false,
         "locked": false
        }
       ],
       "scored": true,
       "setup": "",
       "teardown": "",
       "type": "doctest"
      }
     ]
    },
    "q2_3": {
     "name": "q2_3",
     "points": 1,
     "suites": [
      {
       "cases": [
        {
         "code": ">>> assert np.isclose(mean_employees, 8.238778054862843)\n",
         "hidden": false,
         "locked": false
        }
       ],
       "scored": true,
       "setup": "",
       "teardown": "",
       "type": "doctest"
      }
     ]
    },
    "q2_4": {
     "name": "q2_4",
     "points": 1,
     "suites": [
      {
       "cases": [
        {
         "code": ">>> assert np.isclose(per_treatment, 80.73170731707317)\n",
         "hidden": false,
         "locked": false
        }
       ],
       "scored": true,
       "setup": "",
       "teardown": "",
       "type": "doctest"
      }
     ]
    },
    "q2_5": {
     "name": "q2_5",
     "points": 2,
     "suites": [
      {
       "cases": [
        {
         "code": ">>> assert dd_df_encoded.shape == (820, 17)\n",
         "hidden": false,
         "locked": false
        },
        {
         "code": ">>> expected_columns = ['BK', 'KFC', 'Wendys']\n>>> assert all((column in dd_df_encoded.columns for column in expected_columns))\n",
         "hidden": false,
         "locked": false
        }
       ],
       "scored": true,
       "setup": "",
       "teardown": "",
       "type": "doctest"
      }
     ]
    },
    "q3_2": {
     "name": "q3_2",
     "points": 1,
     "suites": [
      {
       "cases": [
        {
         "code": ">>> expected_columns_after_rename = ['Treatment', 'Post']\n>>> assert all((column in dd_df.columns for column in expected_columns_after_rename))\n",
         "hidden": false,
         "locked": false
        },
        {
         "code": ">>> original_columns = ['Group']\n>>> assert all((column not in dd_df.columns for column in original_columns))\n",
         "hidden": false,
         "locked": false
        }
       ],
       "scored": true,
       "setup": "",
       "teardown": "",
       "type": "doctest"
      }
     ]
    },
    "q3_3": {
     "name": "q3_3",
     "points": 2,
     "suites": [
      {
       "cases": [
        {
         "code": ">>> assert np.isnan(results_33.params.const)\n",
         "hidden": false,
         "locked": false
        },
        {
         "code": ">>> assert len(results_33.params) == 4\n",
         "hidden": false,
         "locked": false
        }
       ],
       "scored": true,
       "setup": "",
       "teardown": "",
       "type": "doctest"
      }
     ]
    },
    "q3_4": {
     "name": "q3_4",
     "points": 1,
     "suites": [
      {
       "cases": [
        {
         "code": ">>> expected_shape = (757, 18)\n>>> assert dd_df.shape == expected_shape\n",
         "hidden": false,
         "locked": false
        },
        {
         "code": ">>> assert not dd_df.isna().any().any()\n",
         "hidden": false,
         "locked": false
        }
       ],
       "scored": true,
       "setup": "",
       "teardown": "",
       "type": "doctest"
      }
     ]
    },
    "q3_5": {
     "name": "q3_5",
     "points": 1,
     "suites": [
      {
       "cases": [
        {
         "code": ">>> expected_coefficients = {'const': {'coef': 10.4408, 'se': 0.929, 'ci_lower': 8.616, 'ci_upper': 12.265}, 'Treatment': {'coef': -2.8472, 'se': 1.037, 'ci_lower': -4.883, 'ci_upper': -0.811}, 'Post': {'coef': -2.6943, 'se': 1.337, 'ci_lower': -5.32, 'ci_upper': -0.069}, 'Treatment_Post': {'coef': 3.5708, 'se': 1.49, 'ci_lower': 0.646, 'ci_upper': 6.495}}\n>>> tolerance = 0.001\n>>> for var, expected in expected_coefficients.items():\n...     coef, se = (results_35.params[var], results_35.bse[var])\n...     ci_lower, ci_upper = results_35.conf_int().loc[var]\n...     assert abs(coef - expected['coef']) < tolerance\n...     assert abs(se - expected['se']) < tolerance\n...     assert abs(ci_lower - expected['ci_lower']) < tolerance\n...     assert abs(ci_upper - expected['ci_upper']) < tolerance\n",
         "hidden": false,
         "locked": false
        }
       ],
       "scored": true,
       "setup": "",
       "teardown": "",
       "type": "doctest"
      }
     ]
    },
    "q3_6": {
     "name": "q3_6",
     "points": 2,
     "suites": [
      {
       "cases": [
        {
         "code": ">>> expected_coefficients = {'const': {'coef': 1.247, 'se': 3.451, 'ci_lower': -5.528, 'ci_upper': 8.022}, 'Treatment': {'coef': -2.9825, 'se': 1.056, 'ci_lower': -5.055, 'ci_upper': -0.91}, 'Post': {'coef': -1.4365, 'se': 1.3, 'ci_lower': -3.989, 'ci_upper': 1.116}, 'Treatment_Post': {'coef': 4.1275, 'se': 1.435, 'ci_lower': 1.311, 'ci_upper': 6.944}, 'Hours.Opening': {'coef': 0.5209, 'se': 0.071, 'ci_lower': 0.382, 'ci_upper': 0.659}, 'Fries': {'coef': -0.3659, 'se': 3.549, 'ci_lower': -7.333, 'ci_upper': 6.602}, 'Soda': {'coef': 2.0506, 'se': 4.222, 'ci_lower': -6.238, 'ci_upper': 10.339}}\n>>> tolerance = 0.001\n>>> for var, expected in expected_coefficients.items():\n...     coef, se = (results_37.params[var], results_37.bse[var])\n...     ci_lower, ci_upper = results_37.conf_int().loc[var]\n...     assert abs(coef - expected['coef']) < tolerance\n...     assert abs(se - expected['se']) < tolerance\n...     assert abs(ci_lower - expected['ci_lower']) < tolerance\n...     assert abs(ci_upper - expected['ci_upper']) < tolerance\n",
         "hidden": false,
         "locked": false
        }
       ],
       "scored": true,
       "setup": "",
       "teardown": "",
       "type": "doctest"
      }
     ]
    },
    "q4_1": {
     "name": "q4_1",
     "points": 1,
     "suites": [
      {
       "cases": [
        {
         "code": ">>> assert np.isclose(np.mean([a, b]), 9.015)\n>>> assert np.isclose(np.mean([b, c]), 7.67)\n>>> assert np.isclose(np.mean([c, d]), 8.11)\n",
         "hidden": false,
         "locked": false
        }
       ],
       "scored": true,
       "setup": "",
       "teardown": "",
       "type": "doctest"
      }
     ]
    },
    "q4_2": {
     "name": "q4_2",
     "points": 1,
     "suites": [
      {
       "cases": [
        {
         "code": ">>> assert np.isclose(DD_estimate, 3.5708, 0.001)\n",
         "hidden": false,
         "locked": false
        }
       ],
       "scored": true,
       "setup": "",
       "teardown": "",
       "type": "doctest"
      }
     ]
    }
   }
  }
 },
 "nbformat": 4,
 "nbformat_minor": 5
}
